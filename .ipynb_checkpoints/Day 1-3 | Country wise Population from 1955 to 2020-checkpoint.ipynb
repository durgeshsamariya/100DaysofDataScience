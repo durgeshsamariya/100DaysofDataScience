{
 "cells": [
  {
   "cell_type": "markdown",
   "metadata": {},
   "source": [
    "# Population by Country from 1955 to 2020"
   ]
  },
  {
   "cell_type": "markdown",
   "metadata": {},
   "source": [
    "# Day 1, 2, 3 of 100 Days of Data Science\n",
    "\n",
    "Checkout my Kaggle [kernel](https://www.kaggle.com/themlphdstudent/country-wise-population-from-1955-to-2020)."
   ]
  },
  {
   "cell_type": "markdown",
   "metadata": {},
   "source": [
    "## Import Libraries"
   ]
  },
  {
   "cell_type": "code",
   "execution_count": 39,
   "metadata": {
    "ExecuteTime": {
     "end_time": "2020-08-17T08:51:55.758944Z",
     "start_time": "2020-08-17T08:51:55.560105Z"
    }
   },
   "outputs": [],
   "source": [
    "# data analysis\n",
    "import pandas as pd\n",
    "\n",
    "# data visualization\n",
    "import matplotlib.pyplot as plt\n",
    "import seaborn as sns\n",
    "import plotly.express as px\n",
    "\n",
    "plt.style.use('fivethirtyeight')\n",
    "\n",
    "%matplotlib inline"
   ]
  },
  {
   "cell_type": "markdown",
   "metadata": {},
   "source": [
    "## Load Data"
   ]
  },
  {
   "cell_type": "code",
   "execution_count": 3,
   "metadata": {
    "ExecuteTime": {
     "end_time": "2020-08-17T07:08:06.677528Z",
     "start_time": "2020-08-17T07:08:06.620376Z"
    }
   },
   "outputs": [
    {
     "name": "stdout",
     "output_type": "stream",
     "text": [
      "CPU times: user 16.9 ms, sys: 19.7 ms, total: 36.6 ms\n",
      "Wall time: 41.4 ms\n"
     ]
    }
   ],
   "source": [
    "%time population = pd.read_csv('./data/Countries Population from 1995 to 2020.csv')"
   ]
  },
  {
   "cell_type": "markdown",
   "metadata": {},
   "source": [
    "Let's have look at example samples."
   ]
  },
  {
   "cell_type": "code",
   "execution_count": 4,
   "metadata": {
    "ExecuteTime": {
     "end_time": "2020-08-17T07:11:57.716334Z",
     "start_time": "2020-08-17T07:11:57.613148Z"
    }
   },
   "outputs": [
    {
     "data": {
      "text/html": [
       "<div>\n",
       "<style scoped>\n",
       "    .dataframe tbody tr th:only-of-type {\n",
       "        vertical-align: middle;\n",
       "    }\n",
       "\n",
       "    .dataframe tbody tr th {\n",
       "        vertical-align: top;\n",
       "    }\n",
       "\n",
       "    .dataframe thead th {\n",
       "        text-align: right;\n",
       "    }\n",
       "</style>\n",
       "<table border=\"1\" class=\"dataframe\">\n",
       "  <thead>\n",
       "    <tr style=\"text-align: right;\">\n",
       "      <th></th>\n",
       "      <th>Year</th>\n",
       "      <th>Country</th>\n",
       "      <th>Population</th>\n",
       "      <th>Yearly % Change</th>\n",
       "      <th>Yearly Change</th>\n",
       "      <th>Migrants (net)</th>\n",
       "      <th>Median Age</th>\n",
       "      <th>Fertility Rate</th>\n",
       "      <th>Density (P/Km²)</th>\n",
       "      <th>Urban Pop %</th>\n",
       "      <th>Urban Population</th>\n",
       "      <th>Country's Share of World Pop %</th>\n",
       "      <th>World Population</th>\n",
       "      <th>Country Global Rank</th>\n",
       "    </tr>\n",
       "  </thead>\n",
       "  <tbody>\n",
       "    <tr>\n",
       "      <th>0</th>\n",
       "      <td>2020</td>\n",
       "      <td>China</td>\n",
       "      <td>1439323776</td>\n",
       "      <td>0.39</td>\n",
       "      <td>5540090</td>\n",
       "      <td>-348399.0</td>\n",
       "      <td>38.4</td>\n",
       "      <td>1.69</td>\n",
       "      <td>153</td>\n",
       "      <td>60.8</td>\n",
       "      <td>875075919.0</td>\n",
       "      <td>18.47</td>\n",
       "      <td>7794798739</td>\n",
       "      <td>1</td>\n",
       "    </tr>\n",
       "    <tr>\n",
       "      <th>1</th>\n",
       "      <td>2019</td>\n",
       "      <td>China</td>\n",
       "      <td>1433783686</td>\n",
       "      <td>0.43</td>\n",
       "      <td>6135900</td>\n",
       "      <td>-348399.0</td>\n",
       "      <td>37.0</td>\n",
       "      <td>1.65</td>\n",
       "      <td>153</td>\n",
       "      <td>59.7</td>\n",
       "      <td>856409297.0</td>\n",
       "      <td>18.59</td>\n",
       "      <td>7713468100</td>\n",
       "      <td>1</td>\n",
       "    </tr>\n",
       "    <tr>\n",
       "      <th>2</th>\n",
       "      <td>2018</td>\n",
       "      <td>China</td>\n",
       "      <td>1427647786</td>\n",
       "      <td>0.47</td>\n",
       "      <td>6625995</td>\n",
       "      <td>-348399.0</td>\n",
       "      <td>37.0</td>\n",
       "      <td>1.65</td>\n",
       "      <td>152</td>\n",
       "      <td>58.6</td>\n",
       "      <td>837022095.0</td>\n",
       "      <td>18.71</td>\n",
       "      <td>7631091040</td>\n",
       "      <td>1</td>\n",
       "    </tr>\n",
       "    <tr>\n",
       "      <th>3</th>\n",
       "      <td>2017</td>\n",
       "      <td>China</td>\n",
       "      <td>1421021791</td>\n",
       "      <td>0.49</td>\n",
       "      <td>6972440</td>\n",
       "      <td>-348399.0</td>\n",
       "      <td>37.0</td>\n",
       "      <td>1.65</td>\n",
       "      <td>151</td>\n",
       "      <td>57.5</td>\n",
       "      <td>816957613.0</td>\n",
       "      <td>18.83</td>\n",
       "      <td>7547858925</td>\n",
       "      <td>1</td>\n",
       "    </tr>\n",
       "    <tr>\n",
       "      <th>4</th>\n",
       "      <td>2016</td>\n",
       "      <td>China</td>\n",
       "      <td>1414049351</td>\n",
       "      <td>0.51</td>\n",
       "      <td>7201481</td>\n",
       "      <td>-348399.0</td>\n",
       "      <td>37.0</td>\n",
       "      <td>1.65</td>\n",
       "      <td>151</td>\n",
       "      <td>56.3</td>\n",
       "      <td>796289491.0</td>\n",
       "      <td>18.94</td>\n",
       "      <td>7464022049</td>\n",
       "      <td>1</td>\n",
       "    </tr>\n",
       "    <tr>\n",
       "      <th>5</th>\n",
       "      <td>2015</td>\n",
       "      <td>China</td>\n",
       "      <td>1406847870</td>\n",
       "      <td>0.55</td>\n",
       "      <td>7607451</td>\n",
       "      <td>-310442.0</td>\n",
       "      <td>36.7</td>\n",
       "      <td>1.64</td>\n",
       "      <td>150</td>\n",
       "      <td>55.1</td>\n",
       "      <td>775352918.0</td>\n",
       "      <td>19.06</td>\n",
       "      <td>7379797139</td>\n",
       "      <td>1</td>\n",
       "    </tr>\n",
       "    <tr>\n",
       "      <th>6</th>\n",
       "      <td>2010</td>\n",
       "      <td>China</td>\n",
       "      <td>1368810615</td>\n",
       "      <td>0.57</td>\n",
       "      <td>7606847</td>\n",
       "      <td>-435677.0</td>\n",
       "      <td>35.0</td>\n",
       "      <td>1.62</td>\n",
       "      <td>146</td>\n",
       "      <td>48.9</td>\n",
       "      <td>669353557.0</td>\n",
       "      <td>19.68</td>\n",
       "      <td>6956823603</td>\n",
       "      <td>1</td>\n",
       "    </tr>\n",
       "    <tr>\n",
       "      <th>7</th>\n",
       "      <td>2005</td>\n",
       "      <td>China</td>\n",
       "      <td>1330776380</td>\n",
       "      <td>0.62</td>\n",
       "      <td>8045123</td>\n",
       "      <td>-393116.0</td>\n",
       "      <td>32.6</td>\n",
       "      <td>1.61</td>\n",
       "      <td>142</td>\n",
       "      <td>42.2</td>\n",
       "      <td>561983323.0</td>\n",
       "      <td>20.34</td>\n",
       "      <td>6541907027</td>\n",
       "      <td>1</td>\n",
       "    </tr>\n",
       "    <tr>\n",
       "      <th>8</th>\n",
       "      <td>2000</td>\n",
       "      <td>China</td>\n",
       "      <td>1290550765</td>\n",
       "      <td>0.79</td>\n",
       "      <td>9926046</td>\n",
       "      <td>-76600.0</td>\n",
       "      <td>30.0</td>\n",
       "      <td>1.62</td>\n",
       "      <td>137</td>\n",
       "      <td>35.7</td>\n",
       "      <td>460377048.0</td>\n",
       "      <td>21.01</td>\n",
       "      <td>6143493823</td>\n",
       "      <td>1</td>\n",
       "    </tr>\n",
       "    <tr>\n",
       "      <th>9</th>\n",
       "      <td>1995</td>\n",
       "      <td>China</td>\n",
       "      <td>1240920535</td>\n",
       "      <td>1.07</td>\n",
       "      <td>12807372</td>\n",
       "      <td>-155996.0</td>\n",
       "      <td>27.4</td>\n",
       "      <td>1.83</td>\n",
       "      <td>132</td>\n",
       "      <td>30.9</td>\n",
       "      <td>383901711.0</td>\n",
       "      <td>21.60</td>\n",
       "      <td>5744212979</td>\n",
       "      <td>1</td>\n",
       "    </tr>\n",
       "    <tr>\n",
       "      <th>10</th>\n",
       "      <td>1990</td>\n",
       "      <td>China</td>\n",
       "      <td>1176883674</td>\n",
       "      <td>1.82</td>\n",
       "      <td>20258863</td>\n",
       "      <td>-86330.0</td>\n",
       "      <td>24.9</td>\n",
       "      <td>2.73</td>\n",
       "      <td>125</td>\n",
       "      <td>26.3</td>\n",
       "      <td>310022147.0</td>\n",
       "      <td>22.09</td>\n",
       "      <td>5327231061</td>\n",
       "      <td>1</td>\n",
       "    </tr>\n",
       "    <tr>\n",
       "      <th>11</th>\n",
       "      <td>1985</td>\n",
       "      <td>China</td>\n",
       "      <td>1075589361</td>\n",
       "      <td>1.47</td>\n",
       "      <td>15100025</td>\n",
       "      <td>-40000.0</td>\n",
       "      <td>23.5</td>\n",
       "      <td>2.52</td>\n",
       "      <td>115</td>\n",
       "      <td>22.8</td>\n",
       "      <td>244946241.0</td>\n",
       "      <td>22.08</td>\n",
       "      <td>4870921740</td>\n",
       "      <td>1</td>\n",
       "    </tr>\n",
       "    <tr>\n",
       "      <th>12</th>\n",
       "      <td>1980</td>\n",
       "      <td>China</td>\n",
       "      <td>1000089235</td>\n",
       "      <td>1.55</td>\n",
       "      <td>14769670</td>\n",
       "      <td>-9401.0</td>\n",
       "      <td>21.9</td>\n",
       "      <td>3.01</td>\n",
       "      <td>107</td>\n",
       "      <td>19.2</td>\n",
       "      <td>192392094.0</td>\n",
       "      <td>22.43</td>\n",
       "      <td>4458003514</td>\n",
       "      <td>1</td>\n",
       "    </tr>\n",
       "    <tr>\n",
       "      <th>13</th>\n",
       "      <td>1975</td>\n",
       "      <td>China</td>\n",
       "      <td>926240885</td>\n",
       "      <td>2.28</td>\n",
       "      <td>19727898</td>\n",
       "      <td>-221096.0</td>\n",
       "      <td>20.3</td>\n",
       "      <td>4.85</td>\n",
       "      <td>99</td>\n",
       "      <td>17.3</td>\n",
       "      <td>160244444.0</td>\n",
       "      <td>22.70</td>\n",
       "      <td>4079480606</td>\n",
       "      <td>1</td>\n",
       "    </tr>\n",
       "    <tr>\n",
       "      <th>14</th>\n",
       "      <td>1970</td>\n",
       "      <td>China</td>\n",
       "      <td>827601394</td>\n",
       "      <td>2.70</td>\n",
       "      <td>20676485</td>\n",
       "      <td>-32000.0</td>\n",
       "      <td>19.3</td>\n",
       "      <td>6.30</td>\n",
       "      <td>88</td>\n",
       "      <td>17.3</td>\n",
       "      <td>143513192.0</td>\n",
       "      <td>22.36</td>\n",
       "      <td>3700437046</td>\n",
       "      <td>1</td>\n",
       "    </tr>\n",
       "    <tr>\n",
       "      <th>15</th>\n",
       "      <td>1965</td>\n",
       "      <td>China</td>\n",
       "      <td>724218968</td>\n",
       "      <td>1.86</td>\n",
       "      <td>12762182</td>\n",
       "      <td>-225145.0</td>\n",
       "      <td>19.8</td>\n",
       "      <td>6.15</td>\n",
       "      <td>77</td>\n",
       "      <td>18.0</td>\n",
       "      <td>130684595.0</td>\n",
       "      <td>21.69</td>\n",
       "      <td>3339583597</td>\n",
       "      <td>1</td>\n",
       "    </tr>\n",
       "    <tr>\n",
       "      <th>16</th>\n",
       "      <td>1960</td>\n",
       "      <td>China</td>\n",
       "      <td>660408056</td>\n",
       "      <td>1.53</td>\n",
       "      <td>9633300</td>\n",
       "      <td>-11900.0</td>\n",
       "      <td>21.3</td>\n",
       "      <td>5.48</td>\n",
       "      <td>70</td>\n",
       "      <td>16.1</td>\n",
       "      <td>106561743.0</td>\n",
       "      <td>21.76</td>\n",
       "      <td>3034949748</td>\n",
       "      <td>1</td>\n",
       "    </tr>\n",
       "    <tr>\n",
       "      <th>17</th>\n",
       "      <td>1955</td>\n",
       "      <td>China</td>\n",
       "      <td>612241554</td>\n",
       "      <td>2.00</td>\n",
       "      <td>11564456</td>\n",
       "      <td>-51205.0</td>\n",
       "      <td>22.2</td>\n",
       "      <td>6.11</td>\n",
       "      <td>65</td>\n",
       "      <td>13.8</td>\n",
       "      <td>84639825.0</td>\n",
       "      <td>22.08</td>\n",
       "      <td>2773019936</td>\n",
       "      <td>1</td>\n",
       "    </tr>\n",
       "    <tr>\n",
       "      <th>18</th>\n",
       "      <td>2020</td>\n",
       "      <td>India</td>\n",
       "      <td>1380004385</td>\n",
       "      <td>0.99</td>\n",
       "      <td>13586631</td>\n",
       "      <td>-532687.0</td>\n",
       "      <td>28.4</td>\n",
       "      <td>2.24</td>\n",
       "      <td>464</td>\n",
       "      <td>35.0</td>\n",
       "      <td>483098640.0</td>\n",
       "      <td>17.70</td>\n",
       "      <td>7794798739</td>\n",
       "      <td>2</td>\n",
       "    </tr>\n",
       "    <tr>\n",
       "      <th>19</th>\n",
       "      <td>2019</td>\n",
       "      <td>India</td>\n",
       "      <td>1366417754</td>\n",
       "      <td>1.02</td>\n",
       "      <td>13775474</td>\n",
       "      <td>-532687.0</td>\n",
       "      <td>27.1</td>\n",
       "      <td>2.36</td>\n",
       "      <td>460</td>\n",
       "      <td>34.5</td>\n",
       "      <td>471828295.0</td>\n",
       "      <td>17.71</td>\n",
       "      <td>7713468100</td>\n",
       "      <td>2</td>\n",
       "    </tr>\n",
       "  </tbody>\n",
       "</table>\n",
       "</div>"
      ],
      "text/plain": [
       "    Year Country  Population  Yearly % Change  Yearly Change  Migrants (net)  \\\n",
       "0   2020   China  1439323776             0.39        5540090       -348399.0   \n",
       "1   2019   China  1433783686             0.43        6135900       -348399.0   \n",
       "2   2018   China  1427647786             0.47        6625995       -348399.0   \n",
       "3   2017   China  1421021791             0.49        6972440       -348399.0   \n",
       "4   2016   China  1414049351             0.51        7201481       -348399.0   \n",
       "5   2015   China  1406847870             0.55        7607451       -310442.0   \n",
       "6   2010   China  1368810615             0.57        7606847       -435677.0   \n",
       "7   2005   China  1330776380             0.62        8045123       -393116.0   \n",
       "8   2000   China  1290550765             0.79        9926046        -76600.0   \n",
       "9   1995   China  1240920535             1.07       12807372       -155996.0   \n",
       "10  1990   China  1176883674             1.82       20258863        -86330.0   \n",
       "11  1985   China  1075589361             1.47       15100025        -40000.0   \n",
       "12  1980   China  1000089235             1.55       14769670         -9401.0   \n",
       "13  1975   China   926240885             2.28       19727898       -221096.0   \n",
       "14  1970   China   827601394             2.70       20676485        -32000.0   \n",
       "15  1965   China   724218968             1.86       12762182       -225145.0   \n",
       "16  1960   China   660408056             1.53        9633300        -11900.0   \n",
       "17  1955   China   612241554             2.00       11564456        -51205.0   \n",
       "18  2020   India  1380004385             0.99       13586631       -532687.0   \n",
       "19  2019   India  1366417754             1.02       13775474       -532687.0   \n",
       "\n",
       "    Median Age  Fertility Rate Density (P/Km²)  Urban Pop %  Urban Population  \\\n",
       "0         38.4            1.69             153         60.8       875075919.0   \n",
       "1         37.0            1.65             153         59.7       856409297.0   \n",
       "2         37.0            1.65             152         58.6       837022095.0   \n",
       "3         37.0            1.65             151         57.5       816957613.0   \n",
       "4         37.0            1.65             151         56.3       796289491.0   \n",
       "5         36.7            1.64             150         55.1       775352918.0   \n",
       "6         35.0            1.62             146         48.9       669353557.0   \n",
       "7         32.6            1.61             142         42.2       561983323.0   \n",
       "8         30.0            1.62             137         35.7       460377048.0   \n",
       "9         27.4            1.83             132         30.9       383901711.0   \n",
       "10        24.9            2.73             125         26.3       310022147.0   \n",
       "11        23.5            2.52             115         22.8       244946241.0   \n",
       "12        21.9            3.01             107         19.2       192392094.0   \n",
       "13        20.3            4.85              99         17.3       160244444.0   \n",
       "14        19.3            6.30              88         17.3       143513192.0   \n",
       "15        19.8            6.15              77         18.0       130684595.0   \n",
       "16        21.3            5.48              70         16.1       106561743.0   \n",
       "17        22.2            6.11              65         13.8        84639825.0   \n",
       "18        28.4            2.24             464         35.0       483098640.0   \n",
       "19        27.1            2.36             460         34.5       471828295.0   \n",
       "\n",
       "    Country's Share of World Pop %  World Population  Country Global Rank  \n",
       "0                            18.47        7794798739                    1  \n",
       "1                            18.59        7713468100                    1  \n",
       "2                            18.71        7631091040                    1  \n",
       "3                            18.83        7547858925                    1  \n",
       "4                            18.94        7464022049                    1  \n",
       "5                            19.06        7379797139                    1  \n",
       "6                            19.68        6956823603                    1  \n",
       "7                            20.34        6541907027                    1  \n",
       "8                            21.01        6143493823                    1  \n",
       "9                            21.60        5744212979                    1  \n",
       "10                           22.09        5327231061                    1  \n",
       "11                           22.08        4870921740                    1  \n",
       "12                           22.43        4458003514                    1  \n",
       "13                           22.70        4079480606                    1  \n",
       "14                           22.36        3700437046                    1  \n",
       "15                           21.69        3339583597                    1  \n",
       "16                           21.76        3034949748                    1  \n",
       "17                           22.08        2773019936                    1  \n",
       "18                           17.70        7794798739                    2  \n",
       "19                           17.71        7713468100                    2  "
      ]
     },
     "execution_count": 4,
     "metadata": {},
     "output_type": "execute_result"
    }
   ],
   "source": [
    "population.head(20)"
   ]
  },
  {
   "cell_type": "markdown",
   "metadata": {},
   "source": [
    "Lets have some statastics of data."
   ]
  },
  {
   "cell_type": "code",
   "execution_count": 5,
   "metadata": {
    "ExecuteTime": {
     "end_time": "2020-08-17T07:12:14.201676Z",
     "start_time": "2020-08-17T07:12:14.176320Z"
    }
   },
   "outputs": [
    {
     "name": "stdout",
     "output_type": "stream",
     "text": [
      "<class 'pandas.core.frame.DataFrame'>\n",
      "RangeIndex: 4195 entries, 0 to 4194\n",
      "Data columns (total 14 columns):\n",
      " #   Column                          Non-Null Count  Dtype  \n",
      "---  ------                          --------------  -----  \n",
      " 0   Year                            4195 non-null   int64  \n",
      " 1   Country                         4195 non-null   object \n",
      " 2   Population                      4195 non-null   int64  \n",
      " 3   Yearly % Change                 4195 non-null   float64\n",
      " 4   Yearly Change                   4195 non-null   int64  \n",
      " 5   Migrants (net)                  3600 non-null   float64\n",
      " 6   Median Age                      3600 non-null   float64\n",
      " 7   Fertility Rate                  3600 non-null   float64\n",
      " 8   Density (P/Km²)                 4195 non-null   object \n",
      " 9   Urban Pop %                     4082 non-null   float64\n",
      " 10  Urban Population                4082 non-null   float64\n",
      " 11  Country's Share of World Pop %  4195 non-null   float64\n",
      " 12  World Population                4195 non-null   int64  \n",
      " 13  Country Global Rank             4195 non-null   int64  \n",
      "dtypes: float64(7), int64(5), object(2)\n",
      "memory usage: 459.0+ KB\n"
     ]
    }
   ],
   "source": [
    "population.info()"
   ]
  },
  {
   "cell_type": "code",
   "execution_count": 6,
   "metadata": {
    "ExecuteTime": {
     "end_time": "2020-08-17T07:12:21.563437Z",
     "start_time": "2020-08-17T07:12:21.455424Z"
    }
   },
   "outputs": [
    {
     "data": {
      "text/html": [
       "<div>\n",
       "<style scoped>\n",
       "    .dataframe tbody tr th:only-of-type {\n",
       "        vertical-align: middle;\n",
       "    }\n",
       "\n",
       "    .dataframe tbody tr th {\n",
       "        vertical-align: top;\n",
       "    }\n",
       "\n",
       "    .dataframe thead th {\n",
       "        text-align: right;\n",
       "    }\n",
       "</style>\n",
       "<table border=\"1\" class=\"dataframe\">\n",
       "  <thead>\n",
       "    <tr style=\"text-align: right;\">\n",
       "      <th></th>\n",
       "      <th>Year</th>\n",
       "      <th>Population</th>\n",
       "      <th>Yearly % Change</th>\n",
       "      <th>Yearly Change</th>\n",
       "      <th>Migrants (net)</th>\n",
       "      <th>Median Age</th>\n",
       "      <th>Fertility Rate</th>\n",
       "      <th>Urban Pop %</th>\n",
       "      <th>Urban Population</th>\n",
       "      <th>Country's Share of World Pop %</th>\n",
       "      <th>World Population</th>\n",
       "      <th>Country Global Rank</th>\n",
       "    </tr>\n",
       "  </thead>\n",
       "  <tbody>\n",
       "    <tr>\n",
       "      <th>count</th>\n",
       "      <td>4195.000000</td>\n",
       "      <td>4.195000e+03</td>\n",
       "      <td>4195.000000</td>\n",
       "      <td>4.195000e+03</td>\n",
       "      <td>3.600000e+03</td>\n",
       "      <td>3600.000000</td>\n",
       "      <td>3600.000000</td>\n",
       "      <td>4082.000000</td>\n",
       "      <td>4.082000e+03</td>\n",
       "      <td>4195.000000</td>\n",
       "      <td>4.195000e+03</td>\n",
       "      <td>4195.000000</td>\n",
       "    </tr>\n",
       "    <tr>\n",
       "      <th>mean</th>\n",
       "      <td>1993.951132</td>\n",
       "      <td>2.443381e+07</td>\n",
       "      <td>1.668927</td>\n",
       "      <td>3.298374e+05</td>\n",
       "      <td>7.430833e+00</td>\n",
       "      <td>25.490278</td>\n",
       "      <td>3.885772</td>\n",
       "      <td>51.067369</td>\n",
       "      <td>1.203792e+07</td>\n",
       "      <td>0.428942</td>\n",
       "      <td>5.676982e+09</td>\n",
       "      <td>117.167342</td>\n",
       "    </tr>\n",
       "    <tr>\n",
       "      <th>std</th>\n",
       "      <td>21.685009</td>\n",
       "      <td>1.067417e+08</td>\n",
       "      <td>1.653519</td>\n",
       "      <td>1.334366e+06</td>\n",
       "      <td>1.063210e+05</td>\n",
       "      <td>8.233313</td>\n",
       "      <td>1.987803</td>\n",
       "      <td>25.996685</td>\n",
       "      <td>4.744380e+07</td>\n",
       "      <td>1.807324</td>\n",
       "      <td>1.732658e+09</td>\n",
       "      <td>67.503854</td>\n",
       "    </tr>\n",
       "    <tr>\n",
       "      <th>min</th>\n",
       "      <td>1955.000000</td>\n",
       "      <td>6.440000e+02</td>\n",
       "      <td>-12.930000</td>\n",
       "      <td>-6.730240e+05</td>\n",
       "      <td>-1.077397e+06</td>\n",
       "      <td>14.400000</td>\n",
       "      <td>0.850000</td>\n",
       "      <td>0.000000</td>\n",
       "      <td>0.000000e+00</td>\n",
       "      <td>0.000000</td>\n",
       "      <td>2.773020e+09</td>\n",
       "      <td>1.000000</td>\n",
       "    </tr>\n",
       "    <tr>\n",
       "      <th>25%</th>\n",
       "      <td>1975.000000</td>\n",
       "      <td>2.800885e+05</td>\n",
       "      <td>0.620000</td>\n",
       "      <td>1.293000e+03</td>\n",
       "      <td>-1.254925e+04</td>\n",
       "      <td>18.500000</td>\n",
       "      <td>2.080000</td>\n",
       "      <td>30.400000</td>\n",
       "      <td>1.381082e+05</td>\n",
       "      <td>0.010000</td>\n",
       "      <td>4.079481e+09</td>\n",
       "      <td>59.000000</td>\n",
       "    </tr>\n",
       "    <tr>\n",
       "      <th>50%</th>\n",
       "      <td>1995.000000</td>\n",
       "      <td>3.687898e+06</td>\n",
       "      <td>1.540000</td>\n",
       "      <td>3.895000e+04</td>\n",
       "      <td>-8.755000e+02</td>\n",
       "      <td>22.750000</td>\n",
       "      <td>3.400000</td>\n",
       "      <td>50.900000</td>\n",
       "      <td>1.579878e+06</td>\n",
       "      <td>0.070000</td>\n",
       "      <td>5.744213e+09</td>\n",
       "      <td>117.000000</td>\n",
       "    </tr>\n",
       "    <tr>\n",
       "      <th>75%</th>\n",
       "      <td>2016.000000</td>\n",
       "      <td>1.306608e+07</td>\n",
       "      <td>2.600000</td>\n",
       "      <td>2.076195e+05</td>\n",
       "      <td>5.000250e+03</td>\n",
       "      <td>31.600000</td>\n",
       "      <td>5.740000</td>\n",
       "      <td>72.700000</td>\n",
       "      <td>6.841242e+06</td>\n",
       "      <td>0.250000</td>\n",
       "      <td>7.464022e+09</td>\n",
       "      <td>175.000000</td>\n",
       "    </tr>\n",
       "    <tr>\n",
       "      <th>max</th>\n",
       "      <td>2020.000000</td>\n",
       "      <td>1.439324e+09</td>\n",
       "      <td>23.300000</td>\n",
       "      <td>2.067648e+07</td>\n",
       "      <td>1.771991e+06</td>\n",
       "      <td>48.400000</td>\n",
       "      <td>8.800000</td>\n",
       "      <td>100.000000</td>\n",
       "      <td>8.750759e+08</td>\n",
       "      <td>22.700000</td>\n",
       "      <td>7.794799e+09</td>\n",
       "      <td>235.000000</td>\n",
       "    </tr>\n",
       "  </tbody>\n",
       "</table>\n",
       "</div>"
      ],
      "text/plain": [
       "              Year    Population  Yearly % Change  Yearly Change  \\\n",
       "count  4195.000000  4.195000e+03      4195.000000   4.195000e+03   \n",
       "mean   1993.951132  2.443381e+07         1.668927   3.298374e+05   \n",
       "std      21.685009  1.067417e+08         1.653519   1.334366e+06   \n",
       "min    1955.000000  6.440000e+02       -12.930000  -6.730240e+05   \n",
       "25%    1975.000000  2.800885e+05         0.620000   1.293000e+03   \n",
       "50%    1995.000000  3.687898e+06         1.540000   3.895000e+04   \n",
       "75%    2016.000000  1.306608e+07         2.600000   2.076195e+05   \n",
       "max    2020.000000  1.439324e+09        23.300000   2.067648e+07   \n",
       "\n",
       "       Migrants (net)   Median Age  Fertility Rate  Urban Pop %  \\\n",
       "count    3.600000e+03  3600.000000     3600.000000  4082.000000   \n",
       "mean     7.430833e+00    25.490278        3.885772    51.067369   \n",
       "std      1.063210e+05     8.233313        1.987803    25.996685   \n",
       "min     -1.077397e+06    14.400000        0.850000     0.000000   \n",
       "25%     -1.254925e+04    18.500000        2.080000    30.400000   \n",
       "50%     -8.755000e+02    22.750000        3.400000    50.900000   \n",
       "75%      5.000250e+03    31.600000        5.740000    72.700000   \n",
       "max      1.771991e+06    48.400000        8.800000   100.000000   \n",
       "\n",
       "       Urban Population  Country's Share of World Pop %  World Population  \\\n",
       "count      4.082000e+03                     4195.000000      4.195000e+03   \n",
       "mean       1.203792e+07                        0.428942      5.676982e+09   \n",
       "std        4.744380e+07                        1.807324      1.732658e+09   \n",
       "min        0.000000e+00                        0.000000      2.773020e+09   \n",
       "25%        1.381082e+05                        0.010000      4.079481e+09   \n",
       "50%        1.579878e+06                        0.070000      5.744213e+09   \n",
       "75%        6.841242e+06                        0.250000      7.464022e+09   \n",
       "max        8.750759e+08                       22.700000      7.794799e+09   \n",
       "\n",
       "       Country Global Rank  \n",
       "count          4195.000000  \n",
       "mean            117.167342  \n",
       "std              67.503854  \n",
       "min               1.000000  \n",
       "25%              59.000000  \n",
       "50%             117.000000  \n",
       "75%             175.000000  \n",
       "max             235.000000  "
      ]
     },
     "execution_count": 6,
     "metadata": {},
     "output_type": "execute_result"
    }
   ],
   "source": [
    "population.describe()"
   ]
  },
  {
   "cell_type": "code",
   "execution_count": 7,
   "metadata": {
    "ExecuteTime": {
     "end_time": "2020-08-17T07:12:29.183417Z",
     "start_time": "2020-08-17T07:12:29.176520Z"
    }
   },
   "outputs": [
    {
     "data": {
      "text/plain": [
       "(4195, 14)"
      ]
     },
     "execution_count": 7,
     "metadata": {},
     "output_type": "execute_result"
    }
   ],
   "source": [
    "population.shape"
   ]
  },
  {
   "cell_type": "code",
   "execution_count": 8,
   "metadata": {
    "ExecuteTime": {
     "end_time": "2020-08-17T07:12:39.491447Z",
     "start_time": "2020-08-17T07:12:39.477889Z"
    }
   },
   "outputs": [
    {
     "data": {
      "text/plain": [
       "Year                                0\n",
       "Country                             0\n",
       "Population                          0\n",
       "Yearly % Change                     0\n",
       "Yearly Change                       0\n",
       "Migrants (net)                    595\n",
       "Median Age                        595\n",
       "Fertility Rate                    595\n",
       "Density (P/Km²)                     0\n",
       "Urban Pop %                       113\n",
       "Urban Population                  113\n",
       "Country's Share of World Pop %      0\n",
       "World Population                    0\n",
       "Country Global Rank                 0\n",
       "dtype: int64"
      ]
     },
     "execution_count": 8,
     "metadata": {},
     "output_type": "execute_result"
    }
   ],
   "source": [
    "population.isnull().sum()"
   ]
  },
  {
   "cell_type": "code",
   "execution_count": 9,
   "metadata": {
    "ExecuteTime": {
     "end_time": "2020-08-17T07:12:45.742854Z",
     "start_time": "2020-08-17T07:12:45.723064Z"
    }
   },
   "outputs": [],
   "source": [
    "population['Density (P/Km²)'] = population['Density (P/Km²)'].str.replace(',','')"
   ]
  },
  {
   "cell_type": "code",
   "execution_count": 10,
   "metadata": {
    "ExecuteTime": {
     "end_time": "2020-08-17T07:12:50.580089Z",
     "start_time": "2020-08-17T07:12:50.561199Z"
    }
   },
   "outputs": [],
   "source": [
    "population['Density (P/Km²)'] = population['Density (P/Km²)'].astype(int)\n",
    "population['Country'] = population['Country'].astype(str)"
   ]
  },
  {
   "cell_type": "code",
   "execution_count": 14,
   "metadata": {
    "ExecuteTime": {
     "end_time": "2020-08-17T07:46:58.441026Z",
     "start_time": "2020-08-17T07:46:58.430529Z"
    }
   },
   "outputs": [],
   "source": [
    "population['Migrants (net)'] = population['Migrants (net)'].fillna(population['Migrants (net)'].median())\n",
    "population['Median Age'] = population['Median Age'].fillna(population['Median Age'].median())\n",
    "population['Fertility Rate'] = population['Fertility Rate'].fillna(population['Fertility Rate'].median())"
   ]
  },
  {
   "cell_type": "code",
   "execution_count": 18,
   "metadata": {
    "ExecuteTime": {
     "end_time": "2020-08-17T07:50:25.810532Z",
     "start_time": "2020-08-17T07:50:25.803167Z"
    }
   },
   "outputs": [],
   "source": [
    "population['Urban Pop %'] = population['Urban Pop %'].fillna(population['Urban Pop %'].mean())\n",
    "population['Urban Population'] = population['Urban Population'].fillna(population['Urban Population'].mean())"
   ]
  },
  {
   "cell_type": "code",
   "execution_count": 19,
   "metadata": {
    "ExecuteTime": {
     "end_time": "2020-08-17T07:50:27.292503Z",
     "start_time": "2020-08-17T07:50:27.280655Z"
    }
   },
   "outputs": [
    {
     "data": {
      "text/plain": [
       "Year                              0\n",
       "Country                           0\n",
       "Population                        0\n",
       "Yearly % Change                   0\n",
       "Yearly Change                     0\n",
       "Migrants (net)                    0\n",
       "Median Age                        0\n",
       "Fertility Rate                    0\n",
       "Density (P/Km²)                   0\n",
       "Urban Pop %                       0\n",
       "Urban Population                  0\n",
       "Country's Share of World Pop %    0\n",
       "World Population                  0\n",
       "Country Global Rank               0\n",
       "dtype: int64"
      ]
     },
     "execution_count": 19,
     "metadata": {},
     "output_type": "execute_result"
    }
   ],
   "source": [
    "population.isnull().sum()"
   ]
  },
  {
   "cell_type": "code",
   "execution_count": 23,
   "metadata": {
    "ExecuteTime": {
     "end_time": "2020-08-17T08:48:05.713601Z",
     "start_time": "2020-08-17T08:48:05.704721Z"
    }
   },
   "outputs": [],
   "source": [
    "population['Density (P/Km²)'] = population['Density (P/Km²)'].replace(',','')"
   ]
  },
  {
   "cell_type": "code",
   "execution_count": 24,
   "metadata": {
    "ExecuteTime": {
     "end_time": "2020-08-17T08:48:07.797298Z",
     "start_time": "2020-08-17T08:48:07.789736Z"
    }
   },
   "outputs": [],
   "source": [
    "population['Density (P/Km²)'] = population['Density (P/Km²)'].astype(int)\n",
    "population['Country'] = population['Country'].astype(str)"
   ]
  },
  {
   "cell_type": "markdown",
   "metadata": {},
   "source": [
    "# Data Analysis and Visualization."
   ]
  },
  {
   "cell_type": "markdown",
   "metadata": {},
   "source": [
    "## 1. Top 30 countries by population in 2020."
   ]
  },
  {
   "cell_type": "code",
   "execution_count": 25,
   "metadata": {
    "ExecuteTime": {
     "end_time": "2020-08-17T08:48:31.270589Z",
     "start_time": "2020-08-17T08:48:29.984993Z"
    }
   },
   "outputs": [
    {
     "data": {
      "image/png": "[encoded data removed]",
      "text/plain": [
       "<Figure size 1800x504 with 1 Axes>"
      ]
     },
     "metadata": {
      "needs_background": "light"
     },
     "output_type": "display_data"
    }
   ],
   "source": [
    "current_population = population[population['Year'] == 2020][:30]\n",
    "\n",
    "plt.rcParams['figure.figsize'] = (25, 7)\n",
    "ax = sns.barplot(x = current_population['Country'][:30], y = current_population['Population'][:30], palette = 'dark')\n",
    "ax.set_xlabel(xlabel = 'Countries', fontsize = 10)\n",
    "ax.set_ylabel(ylabel = 'Population in Billion', fontsize = 10)\n",
    "ax.set_title(label = 'Population of top 30 countries in 2020', fontsize = 20)\n",
    "plt.xticks(rotation = 90)\n",
    "plt.show()"
   ]
  },
  {
   "cell_type": "code",
   "execution_count": 26,
   "metadata": {
    "ExecuteTime": {
     "end_time": "2020-08-17T08:48:40.426700Z",
     "start_time": "2020-08-17T08:48:38.779783Z"
    }
   },
   "outputs": [
    {
     "data": {
      "image/png": "[encoded data removed]",
      "text/plain": [
       "<Figure size 648x1800 with 1 Axes>"
      ]
     },
     "metadata": {
      "needs_background": "light"
     },
     "output_type": "display_data"
    }
   ],
   "source": [
    "plt.figure(figsize=(9,25))\n",
    "ax = sns.barplot(x=\"Population\", y=\"Country\",\n",
    "                 data=current_population, palette=\"tab20c\",\n",
    "                 linewidth = 1)\n",
    "for i,j in enumerate(current_population[\"Population\"]):\n",
    "    ax.text(.5, i, j, weight=\"bold\", color = 'black', fontsize =10)\n",
    "plt.title(\"Population of each country in 2020\")\n",
    "ax.set_xlabel(xlabel = 'Population in Billion', fontsize = 10)\n",
    "ax.set_ylabel(ylabel = 'Countries', fontsize = 10)\n",
    "plt.show()"
   ]
  },
  {
   "cell_type": "markdown",
   "metadata": {},
   "source": [
    "## 2. Total Share in World's population by top 10 countries in 2020."
   ]
  },
  {
   "cell_type": "code",
   "execution_count": 28,
   "metadata": {
    "ExecuteTime": {
     "end_time": "2020-08-17T08:49:21.430611Z",
     "start_time": "2020-08-17T08:49:21.022000Z"
    }
   },
   "outputs": [
    {
     "data": {
      "image/png": "[encoded data removed]",
      "text/plain": [
       "<Figure size 748.8x514.8 with 1 Axes>"
      ]
     },
     "metadata": {},
     "output_type": "display_data"
    }
   ],
   "source": [
    "unique_countries = population['Country'].unique()\n",
    "plt.style.use(\"seaborn-talk\")\n",
    "\n",
    "\n",
    "# set year\n",
    "year = 2020\n",
    "df_last_year = population[population['Year'] == year]\n",
    "series_last_year = df_last_year.groupby('Country')['Population'].sum().sort_values(ascending=False)\n",
    "#print(series_last_year)\n",
    "\n",
    "labels = []\n",
    "values = []\n",
    "country_count = 10\n",
    "other_total = 0\n",
    "for country in series_last_year.index:\n",
    "    if country_count > 0:\n",
    "        labels.append(country)\n",
    "        values.append(series_last_year[country])\n",
    "        country_count -= 1\n",
    "    else:\n",
    "        other_total += series_last_year[country]\n",
    "labels.append(\"Other\")\n",
    "values.append(other_total)\n",
    "\n",
    "wedge_dict = {\n",
    "    'edgecolor': 'black',\n",
    "    'linewidth': 2        \n",
    "}\n",
    "\n",
    "explode = (0, 0.1, 0, 0, 0, 0, 0, 0, 0, 0, 0)\n",
    "\n",
    "plt.title(f\"Total Share of in World's Population the top 10 countries in {year}\")\n",
    "plt.pie(values, labels=labels, explode=explode, autopct='%1.2f%%', wedgeprops=wedge_dict)\n",
    "plt.show()"
   ]
  },
  {
   "cell_type": "markdown",
   "metadata": {},
   "source": [
    "### China have highest share in world's population which 18.47%."
   ]
  },
  {
   "cell_type": "markdown",
   "metadata": {},
   "source": [
    "## 3. Country Wise Data Analysis"
   ]
  },
  {
   "cell_type": "markdown",
   "metadata": {},
   "source": [
    "Lets make country wise data first."
   ]
  },
  {
   "cell_type": "code",
   "execution_count": 29,
   "metadata": {
    "ExecuteTime": {
     "end_time": "2020-08-17T08:50:01.207580Z",
     "start_time": "2020-08-17T08:50:01.203075Z"
    }
   },
   "outputs": [],
   "source": [
    "def country_wise_population(country):\n",
    "    return population[population['Country'] == country]"
   ]
  },
  {
   "cell_type": "markdown",
   "metadata": {},
   "source": [
    "### Let's check China's Population\n",
    "\n",
    "#### Obsevation:\n",
    "- Since 1995, China is globally rank 1 in population.\n",
    "- In 1970, China have highest population increment which is more than 20 million.\n",
    "- Lowest hike in china's population can be seen in 2020, which is about 5.5 million."
   ]
  },
  {
   "cell_type": "code",
   "execution_count": 30,
   "metadata": {
    "ExecuteTime": {
     "end_time": "2020-08-17T08:50:30.568434Z",
     "start_time": "2020-08-17T08:50:30.546266Z"
    }
   },
   "outputs": [],
   "source": [
    "china_population = country_wise_population('China')"
   ]
  },
  {
   "cell_type": "code",
   "execution_count": 31,
   "metadata": {
    "ExecuteTime": {
     "end_time": "2020-08-17T08:50:34.601227Z",
     "start_time": "2020-08-17T08:50:34.212636Z"
    }
   },
   "outputs": [
    {
     "data": {
      "image/png": "[encoded data removed]",
      "text/plain": [
       "<Figure size 720x360 with 1 Axes>"
      ]
     },
     "metadata": {
      "needs_background": "light"
     },
     "output_type": "display_data"
    }
   ],
   "source": [
    "fig = plt.figure(figsize=(10,5))\n",
    "plt.plot(china_population['Year'], china_population['Yearly Change'])\n",
    "plt.title('Yearly Population Change in China')\n",
    "plt.xlabel('Year')\n",
    "plt.ylabel('Population in 10 Million')\n",
    "plt.show()"
   ]
  },
  {
   "cell_type": "code",
   "execution_count": 32,
   "metadata": {
    "ExecuteTime": {
     "end_time": "2020-08-17T08:50:40.333229Z",
     "start_time": "2020-08-17T08:50:40.308134Z"
    }
   },
   "outputs": [
    {
     "data": {
      "text/html": [
       "<div>\n",
       "<style scoped>\n",
       "    .dataframe tbody tr th:only-of-type {\n",
       "        vertical-align: middle;\n",
       "    }\n",
       "\n",
       "    .dataframe tbody tr th {\n",
       "        vertical-align: top;\n",
       "    }\n",
       "\n",
       "    .dataframe thead th {\n",
       "        text-align: right;\n",
       "    }\n",
       "</style>\n",
       "<table border=\"1\" class=\"dataframe\">\n",
       "  <thead>\n",
       "    <tr style=\"text-align: right;\">\n",
       "      <th></th>\n",
       "      <th>Year</th>\n",
       "      <th>Population</th>\n",
       "      <th>Yearly % Change</th>\n",
       "      <th>Yearly Change</th>\n",
       "    </tr>\n",
       "  </thead>\n",
       "  <tbody>\n",
       "    <tr>\n",
       "      <th>14</th>\n",
       "      <td>1970</td>\n",
       "      <td>827601394</td>\n",
       "      <td>2.7</td>\n",
       "      <td>20676485</td>\n",
       "    </tr>\n",
       "  </tbody>\n",
       "</table>\n",
       "</div>"
      ],
      "text/plain": [
       "    Year  Population  Yearly % Change  Yearly Change\n",
       "14  1970   827601394              2.7       20676485"
      ]
     },
     "execution_count": 32,
     "metadata": {},
     "output_type": "execute_result"
    }
   ],
   "source": [
    "china_population[china_population['Yearly Change']==china_population['Yearly Change'].max()][['Year', 'Population', 'Yearly % Change',\n",
    "                                                                                             'Yearly Change']]"
   ]
  },
  {
   "cell_type": "code",
   "execution_count": 33,
   "metadata": {
    "ExecuteTime": {
     "end_time": "2020-08-17T08:50:46.545389Z",
     "start_time": "2020-08-17T08:50:46.531574Z"
    }
   },
   "outputs": [
    {
     "data": {
      "text/html": [
       "<div>\n",
       "<style scoped>\n",
       "    .dataframe tbody tr th:only-of-type {\n",
       "        vertical-align: middle;\n",
       "    }\n",
       "\n",
       "    .dataframe tbody tr th {\n",
       "        vertical-align: top;\n",
       "    }\n",
       "\n",
       "    .dataframe thead th {\n",
       "        text-align: right;\n",
       "    }\n",
       "</style>\n",
       "<table border=\"1\" class=\"dataframe\">\n",
       "  <thead>\n",
       "    <tr style=\"text-align: right;\">\n",
       "      <th></th>\n",
       "      <th>Year</th>\n",
       "      <th>Population</th>\n",
       "      <th>Yearly % Change</th>\n",
       "      <th>Yearly Change</th>\n",
       "    </tr>\n",
       "  </thead>\n",
       "  <tbody>\n",
       "    <tr>\n",
       "      <th>0</th>\n",
       "      <td>2020</td>\n",
       "      <td>1439323776</td>\n",
       "      <td>0.39</td>\n",
       "      <td>5540090</td>\n",
       "    </tr>\n",
       "  </tbody>\n",
       "</table>\n",
       "</div>"
      ],
      "text/plain": [
       "   Year  Population  Yearly % Change  Yearly Change\n",
       "0  2020  1439323776             0.39        5540090"
      ]
     },
     "execution_count": 33,
     "metadata": {},
     "output_type": "execute_result"
    }
   ],
   "source": [
    "china_population[china_population['Yearly Change']==china_population['Yearly Change'].min()][['Year', 'Population', 'Yearly % Change',\n",
    "                                                                                             'Yearly Change']]\n"
   ]
  },
  {
   "cell_type": "markdown",
   "metadata": {},
   "source": [
    "## 4. Top 5 most populated countries in World."
   ]
  },
  {
   "cell_type": "code",
   "execution_count": 34,
   "metadata": {
    "ExecuteTime": {
     "end_time": "2020-08-17T08:51:03.662937Z",
     "start_time": "2020-08-17T08:51:03.656557Z"
    }
   },
   "outputs": [],
   "source": [
    "population_top5_2020 = population[population['Year'] == 2020][:5]\n",
    "top_5_countries = population_top5_2020['Country'].unique()"
   ]
  },
  {
   "cell_type": "code",
   "execution_count": 35,
   "metadata": {
    "ExecuteTime": {
     "end_time": "2020-08-17T08:51:11.991622Z",
     "start_time": "2020-08-17T08:51:11.140772Z"
    }
   },
   "outputs": [
    {
     "data": {
      "text/html": [
       "<style  type=\"text/css\" >\n",
       "    #T_cd0deb56_e066_11ea_b482_2cf0ee25c1aerow0_col0 {\n",
       "            background-color:  #fff7fb;\n",
       "            color:  #000000;\n",
       "        }    #T_cd0deb56_e066_11ea_b482_2cf0ee25c1aerow0_col1 {\n",
       "            background-color:  #fff7fb;\n",
       "            color:  #000000;\n",
       "        }    #T_cd0deb56_e066_11ea_b482_2cf0ee25c1aerow0_col2 {\n",
       "            background-color:  #fff7fb;\n",
       "            color:  #000000;\n",
       "        }    #T_cd0deb56_e066_11ea_b482_2cf0ee25c1aerow0_col3 {\n",
       "            background-color:  #fff7fb;\n",
       "            color:  #000000;\n",
       "        }    #T_cd0deb56_e066_11ea_b482_2cf0ee25c1aerow0_col4 {\n",
       "            background-color:  #fff7fb;\n",
       "            color:  #000000;\n",
       "        }    #T_cd0deb56_e066_11ea_b482_2cf0ee25c1aerow1_col0 {\n",
       "            background-color:  #f7f0f7;\n",
       "            color:  #000000;\n",
       "        }    #T_cd0deb56_e066_11ea_b482_2cf0ee25c1aerow1_col1 {\n",
       "            background-color:  #f9f2f8;\n",
       "            color:  #000000;\n",
       "        }    #T_cd0deb56_e066_11ea_b482_2cf0ee25c1aerow1_col2 {\n",
       "            background-color:  #f7f0f7;\n",
       "            color:  #000000;\n",
       "        }    #T_cd0deb56_e066_11ea_b482_2cf0ee25c1aerow1_col3 {\n",
       "            background-color:  #fbf4f9;\n",
       "            color:  #000000;\n",
       "        }    #T_cd0deb56_e066_11ea_b482_2cf0ee25c1aerow1_col4 {\n",
       "            background-color:  #f1ebf4;\n",
       "            color:  #000000;\n",
       "        }    #T_cd0deb56_e066_11ea_b482_2cf0ee25c1aerow2_col0 {\n",
       "            background-color:  #eae6f1;\n",
       "            color:  #000000;\n",
       "        }    #T_cd0deb56_e066_11ea_b482_2cf0ee25c1aerow2_col1 {\n",
       "            background-color:  #f1ebf5;\n",
       "            color:  #000000;\n",
       "        }    #T_cd0deb56_e066_11ea_b482_2cf0ee25c1aerow2_col2 {\n",
       "            background-color:  #eee8f3;\n",
       "            color:  #000000;\n",
       "        }    #T_cd0deb56_e066_11ea_b482_2cf0ee25c1aerow2_col3 {\n",
       "            background-color:  #f7f0f7;\n",
       "            color:  #000000;\n",
       "        }    #T_cd0deb56_e066_11ea_b482_2cf0ee25c1aerow2_col4 {\n",
       "            background-color:  #e0deed;\n",
       "            color:  #000000;\n",
       "        }    #T_cd0deb56_e066_11ea_b482_2cf0ee25c1aerow3_col0 {\n",
       "            background-color:  #cdd0e5;\n",
       "            color:  #000000;\n",
       "        }    #T_cd0deb56_e066_11ea_b482_2cf0ee25c1aerow3_col1 {\n",
       "            background-color:  #e7e3f0;\n",
       "            color:  #000000;\n",
       "        }    #T_cd0deb56_e066_11ea_b482_2cf0ee25c1aerow3_col2 {\n",
       "            background-color:  #dedcec;\n",
       "            color:  #000000;\n",
       "        }    #T_cd0deb56_e066_11ea_b482_2cf0ee25c1aerow3_col3 {\n",
       "            background-color:  #f0eaf4;\n",
       "            color:  #000000;\n",
       "        }    #T_cd0deb56_e066_11ea_b482_2cf0ee25c1aerow3_col4 {\n",
       "            background-color:  #d3d4e7;\n",
       "            color:  #000000;\n",
       "        }    #T_cd0deb56_e066_11ea_b482_2cf0ee25c1aerow4_col0 {\n",
       "            background-color:  #a4bcda;\n",
       "            color:  #000000;\n",
       "        }    #T_cd0deb56_e066_11ea_b482_2cf0ee25c1aerow4_col1 {\n",
       "            background-color:  #d7d6e9;\n",
       "            color:  #000000;\n",
       "        }    #T_cd0deb56_e066_11ea_b482_2cf0ee25c1aerow4_col2 {\n",
       "            background-color:  #c9cee4;\n",
       "            color:  #000000;\n",
       "        }    #T_cd0deb56_e066_11ea_b482_2cf0ee25c1aerow4_col3 {\n",
       "            background-color:  #e7e3f0;\n",
       "            color:  #000000;\n",
       "        }    #T_cd0deb56_e066_11ea_b482_2cf0ee25c1aerow4_col4 {\n",
       "            background-color:  #c0c9e2;\n",
       "            color:  #000000;\n",
       "        }    #T_cd0deb56_e066_11ea_b482_2cf0ee25c1aerow5_col0 {\n",
       "            background-color:  #80aed2;\n",
       "            color:  #000000;\n",
       "        }    #T_cd0deb56_e066_11ea_b482_2cf0ee25c1aerow5_col1 {\n",
       "            background-color:  #c0c9e2;\n",
       "            color:  #000000;\n",
       "        }    #T_cd0deb56_e066_11ea_b482_2cf0ee25c1aerow5_col2 {\n",
       "            background-color:  #acc0dd;\n",
       "            color:  #000000;\n",
       "        }    #T_cd0deb56_e066_11ea_b482_2cf0ee25c1aerow5_col3 {\n",
       "            background-color:  #d9d8ea;\n",
       "            color:  #000000;\n",
       "        }    #T_cd0deb56_e066_11ea_b482_2cf0ee25c1aerow5_col4 {\n",
       "            background-color:  #abbfdc;\n",
       "            color:  #000000;\n",
       "        }    #T_cd0deb56_e066_11ea_b482_2cf0ee25c1aerow6_col0 {\n",
       "            background-color:  #569dc8;\n",
       "            color:  #000000;\n",
       "        }    #T_cd0deb56_e066_11ea_b482_2cf0ee25c1aerow6_col1 {\n",
       "            background-color:  #a2bcda;\n",
       "            color:  #000000;\n",
       "        }    #T_cd0deb56_e066_11ea_b482_2cf0ee25c1aerow6_col2 {\n",
       "            background-color:  #89b1d4;\n",
       "            color:  #000000;\n",
       "        }    #T_cd0deb56_e066_11ea_b482_2cf0ee25c1aerow6_col3 {\n",
       "            background-color:  #c4cbe3;\n",
       "            color:  #000000;\n",
       "        }    #T_cd0deb56_e066_11ea_b482_2cf0ee25c1aerow6_col4 {\n",
       "            background-color:  #8fb4d6;\n",
       "            color:  #000000;\n",
       "        }    #T_cd0deb56_e066_11ea_b482_2cf0ee25c1aerow7_col0 {\n",
       "            background-color:  #2081b9;\n",
       "            color:  #000000;\n",
       "        }    #T_cd0deb56_e066_11ea_b482_2cf0ee25c1aerow7_col1 {\n",
       "            background-color:  #7dacd1;\n",
       "            color:  #000000;\n",
       "        }    #T_cd0deb56_e066_11ea_b482_2cf0ee25c1aerow7_col2 {\n",
       "            background-color:  #65a3cb;\n",
       "            color:  #000000;\n",
       "        }    #T_cd0deb56_e066_11ea_b482_2cf0ee25c1aerow7_col3 {\n",
       "            background-color:  #a7bddb;\n",
       "            color:  #000000;\n",
       "        }    #T_cd0deb56_e066_11ea_b482_2cf0ee25c1aerow7_col4 {\n",
       "            background-color:  #71a8ce;\n",
       "            color:  #000000;\n",
       "        }    #T_cd0deb56_e066_11ea_b482_2cf0ee25c1aerow8_col0 {\n",
       "            background-color:  #056ead;\n",
       "            color:  #f1f1f1;\n",
       "        }    #T_cd0deb56_e066_11ea_b482_2cf0ee25c1aerow8_col1 {\n",
       "            background-color:  #509ac6;\n",
       "            color:  #000000;\n",
       "        }    #T_cd0deb56_e066_11ea_b482_2cf0ee25c1aerow8_col2 {\n",
       "            background-color:  #3d93c2;\n",
       "            color:  #000000;\n",
       "        }    #T_cd0deb56_e066_11ea_b482_2cf0ee25c1aerow8_col3 {\n",
       "            background-color:  #83afd3;\n",
       "            color:  #000000;\n",
       "        }    #T_cd0deb56_e066_11ea_b482_2cf0ee25c1aerow8_col4 {\n",
       "            background-color:  #4897c4;\n",
       "            color:  #000000;\n",
       "        }    #T_cd0deb56_e066_11ea_b482_2cf0ee25c1aerow9_col0 {\n",
       "            background-color:  #04649d;\n",
       "            color:  #f1f1f1;\n",
       "        }    #T_cd0deb56_e066_11ea_b482_2cf0ee25c1aerow9_col1 {\n",
       "            background-color:  #2685bb;\n",
       "            color:  #000000;\n",
       "        }    #T_cd0deb56_e066_11ea_b482_2cf0ee25c1aerow9_col2 {\n",
       "            background-color:  #1e80b8;\n",
       "            color:  #000000;\n",
       "        }    #T_cd0deb56_e066_11ea_b482_2cf0ee25c1aerow9_col3 {\n",
       "            background-color:  #549cc7;\n",
       "            color:  #000000;\n",
       "        }    #T_cd0deb56_e066_11ea_b482_2cf0ee25c1aerow9_col4 {\n",
       "            background-color:  #1c7fb8;\n",
       "            color:  #000000;\n",
       "        }    #T_cd0deb56_e066_11ea_b482_2cf0ee25c1aerow10_col0 {\n",
       "            background-color:  #045b8e;\n",
       "            color:  #f1f1f1;\n",
       "        }    #T_cd0deb56_e066_11ea_b482_2cf0ee25c1aerow10_col1 {\n",
       "            background-color:  #056ead;\n",
       "            color:  #f1f1f1;\n",
       "        }    #T_cd0deb56_e066_11ea_b482_2cf0ee25c1aerow10_col2 {\n",
       "            background-color:  #056ead;\n",
       "            color:  #f1f1f1;\n",
       "        }    #T_cd0deb56_e066_11ea_b482_2cf0ee25c1aerow10_col3 {\n",
       "            background-color:  #2685bb;\n",
       "            color:  #000000;\n",
       "        }    #T_cd0deb56_e066_11ea_b482_2cf0ee25c1aerow10_col4 {\n",
       "            background-color:  #056ba9;\n",
       "            color:  #f1f1f1;\n",
       "        }    #T_cd0deb56_e066_11ea_b482_2cf0ee25c1aerow11_col0 {\n",
       "            background-color:  #034e7b;\n",
       "            color:  #f1f1f1;\n",
       "        }    #T_cd0deb56_e066_11ea_b482_2cf0ee25c1aerow11_col1 {\n",
       "            background-color:  #045e94;\n",
       "            color:  #f1f1f1;\n",
       "        }    #T_cd0deb56_e066_11ea_b482_2cf0ee25c1aerow11_col2 {\n",
       "            background-color:  #046097;\n",
       "            color:  #f1f1f1;\n",
       "        }    #T_cd0deb56_e066_11ea_b482_2cf0ee25c1aerow11_col3 {\n",
       "            background-color:  #056caa;\n",
       "            color:  #f1f1f1;\n",
       "        }    #T_cd0deb56_e066_11ea_b482_2cf0ee25c1aerow11_col4 {\n",
       "            background-color:  #045c90;\n",
       "            color:  #f1f1f1;\n",
       "        }    #T_cd0deb56_e066_11ea_b482_2cf0ee25c1aerow12_col0 {\n",
       "            background-color:  #034369;\n",
       "            color:  #f1f1f1;\n",
       "        }    #T_cd0deb56_e066_11ea_b482_2cf0ee25c1aerow12_col1 {\n",
       "            background-color:  #034b76;\n",
       "            color:  #f1f1f1;\n",
       "        }    #T_cd0deb56_e066_11ea_b482_2cf0ee25c1aerow12_col2 {\n",
       "            background-color:  #034c78;\n",
       "            color:  #f1f1f1;\n",
       "        }    #T_cd0deb56_e066_11ea_b482_2cf0ee25c1aerow12_col3 {\n",
       "            background-color:  #04588a;\n",
       "            color:  #f1f1f1;\n",
       "        }    #T_cd0deb56_e066_11ea_b482_2cf0ee25c1aerow12_col4 {\n",
       "            background-color:  #034973;\n",
       "            color:  #f1f1f1;\n",
       "        }    #T_cd0deb56_e066_11ea_b482_2cf0ee25c1aerow13_col0 {\n",
       "            background-color:  #023f64;\n",
       "            color:  #f1f1f1;\n",
       "        }    #T_cd0deb56_e066_11ea_b482_2cf0ee25c1aerow13_col1 {\n",
       "            background-color:  #03476f;\n",
       "            color:  #f1f1f1;\n",
       "        }    #T_cd0deb56_e066_11ea_b482_2cf0ee25c1aerow13_col2 {\n",
       "            background-color:  #034871;\n",
       "            color:  #f1f1f1;\n",
       "        }    #T_cd0deb56_e066_11ea_b482_2cf0ee25c1aerow13_col3 {\n",
       "            background-color:  #045280;\n",
       "            color:  #f1f1f1;\n",
       "        }    #T_cd0deb56_e066_11ea_b482_2cf0ee25c1aerow13_col4 {\n",
       "            background-color:  #03456c;\n",
       "            color:  #f1f1f1;\n",
       "        }    #T_cd0deb56_e066_11ea_b482_2cf0ee25c1aerow14_col0 {\n",
       "            background-color:  #023d60;\n",
       "            color:  #f1f1f1;\n",
       "        }    #T_cd0deb56_e066_11ea_b482_2cf0ee25c1aerow14_col1 {\n",
       "            background-color:  #034369;\n",
       "            color:  #f1f1f1;\n",
       "        }    #T_cd0deb56_e066_11ea_b482_2cf0ee25c1aerow14_col2 {\n",
       "            background-color:  #03446a;\n",
       "            color:  #f1f1f1;\n",
       "        }    #T_cd0deb56_e066_11ea_b482_2cf0ee25c1aerow14_col3 {\n",
       "            background-color:  #034b76;\n",
       "            color:  #f1f1f1;\n",
       "        }    #T_cd0deb56_e066_11ea_b482_2cf0ee25c1aerow14_col4 {\n",
       "            background-color:  #034267;\n",
       "            color:  #f1f1f1;\n",
       "        }    #T_cd0deb56_e066_11ea_b482_2cf0ee25c1aerow15_col0 {\n",
       "            background-color:  #023b5d;\n",
       "            color:  #f1f1f1;\n",
       "        }    #T_cd0deb56_e066_11ea_b482_2cf0ee25c1aerow15_col1 {\n",
       "            background-color:  #023f64;\n",
       "            color:  #f1f1f1;\n",
       "        }    #T_cd0deb56_e066_11ea_b482_2cf0ee25c1aerow15_col2 {\n",
       "            background-color:  #023f64;\n",
       "            color:  #f1f1f1;\n",
       "        }    #T_cd0deb56_e066_11ea_b482_2cf0ee25c1aerow15_col3 {\n",
       "            background-color:  #03456c;\n",
       "            color:  #f1f1f1;\n",
       "        }    #T_cd0deb56_e066_11ea_b482_2cf0ee25c1aerow15_col4 {\n",
       "            background-color:  #023e62;\n",
       "            color:  #f1f1f1;\n",
       "        }    #T_cd0deb56_e066_11ea_b482_2cf0ee25c1aerow16_col0 {\n",
       "            background-color:  #02395a;\n",
       "            color:  #f1f1f1;\n",
       "        }    #T_cd0deb56_e066_11ea_b482_2cf0ee25c1aerow16_col1 {\n",
       "            background-color:  #023b5d;\n",
       "            color:  #f1f1f1;\n",
       "        }    #T_cd0deb56_e066_11ea_b482_2cf0ee25c1aerow16_col2 {\n",
       "            background-color:  #023b5d;\n",
       "            color:  #f1f1f1;\n",
       "        }    #T_cd0deb56_e066_11ea_b482_2cf0ee25c1aerow16_col3 {\n",
       "            background-color:  #023e62;\n",
       "            color:  #f1f1f1;\n",
       "        }    #T_cd0deb56_e066_11ea_b482_2cf0ee25c1aerow16_col4 {\n",
       "            background-color:  #023b5d;\n",
       "            color:  #f1f1f1;\n",
       "        }    #T_cd0deb56_e066_11ea_b482_2cf0ee25c1aerow17_col0 {\n",
       "            background-color:  #023858;\n",
       "            color:  #f1f1f1;\n",
       "        }    #T_cd0deb56_e066_11ea_b482_2cf0ee25c1aerow17_col1 {\n",
       "            background-color:  #023858;\n",
       "            color:  #f1f1f1;\n",
       "        }    #T_cd0deb56_e066_11ea_b482_2cf0ee25c1aerow17_col2 {\n",
       "            background-color:  #023858;\n",
       "            color:  #f1f1f1;\n",
       "        }    #T_cd0deb56_e066_11ea_b482_2cf0ee25c1aerow17_col3 {\n",
       "            background-color:  #023858;\n",
       "            color:  #f1f1f1;\n",
       "        }    #T_cd0deb56_e066_11ea_b482_2cf0ee25c1aerow17_col4 {\n",
       "            background-color:  #023858;\n",
       "            color:  #f1f1f1;\n",
       "        }</style><table id=\"T_cd0deb56_e066_11ea_b482_2cf0ee25c1ae\" ><thead>    <tr>        <th class=\"index_name level0\" >Country</th>        <th class=\"col_heading level0 col0\" >China</th>        <th class=\"col_heading level0 col1\" >India</th>        <th class=\"col_heading level0 col2\" >Indonesia</th>        <th class=\"col_heading level0 col3\" >Pakistan</th>        <th class=\"col_heading level0 col4\" >United States</th>    </tr>    <tr>        <th class=\"index_name level0\" >Year</th>        <th class=\"blank\" ></th>        <th class=\"blank\" ></th>        <th class=\"blank\" ></th>        <th class=\"blank\" ></th>        <th class=\"blank\" ></th>    </tr></thead><tbody>\n",
       "                <tr>\n",
       "                        <th id=\"T_cd0deb56_e066_11ea_b482_2cf0ee25c1aelevel0_row0\" class=\"row_heading level0 row0\" >1955</th>\n",
       "                        <td id=\"T_cd0deb56_e066_11ea_b482_2cf0ee25c1aerow0_col0\" class=\"data row0 col0\" >612241554</td>\n",
       "                        <td id=\"T_cd0deb56_e066_11ea_b482_2cf0ee25c1aerow0_col1\" class=\"data row0 col1\" >409880595</td>\n",
       "                        <td id=\"T_cd0deb56_e066_11ea_b482_2cf0ee25c1aerow0_col2\" class=\"data row0 col2\" >77273425</td>\n",
       "                        <td id=\"T_cd0deb56_e066_11ea_b482_2cf0ee25c1aerow0_col3\" class=\"data row0 col3\" >40488030</td>\n",
       "                        <td id=\"T_cd0deb56_e066_11ea_b482_2cf0ee25c1aerow0_col4\" class=\"data row0 col4\" >171685336</td>\n",
       "            </tr>\n",
       "            <tr>\n",
       "                        <th id=\"T_cd0deb56_e066_11ea_b482_2cf0ee25c1aelevel0_row1\" class=\"row_heading level0 row1\" >1960</th>\n",
       "                        <td id=\"T_cd0deb56_e066_11ea_b482_2cf0ee25c1aerow1_col0\" class=\"data row1 col0\" >660408056</td>\n",
       "                        <td id=\"T_cd0deb56_e066_11ea_b482_2cf0ee25c1aerow1_col1\" class=\"data row1 col1\" >450547679</td>\n",
       "                        <td id=\"T_cd0deb56_e066_11ea_b482_2cf0ee25c1aerow1_col2\" class=\"data row1 col2\" >87751068</td>\n",
       "                        <td id=\"T_cd0deb56_e066_11ea_b482_2cf0ee25c1aerow1_col3\" class=\"data row1 col3\" >44988690</td>\n",
       "                        <td id=\"T_cd0deb56_e066_11ea_b482_2cf0ee25c1aerow1_col4\" class=\"data row1 col4\" >186720571</td>\n",
       "            </tr>\n",
       "            <tr>\n",
       "                        <th id=\"T_cd0deb56_e066_11ea_b482_2cf0ee25c1aelevel0_row2\" class=\"row_heading level0 row2\" >1965</th>\n",
       "                        <td id=\"T_cd0deb56_e066_11ea_b482_2cf0ee25c1aerow2_col0\" class=\"data row2 col0\" >724218968</td>\n",
       "                        <td id=\"T_cd0deb56_e066_11ea_b482_2cf0ee25c1aerow2_col1\" class=\"data row2 col1\" >499123324</td>\n",
       "                        <td id=\"T_cd0deb56_e066_11ea_b482_2cf0ee25c1aerow2_col2\" class=\"data row2 col2\" >100267062</td>\n",
       "                        <td id=\"T_cd0deb56_e066_11ea_b482_2cf0ee25c1aerow2_col3\" class=\"data row2 col3\" >50917975</td>\n",
       "                        <td id=\"T_cd0deb56_e066_11ea_b482_2cf0ee25c1aerow2_col4\" class=\"data row2 col4\" >199733676</td>\n",
       "            </tr>\n",
       "            <tr>\n",
       "                        <th id=\"T_cd0deb56_e066_11ea_b482_2cf0ee25c1aelevel0_row3\" class=\"row_heading level0 row3\" >1970</th>\n",
       "                        <td id=\"T_cd0deb56_e066_11ea_b482_2cf0ee25c1aerow3_col0\" class=\"data row3 col0\" >827601394</td>\n",
       "                        <td id=\"T_cd0deb56_e066_11ea_b482_2cf0ee25c1aerow3_col1\" class=\"data row3 col1\" >555189792</td>\n",
       "                        <td id=\"T_cd0deb56_e066_11ea_b482_2cf0ee25c1aerow3_col2\" class=\"data row3 col2\" >114793178</td>\n",
       "                        <td id=\"T_cd0deb56_e066_11ea_b482_2cf0ee25c1aerow3_col3\" class=\"data row3 col3\" >58142060</td>\n",
       "                        <td id=\"T_cd0deb56_e066_11ea_b482_2cf0ee25c1aerow3_col4\" class=\"data row3 col4\" >209513341</td>\n",
       "            </tr>\n",
       "            <tr>\n",
       "                        <th id=\"T_cd0deb56_e066_11ea_b482_2cf0ee25c1aelevel0_row4\" class=\"row_heading level0 row4\" >1975</th>\n",
       "                        <td id=\"T_cd0deb56_e066_11ea_b482_2cf0ee25c1aerow4_col0\" class=\"data row4 col0\" >926240885</td>\n",
       "                        <td id=\"T_cd0deb56_e066_11ea_b482_2cf0ee25c1aerow4_col1\" class=\"data row4 col1\" >623102897</td>\n",
       "                        <td id=\"T_cd0deb56_e066_11ea_b482_2cf0ee25c1aerow4_col2\" class=\"data row4 col2\" >130680727</td>\n",
       "                        <td id=\"T_cd0deb56_e066_11ea_b482_2cf0ee25c1aerow4_col3\" class=\"data row4 col3\" >66816877</td>\n",
       "                        <td id=\"T_cd0deb56_e066_11ea_b482_2cf0ee25c1aerow4_col4\" class=\"data row4 col4\" >219081251</td>\n",
       "            </tr>\n",
       "            <tr>\n",
       "                        <th id=\"T_cd0deb56_e066_11ea_b482_2cf0ee25c1aelevel0_row5\" class=\"row_heading level0 row5\" >1980</th>\n",
       "                        <td id=\"T_cd0deb56_e066_11ea_b482_2cf0ee25c1aerow5_col0\" class=\"data row5 col0\" >1000089235</td>\n",
       "                        <td id=\"T_cd0deb56_e066_11ea_b482_2cf0ee25c1aerow5_col1\" class=\"data row5 col1\" >698952844</td>\n",
       "                        <td id=\"T_cd0deb56_e066_11ea_b482_2cf0ee25c1aerow5_col2\" class=\"data row5 col2\" >147447836</td>\n",
       "                        <td id=\"T_cd0deb56_e066_11ea_b482_2cf0ee25c1aerow5_col3\" class=\"data row5 col3\" >78054343</td>\n",
       "                        <td id=\"T_cd0deb56_e066_11ea_b482_2cf0ee25c1aerow5_col4\" class=\"data row5 col4\" >229476354</td>\n",
       "            </tr>\n",
       "            <tr>\n",
       "                        <th id=\"T_cd0deb56_e066_11ea_b482_2cf0ee25c1aelevel0_row6\" class=\"row_heading level0 row6\" >1985</th>\n",
       "                        <td id=\"T_cd0deb56_e066_11ea_b482_2cf0ee25c1aerow6_col0\" class=\"data row6 col0\" >1075589361</td>\n",
       "                        <td id=\"T_cd0deb56_e066_11ea_b482_2cf0ee25c1aerow6_col1\" class=\"data row6 col1\" >784360008</td>\n",
       "                        <td id=\"T_cd0deb56_e066_11ea_b482_2cf0ee25c1aerow6_col2\" class=\"data row6 col2\" >164982451</td>\n",
       "                        <td id=\"T_cd0deb56_e066_11ea_b482_2cf0ee25c1aerow6_col3\" class=\"data row6 col3\" >92191510</td>\n",
       "                        <td id=\"T_cd0deb56_e066_11ea_b482_2cf0ee25c1aerow6_col4\" class=\"data row6 col4\" >240499825</td>\n",
       "            </tr>\n",
       "            <tr>\n",
       "                        <th id=\"T_cd0deb56_e066_11ea_b482_2cf0ee25c1aelevel0_row7\" class=\"row_heading level0 row7\" >1990</th>\n",
       "                        <td id=\"T_cd0deb56_e066_11ea_b482_2cf0ee25c1aerow7_col0\" class=\"data row7 col0\" >1176883674</td>\n",
       "                        <td id=\"T_cd0deb56_e066_11ea_b482_2cf0ee25c1aerow7_col1\" class=\"data row7 col1\" >873277798</td>\n",
       "                        <td id=\"T_cd0deb56_e066_11ea_b482_2cf0ee25c1aerow7_col2\" class=\"data row7 col2\" >181413402</td>\n",
       "                        <td id=\"T_cd0deb56_e066_11ea_b482_2cf0ee25c1aerow7_col3\" class=\"data row7 col3\" >107647921</td>\n",
       "                        <td id=\"T_cd0deb56_e066_11ea_b482_2cf0ee25c1aerow7_col4\" class=\"data row7 col4\" >252120309</td>\n",
       "            </tr>\n",
       "            <tr>\n",
       "                        <th id=\"T_cd0deb56_e066_11ea_b482_2cf0ee25c1aelevel0_row8\" class=\"row_heading level0 row8\" >1995</th>\n",
       "                        <td id=\"T_cd0deb56_e066_11ea_b482_2cf0ee25c1aerow8_col0\" class=\"data row8 col0\" >1240920535</td>\n",
       "                        <td id=\"T_cd0deb56_e066_11ea_b482_2cf0ee25c1aerow8_col1\" class=\"data row8 col1\" >963922588</td>\n",
       "                        <td id=\"T_cd0deb56_e066_11ea_b482_2cf0ee25c1aerow8_col2\" class=\"data row8 col2\" >196934260</td>\n",
       "                        <td id=\"T_cd0deb56_e066_11ea_b482_2cf0ee25c1aerow8_col3\" class=\"data row8 col3\" >123776839</td>\n",
       "                        <td id=\"T_cd0deb56_e066_11ea_b482_2cf0ee25c1aerow8_col4\" class=\"data row8 col4\" >265163745</td>\n",
       "            </tr>\n",
       "            <tr>\n",
       "                        <th id=\"T_cd0deb56_e066_11ea_b482_2cf0ee25c1aelevel0_row9\" class=\"row_heading level0 row9\" >2000</th>\n",
       "                        <td id=\"T_cd0deb56_e066_11ea_b482_2cf0ee25c1aerow9_col0\" class=\"data row9 col0\" >1290550765</td>\n",
       "                        <td id=\"T_cd0deb56_e066_11ea_b482_2cf0ee25c1aerow9_col1\" class=\"data row9 col1\" >1056575549</td>\n",
       "                        <td id=\"T_cd0deb56_e066_11ea_b482_2cf0ee25c1aerow9_col2\" class=\"data row9 col2\" >211513823</td>\n",
       "                        <td id=\"T_cd0deb56_e066_11ea_b482_2cf0ee25c1aerow9_col3\" class=\"data row9 col3\" >142343578</td>\n",
       "                        <td id=\"T_cd0deb56_e066_11ea_b482_2cf0ee25c1aerow9_col4\" class=\"data row9 col4\" >281710909</td>\n",
       "            </tr>\n",
       "            <tr>\n",
       "                        <th id=\"T_cd0deb56_e066_11ea_b482_2cf0ee25c1aelevel0_row10\" class=\"row_heading level0 row10\" >2005</th>\n",
       "                        <td id=\"T_cd0deb56_e066_11ea_b482_2cf0ee25c1aerow10_col0\" class=\"data row10 col0\" >1330776380</td>\n",
       "                        <td id=\"T_cd0deb56_e066_11ea_b482_2cf0ee25c1aerow10_col1\" class=\"data row10 col1\" >1147609927</td>\n",
       "                        <td id=\"T_cd0deb56_e066_11ea_b482_2cf0ee25c1aerow10_col2\" class=\"data row10 col2\" >226289470</td>\n",
       "                        <td id=\"T_cd0deb56_e066_11ea_b482_2cf0ee25c1aerow10_col3\" class=\"data row10 col3\" >160304008</td>\n",
       "                        <td id=\"T_cd0deb56_e066_11ea_b482_2cf0ee25c1aerow10_col4\" class=\"data row10 col4\" >294993511</td>\n",
       "            </tr>\n",
       "            <tr>\n",
       "                        <th id=\"T_cd0deb56_e066_11ea_b482_2cf0ee25c1aelevel0_row11\" class=\"row_heading level0 row11\" >2010</th>\n",
       "                        <td id=\"T_cd0deb56_e066_11ea_b482_2cf0ee25c1aerow11_col0\" class=\"data row11 col0\" >1368810615</td>\n",
       "                        <td id=\"T_cd0deb56_e066_11ea_b482_2cf0ee25c1aerow11_col1\" class=\"data row11 col1\" >1234281170</td>\n",
       "                        <td id=\"T_cd0deb56_e066_11ea_b482_2cf0ee25c1aerow11_col2\" class=\"data row11 col2\" >241834215</td>\n",
       "                        <td id=\"T_cd0deb56_e066_11ea_b482_2cf0ee25c1aerow11_col3\" class=\"data row11 col3\" >179424641</td>\n",
       "                        <td id=\"T_cd0deb56_e066_11ea_b482_2cf0ee25c1aerow11_col4\" class=\"data row11 col4\" >309011475</td>\n",
       "            </tr>\n",
       "            <tr>\n",
       "                        <th id=\"T_cd0deb56_e066_11ea_b482_2cf0ee25c1aelevel0_row12\" class=\"row_heading level0 row12\" >2015</th>\n",
       "                        <td id=\"T_cd0deb56_e066_11ea_b482_2cf0ee25c1aerow12_col0\" class=\"data row12 col0\" >1406847870</td>\n",
       "                        <td id=\"T_cd0deb56_e066_11ea_b482_2cf0ee25c1aerow12_col1\" class=\"data row12 col1\" >1310152403</td>\n",
       "                        <td id=\"T_cd0deb56_e066_11ea_b482_2cf0ee25c1aerow12_col2\" class=\"data row12 col2\" >258383256</td>\n",
       "                        <td id=\"T_cd0deb56_e066_11ea_b482_2cf0ee25c1aerow12_col3\" class=\"data row12 col3\" >199426964</td>\n",
       "                        <td id=\"T_cd0deb56_e066_11ea_b482_2cf0ee25c1aerow12_col4\" class=\"data row12 col4\" >320878310</td>\n",
       "            </tr>\n",
       "            <tr>\n",
       "                        <th id=\"T_cd0deb56_e066_11ea_b482_2cf0ee25c1aelevel0_row13\" class=\"row_heading level0 row13\" >2016</th>\n",
       "                        <td id=\"T_cd0deb56_e066_11ea_b482_2cf0ee25c1aerow13_col0\" class=\"data row13 col0\" >1414049351</td>\n",
       "                        <td id=\"T_cd0deb56_e066_11ea_b482_2cf0ee25c1aerow13_col1\" class=\"data row13 col1\" >1324517249</td>\n",
       "                        <td id=\"T_cd0deb56_e066_11ea_b482_2cf0ee25c1aerow13_col2\" class=\"data row13 col2\" >261556381</td>\n",
       "                        <td id=\"T_cd0deb56_e066_11ea_b482_2cf0ee25c1aerow13_col3\" class=\"data row13 col3\" >203631353</td>\n",
       "                        <td id=\"T_cd0deb56_e066_11ea_b482_2cf0ee25c1aerow13_col4\" class=\"data row13 col4\" >323015995</td>\n",
       "            </tr>\n",
       "            <tr>\n",
       "                        <th id=\"T_cd0deb56_e066_11ea_b482_2cf0ee25c1aelevel0_row14\" class=\"row_heading level0 row14\" >2017</th>\n",
       "                        <td id=\"T_cd0deb56_e066_11ea_b482_2cf0ee25c1aerow14_col0\" class=\"data row14 col0\" >1421021791</td>\n",
       "                        <td id=\"T_cd0deb56_e066_11ea_b482_2cf0ee25c1aerow14_col1\" class=\"data row14 col1\" >1338676785</td>\n",
       "                        <td id=\"T_cd0deb56_e066_11ea_b482_2cf0ee25c1aerow14_col2\" class=\"data row14 col2\" >264650963</td>\n",
       "                        <td id=\"T_cd0deb56_e066_11ea_b482_2cf0ee25c1aerow14_col3\" class=\"data row14 col3\" >207906209</td>\n",
       "                        <td id=\"T_cd0deb56_e066_11ea_b482_2cf0ee25c1aerow14_col4\" class=\"data row14 col4\" >325084756</td>\n",
       "            </tr>\n",
       "            <tr>\n",
       "                        <th id=\"T_cd0deb56_e066_11ea_b482_2cf0ee25c1aelevel0_row15\" class=\"row_heading level0 row15\" >2018</th>\n",
       "                        <td id=\"T_cd0deb56_e066_11ea_b482_2cf0ee25c1aerow15_col0\" class=\"data row15 col0\" >1427647786</td>\n",
       "                        <td id=\"T_cd0deb56_e066_11ea_b482_2cf0ee25c1aerow15_col1\" class=\"data row15 col1\" >1352642280</td>\n",
       "                        <td id=\"T_cd0deb56_e066_11ea_b482_2cf0ee25c1aerow15_col2\" class=\"data row15 col2\" >267670543</td>\n",
       "                        <td id=\"T_cd0deb56_e066_11ea_b482_2cf0ee25c1aerow15_col3\" class=\"data row15 col3\" >212228286</td>\n",
       "                        <td id=\"T_cd0deb56_e066_11ea_b482_2cf0ee25c1aerow15_col4\" class=\"data row15 col4\" >327096265</td>\n",
       "            </tr>\n",
       "            <tr>\n",
       "                        <th id=\"T_cd0deb56_e066_11ea_b482_2cf0ee25c1aelevel0_row16\" class=\"row_heading level0 row16\" >2019</th>\n",
       "                        <td id=\"T_cd0deb56_e066_11ea_b482_2cf0ee25c1aerow16_col0\" class=\"data row16 col0\" >1433783686</td>\n",
       "                        <td id=\"T_cd0deb56_e066_11ea_b482_2cf0ee25c1aerow16_col1\" class=\"data row16 col1\" >1366417754</td>\n",
       "                        <td id=\"T_cd0deb56_e066_11ea_b482_2cf0ee25c1aerow16_col2\" class=\"data row16 col2\" >270625568</td>\n",
       "                        <td id=\"T_cd0deb56_e066_11ea_b482_2cf0ee25c1aerow16_col3\" class=\"data row16 col3\" >216565318</td>\n",
       "                        <td id=\"T_cd0deb56_e066_11ea_b482_2cf0ee25c1aerow16_col4\" class=\"data row16 col4\" >329064917</td>\n",
       "            </tr>\n",
       "            <tr>\n",
       "                        <th id=\"T_cd0deb56_e066_11ea_b482_2cf0ee25c1aelevel0_row17\" class=\"row_heading level0 row17\" >2020</th>\n",
       "                        <td id=\"T_cd0deb56_e066_11ea_b482_2cf0ee25c1aerow17_col0\" class=\"data row17 col0\" >1439323776</td>\n",
       "                        <td id=\"T_cd0deb56_e066_11ea_b482_2cf0ee25c1aerow17_col1\" class=\"data row17 col1\" >1380004385</td>\n",
       "                        <td id=\"T_cd0deb56_e066_11ea_b482_2cf0ee25c1aerow17_col2\" class=\"data row17 col2\" >273523615</td>\n",
       "                        <td id=\"T_cd0deb56_e066_11ea_b482_2cf0ee25c1aerow17_col3\" class=\"data row17 col3\" >220892340</td>\n",
       "                        <td id=\"T_cd0deb56_e066_11ea_b482_2cf0ee25c1aerow17_col4\" class=\"data row17 col4\" >331002651</td>\n",
       "            </tr>\n",
       "    </tbody></table>"
      ],
      "text/plain": [
       "<pandas.io.formats.style.Styler at 0x7fd7f669d940>"
      ]
     },
     "execution_count": 35,
     "metadata": {},
     "output_type": "execute_result"
    }
   ],
   "source": [
    "top5_popultion = population[population['Country'].isin(top_5_countries)][['Year', 'Country', 'Population']]\n",
    "top5_popultion_pivot = top5_popultion.pivot(index='Year', columns='Country', values='Population')\n",
    "top5_popultion_pivot.style.background_gradient(cmap='PuBu')\n"
   ]
  },
  {
   "cell_type": "code",
   "execution_count": 36,
   "metadata": {
    "ExecuteTime": {
     "end_time": "2020-08-17T08:51:22.241426Z",
     "start_time": "2020-08-17T08:51:19.630773Z"
    }
   },
   "outputs": [
    {
     "data": {
      "image/png": "[encoded data removed]",
      "text/plain": [
       "<Figure size 1440x720 with 1 Axes>"
      ]
     },
     "metadata": {
      "needs_background": "light"
     },
     "output_type": "display_data"
    }
   ],
   "source": [
    "fig,ax = plt.subplots(figsize=(20, 10))\n",
    "sns.despine()\n",
    "sns.set_context(\"notebook\", font_scale=1.5, rc={\"lines.linewidth\": 2})\n",
    "\n",
    "sns.barplot(x=\"Year\", y=\"Population\", data=top5_popultion, hue='Country')\n",
    "ax.set_ylabel(ylabel = 'Population in Billion', fontsize = 10)\n",
    "ax.set_xlabel(xlabel = 'Year', fontsize = 10)\n",
    "ax.set_title('Top 5 most populated countries in the World')\n",
    "ax.legend();"
   ]
  },
  {
   "cell_type": "markdown",
   "metadata": {},
   "source": [
    "## Which country is Highly dense in 2020?"
   ]
  },
  {
   "cell_type": "code",
   "execution_count": 37,
   "metadata": {
    "ExecuteTime": {
     "end_time": "2020-08-17T08:51:34.286310Z",
     "start_time": "2020-08-17T08:51:34.279872Z"
    }
   },
   "outputs": [],
   "source": [
    "population_2020 = population[population['Year'] == 2020]"
   ]
  },
  {
   "cell_type": "code",
   "execution_count": 44,
   "metadata": {
    "ExecuteTime": {
     "end_time": "2020-08-17T08:54:00.912262Z",
     "start_time": "2020-08-17T08:54:00.829038Z"
    }
   },
   "outputs": [
    {
     "data": {
      "application/vnd.plotly.v1+json": {
       "config": {
        "plotlyServerURL": "https://plot.ly"
       },
       "data": [
        {
         "coloraxis": "coloraxis",
         "geo": "geo",
         "hovertemplate": "<b>%{hovertext}</b><br><br>Country=%{location}<br>Density (P/Km²)=%{z}<extra></extra>",
         "hovertext": [
          "China",
          "India",
          "United States",
          "Indonesia",
          "Pakistan",
          "Brazil",
          "Nigeria",
          "Bangladesh",
          "Russia",
          "Mexico",
          "Japan",
          "Ethiopia",
          "Philippines",
          "Egypt",
          "Vietnam",
          "DR Congo",
          "Turkey",
          "Iran",
          "Germany",
          "Thailand",
          "United Kingdom",
          "France",
          "Italy",
          "Tanzania",
          "South Africa",
          "Myanmar",
          "Kenya",
          "South Korea",
          "Colombia",
          "Spain",
          "Uganda",
          "Argentina",
          "Algeria",
          "Sudan",
          "Ukraine",
          "Iraq",
          "Afghanistan",
          "Poland",
          "Canada",
          "Morocco",
          "Saudi Arabia",
          "Uzbekistan",
          "Peru",
          "Angola",
          "Malaysia",
          "Mozambique",
          "Ghana",
          "Yemen",
          "Nepal",
          "Venezuela",
          "Madagascar",
          "Cameroon",
          "Côte d'Ivoire",
          "North Korea",
          "Australia",
          "Niger",
          "Taiwan",
          "Sri Lanka",
          "Burkina Faso",
          "Mali",
          "Romania",
          "Malawi",
          "Chile",
          "Kazakhstan",
          "Zambia",
          "Guatemala",
          "Ecuador",
          "Syria",
          "Netherlands",
          "Senegal",
          "Cambodia",
          "Chad",
          "Somalia",
          "Zimbabwe",
          "Guinea",
          "Rwanda",
          "Benin",
          "Burundi",
          "Tunisia",
          "Bolivia",
          "Belgium",
          "Haiti",
          "Cuba",
          "South Sudan",
          "Dominican Republic",
          "Czech Republic (Czechia)",
          "Greece",
          "Jordan",
          "Portugal",
          "Azerbaijan",
          "Sweden",
          "Honduras",
          "United Arab Emirates",
          "Hungary",
          "Tajikistan",
          "Belarus",
          "Austria",
          "Papua New Guinea",
          "Serbia",
          "Israel",
          "Switzerland",
          "Togo",
          "Sierra Leone",
          "Hong Kong",
          "Laos",
          "Paraguay",
          "Bulgaria",
          "Libya",
          "Lebanon",
          "Nicaragua",
          "Kyrgyzstan",
          "El Salvador",
          "Turkmenistan",
          "Singapore",
          "Denmark",
          "Finland",
          "Congo",
          "Slovakia",
          "Norway",
          "Oman",
          "State of Palestine",
          "Costa Rica",
          "Liberia",
          "Ireland",
          "Central African Republic",
          "New Zealand",
          "Mauritania",
          "Panama",
          "Kuwait",
          "Croatia",
          "Moldova",
          "Georgia",
          "Eritrea",
          "Uruguay",
          "Bosnia and Herzegovina",
          "Mongolia",
          "Armenia",
          "Jamaica",
          "Qatar",
          "Albania",
          "Puerto Rico",
          "Lithuania",
          "Namibia",
          "Gambia",
          "Botswana",
          "Gabon",
          "Lesotho",
          "North Macedonia",
          "Slovenia",
          "Guinea-Bissau",
          "Latvia",
          "Bahrain",
          "Equatorial Guinea",
          "Trinidad and Tobago",
          "Estonia",
          "Timor-Leste",
          "Mauritius",
          "Cyprus",
          "Eswatini",
          "Djibouti",
          "Fiji",
          "Réunion",
          "Comoros",
          "Guyana",
          "Bhutan",
          "Solomon Islands",
          "Macao",
          "Montenegro",
          "Luxembourg",
          "Western Sahara",
          "Suriname",
          "Cabo Verde",
          "Maldives",
          "Malta",
          "Brunei ",
          "Guadeloupe",
          "Belize",
          "Bahamas",
          "Martinique",
          "Iceland",
          "Vanuatu",
          "French Guiana",
          "Barbados",
          "New Caledonia",
          "French Polynesia",
          "Mayotte",
          "Sao Tome & Principe",
          "Samoa",
          "Saint Lucia",
          "Channel Islands",
          "Guam",
          "Curaçao",
          "Kiribati",
          "Grenada",
          "St. Vincent & Grenadines",
          "Aruba",
          "Tonga",
          "U.S. Virgin Islands",
          "Seychelles",
          "Antigua and Barbuda"
         ],
         "locationmode": "country names",
         "locations": [
          "China",
          "India",
          "United States",
          "Indonesia",
          "Pakistan",
          "Brazil",
          "Nigeria",
          "Bangladesh",
          "Russia",
          "Mexico",
          "Japan",
          "Ethiopia",
          "Philippines",
          "Egypt",
          "Vietnam",
          "DR Congo",
          "Turkey",
          "Iran",
          "Germany",
          "Thailand",
          "United Kingdom",
          "France",
          "Italy",
          "Tanzania",
          "South Africa",
          "Myanmar",
          "Kenya",
          "South Korea",
          "Colombia",
          "Spain",
          "Uganda",
          "Argentina",
          "Algeria",
          "Sudan",
          "Ukraine",
          "Iraq",
          "Afghanistan",
          "Poland",
          "Canada",
          "Morocco",
          "Saudi Arabia",
          "Uzbekistan",
          "Peru",
          "Angola",
          "Malaysia",
          "Mozambique",
          "Ghana",
          "Yemen",
          "Nepal",
          "Venezuela",
          "Madagascar",
          "Cameroon",
          "Côte d'Ivoire",
          "North Korea",
          "Australia",
          "Niger",
          "Taiwan",
          "Sri Lanka",
          "Burkina Faso",
          "Mali",
          "Romania",
          "Malawi",
          "Chile",
          "Kazakhstan",
          "Zambia",
          "Guatemala",
          "Ecuador",
          "Syria",
          "Netherlands",
          "Senegal",
          "Cambodia",
          "Chad",
          "Somalia",
          "Zimbabwe",
          "Guinea",
          "Rwanda",
          "Benin",
          "Burundi",
          "Tunisia",
          "Bolivia",
          "Belgium",
          "Haiti",
          "Cuba",
          "South Sudan",
          "Dominican Republic",
          "Czech Republic (Czechia)",
          "Greece",
          "Jordan",
          "Portugal",
          "Azerbaijan",
          "Sweden",
          "Honduras",
          "United Arab Emirates",
          "Hungary",
          "Tajikistan",
          "Belarus",
          "Austria",
          "Papua New Guinea",
          "Serbia",
          "Israel",
          "Switzerland",
          "Togo",
          "Sierra Leone",
          "Hong Kong",
          "Laos",
          "Paraguay",
          "Bulgaria",
          "Libya",
          "Lebanon",
          "Nicaragua",
          "Kyrgyzstan",
          "El Salvador",
          "Turkmenistan",
          "Singapore",
          "Denmark",
          "Finland",
          "Congo",
          "Slovakia",
          "Norway",
          "Oman",
          "State of Palestine",
          "Costa Rica",
          "Liberia",
          "Ireland",
          "Central African Republic",
          "New Zealand",
          "Mauritania",
          "Panama",
          "Kuwait",
          "Croatia",
          "Moldova",
          "Georgia",
          "Eritrea",
          "Uruguay",
          "Bosnia and Herzegovina",
          "Mongolia",
          "Armenia",
          "Jamaica",
          "Qatar",
          "Albania",
          "Puerto Rico",
          "Lithuania",
          "Namibia",
          "Gambia",
          "Botswana",
          "Gabon",
          "Lesotho",
          "North Macedonia",
          "Slovenia",
          "Guinea-Bissau",
          "Latvia",
          "Bahrain",
          "Equatorial Guinea",
          "Trinidad and Tobago",
          "Estonia",
          "Timor-Leste",
          "Mauritius",
          "Cyprus",
          "Eswatini",
          "Djibouti",
          "Fiji",
          "Réunion",
          "Comoros",
          "Guyana",
          "Bhutan",
          "Solomon Islands",
          "Macao",
          "Montenegro",
          "Luxembourg",
          "Western Sahara",
          "Suriname",
          "Cabo Verde",
          "Maldives",
          "Malta",
          "Brunei ",
          "Guadeloupe",
          "Belize",
          "Bahamas",
          "Martinique",
          "Iceland",
          "Vanuatu",
          "French Guiana",
          "Barbados",
          "New Caledonia",
          "French Polynesia",
          "Mayotte",
          "Sao Tome & Principe",
          "Samoa",
          "Saint Lucia",
          "Channel Islands",
          "Guam",
          "Curaçao",
          "Kiribati",
          "Grenada",
          "St. Vincent & Grenadines",
          "Aruba",
          "Tonga",
          "U.S. Virgin Islands",
          "Seychelles",
          "Antigua and Barbuda"
         ],
         "name": "",
         "type": "choropleth",
         "z": [
          153,
          464,
          36,
          151,
          287,
          25,
          226,
          1265,
          9,
          66,
          347,
          115,
          368,
          103,
          314,
          40,
          110,
          52,
          240,
          137,
          281,
          119,
          206,
          67,
          49,
          83,
          94,
          527,
          46,
          94,
          229,
          17,
          18,
          25,
          75,
          93,
          60,
          124,
          4,
          83,
          16,
          79,
          26,
          26,
          99,
          40,
          137,
          56,
          203,
          32,
          48,
          56,
          83,
          214,
          3,
          19,
          673,
          341,
          76,
          17,
          84,
          203,
          26,
          7,
          25,
          167,
          71,
          95,
          508,
          87,
          95,
          13,
          25,
          38,
          53,
          525,
          108,
          463,
          76,
          11,
          383,
          414,
          106,
          18,
          225,
          139,
          81,
          115,
          111,
          123,
          25,
          89,
          118,
          107,
          68,
          47,
          109,
          20,
          100,
          400,
          219,
          152,
          111,
          7140,
          32,
          18,
          64,
          4,
          667,
          55,
          34,
          313,
          13,
          8358,
          137,
          18,
          16,
          114,
          15,
          16,
          847,
          100,
          53,
          72,
          8,
          18,
          5,
          58,
          240,
          73,
          123,
          57,
          35,
          20,
          64,
          2,
          104,
          273,
          248,
          105,
          323,
          43,
          3,
          239,
          4,
          9,
          71,
          83,
          103,
          70,
          30,
          2239,
          50,
          273,
          31,
          89,
          626,
          131,
          67,
          43,
          49,
          358,
          467,
          4,
          20,
          25,
          21645,
          47,
          242,
          2,
          4,
          138,
          1802,
          1380,
          83,
          237,
          17,
          39,
          354,
          3,
          25,
          4,
          668,
          16,
          77,
          728,
          228,
          70,
          301,
          915,
          313,
          370,
          147,
          331,
          284,
          593,
          147,
          298,
          214,
          223
         ]
        }
       ],
       "layout": {
        "coloraxis": {
         "colorbar": {
          "title": {
           "text": "Density (P/Km²)"
          }
         },
         "colorscale": [
          [
           0,
           "rgb(255,255,217)"
          ],
          [
           0.125,
           "rgb(237,248,177)"
          ],
          [
           0.25,
           "rgb(199,233,180)"
          ],
          [
           0.375,
           "rgb(127,205,187)"
          ],
          [
           0.5,
           "rgb(65,182,196)"
          ],
          [
           0.625,
           "rgb(29,145,192)"
          ],
          [
           0.75,
           "rgb(34,94,168)"
          ],
          [
           0.875,
           "rgb(37,52,148)"
          ],
          [
           1,
           "rgb(8,29,88)"
          ]
         ],
         "showscale": true
        },
        "geo": {
         "center": {},
         "domain": {
          "x": [
           0,
           1
          ],
          "y": [
           0,
           1
          ]
         }
        },
        "legend": {
         "tracegroupgap": 0
        },
        "template": {
         "data": {
          "bar": [
           {
            "error_x": {
             "color": "#2a3f5f"
            },
            "error_y": {
             "color": "#2a3f5f"
            },
            "marker": {
             "line": {
              "color": "#E5ECF6",
              "width": 0.5
             }
            },
            "type": "bar"
           }
          ],
          "barpolar": [
           {
            "marker": {
             "line": {
              "color": "#E5ECF6",
              "width": 0.5
             }
            },
            "type": "barpolar"
           }
          ],
          "carpet": [
           {
            "aaxis": {
             "endlinecolor": "#2a3f5f",
             "gridcolor": "white",
             "linecolor": "white",
             "minorgridcolor": "white",
             "startlinecolor": "#2a3f5f"
            },
            "baxis": {
             "endlinecolor": "#2a3f5f",
             "gridcolor": "white",
             "linecolor": "white",
             "minorgridcolor": "white",
             "startlinecolor": "#2a3f5f"
            },
            "type": "carpet"
           }
          ],
          "choropleth": [
           {
            "colorbar": {
             "outlinewidth": 0,
             "ticks": ""
            },
            "type": "choropleth"
           }
          ],
          "contour": [
           {
            "colorbar": {
             "outlinewidth": 0,
             "ticks": ""
            },
            "colorscale": [
             [
              0,
              "#0d0887"
             ],
             [
              0.1111111111111111,
              "#46039f"
             ],
             [
              0.2222222222222222,
              "#7201a8"
             ],
             [
              0.3333333333333333,
              "#9c179e"
             ],
             [
              0.4444444444444444,
              "#bd3786"
             ],
             [
              0.5555555555555556,
              "#d8576b"
             ],
             [
              0.6666666666666666,
              "#ed7953"
             ],
             [
              0.7777777777777778,
              "#fb9f3a"
             ],
             [
              0.8888888888888888,
              "#fdca26"
             ],
             [
              1,
              "#f0f921"
             ]
            ],
            "type": "contour"
           }
          ],
          "contourcarpet": [
           {
            "colorbar": {
             "outlinewidth": 0,
             "ticks": ""
            },
            "type": "contourcarpet"
           }
          ],
          "heatmap": [
           {
            "colorbar": {
             "outlinewidth": 0,
             "ticks": ""
            },
            "colorscale": [
             [
              0,
              "#0d0887"
             ],
             [
              0.1111111111111111,
              "#46039f"
             ],
             [
              0.2222222222222222,
              "#7201a8"
             ],
             [
              0.3333333333333333,
              "#9c179e"
             ],
             [
              0.4444444444444444,
              "#bd3786"
             ],
             [
              0.5555555555555556,
              "#d8576b"
             ],
             [
              0.6666666666666666,
              "#ed7953"
             ],
             [
              0.7777777777777778,
              "#fb9f3a"
             ],
             [
              0.8888888888888888,
              "#fdca26"
             ],
             [
              1,
              "#f0f921"
             ]
            ],
            "type": "heatmap"
           }
          ],
          "heatmapgl": [
           {
            "colorbar": {
             "outlinewidth": 0,
             "ticks": ""
            },
            "colorscale": [
             [
              0,
              "#0d0887"
             ],
             [
              0.1111111111111111,
              "#46039f"
             ],
             [
              0.2222222222222222,
              "#7201a8"
             ],
             [
              0.3333333333333333,
              "#9c179e"
             ],
             [
              0.4444444444444444,
              "#bd3786"
             ],
             [
              0.5555555555555556,
              "#d8576b"
             ],
             [
              0.6666666666666666,
              "#ed7953"
             ],
             [
              0.7777777777777778,
              "#fb9f3a"
             ],
             [
              0.8888888888888888,
              "#fdca26"
             ],
             [
              1,
              "#f0f921"
             ]
            ],
            "type": "heatmapgl"
           }
          ],
          "histogram": [
           {
            "marker": {
             "colorbar": {
              "outlinewidth": 0,
              "ticks": ""
             }
            },
            "type": "histogram"
           }
          ],
          "histogram2d": [
           {
            "colorbar": {
             "outlinewidth": 0,
             "ticks": ""
            },
            "colorscale": [
             [
              0,
              "#0d0887"
             ],
             [
              0.1111111111111111,
              "#46039f"
             ],
             [
              0.2222222222222222,
              "#7201a8"
             ],
             [
              0.3333333333333333,
              "#9c179e"
             ],
             [
              0.4444444444444444,
              "#bd3786"
             ],
             [
              0.5555555555555556,
              "#d8576b"
             ],
             [
              0.6666666666666666,
              "#ed7953"
             ],
             [
              0.7777777777777778,
              "#fb9f3a"
             ],
             [
              0.8888888888888888,
              "#fdca26"
             ],
             [
              1,
              "#f0f921"
             ]
            ],
            "type": "histogram2d"
           }
          ],
          "histogram2dcontour": [
           {
            "colorbar": {
             "outlinewidth": 0,
             "ticks": ""
            },
            "colorscale": [
             [
              0,
              "#0d0887"
             ],
             [
              0.1111111111111111,
              "#46039f"
             ],
             [
              0.2222222222222222,
              "#7201a8"
             ],
             [
              0.3333333333333333,
              "#9c179e"
             ],
             [
              0.4444444444444444,
              "#bd3786"
             ],
             [
              0.5555555555555556,
              "#d8576b"
             ],
             [
              0.6666666666666666,
              "#ed7953"
             ],
             [
              0.7777777777777778,
              "#fb9f3a"
             ],
             [
              0.8888888888888888,
              "#fdca26"
             ],
             [
              1,
              "#f0f921"
             ]
            ],
            "type": "histogram2dcontour"
           }
          ],
          "mesh3d": [
           {
            "colorbar": {
             "outlinewidth": 0,
             "ticks": ""
            },
            "type": "mesh3d"
           }
          ],
          "parcoords": [
           {
            "line": {
             "colorbar": {
              "outlinewidth": 0,
              "ticks": ""
             }
            },
            "type": "parcoords"
           }
          ],
          "pie": [
           {
            "automargin": true,
            "type": "pie"
           }
          ],
          "scatter": [
           {
            "marker": {
             "colorbar": {
              "outlinewidth": 0,
              "ticks": ""
             }
            },
            "type": "scatter"
           }
          ],
          "scatter3d": [
           {
            "line": {
             "colorbar": {
              "outlinewidth": 0,
              "ticks": ""
             }
            },
            "marker": {
             "colorbar": {
              "outlinewidth": 0,
              "ticks": ""
             }
            },
            "type": "scatter3d"
           }
          ],
          "scattercarpet": [
           {
            "marker": {
             "colorbar": {
              "outlinewidth": 0,
              "ticks": ""
             }
            },
            "type": "scattercarpet"
           }
          ],
          "scattergeo": [
           {
            "marker": {
             "colorbar": {
              "outlinewidth": 0,
              "ticks": ""
             }
            },
            "type": "scattergeo"
           }
          ],
          "scattergl": [
           {
            "marker": {
             "colorbar": {
              "outlinewidth": 0,
              "ticks": ""
             }
            },
            "type": "scattergl"
           }
          ],
          "scattermapbox": [
           {
            "marker": {
             "colorbar": {
              "outlinewidth": 0,
              "ticks": ""
             }
            },
            "type": "scattermapbox"
           }
          ],
          "scatterpolar": [
           {
            "marker": {
             "colorbar": {
              "outlinewidth": 0,
              "ticks": ""
             }
            },
            "type": "scatterpolar"
           }
          ],
          "scatterpolargl": [
           {
            "marker": {
             "colorbar": {
              "outlinewidth": 0,
              "ticks": ""
             }
            },
            "type": "scatterpolargl"
           }
          ],
          "scatterternary": [
           {
            "marker": {
             "colorbar": {
              "outlinewidth": 0,
              "ticks": ""
             }
            },
            "type": "scatterternary"
           }
          ],
          "surface": [
           {
            "colorbar": {
             "outlinewidth": 0,
             "ticks": ""
            },
            "colorscale": [
             [
              0,
              "#0d0887"
             ],
             [
              0.1111111111111111,
              "#46039f"
             ],
             [
              0.2222222222222222,
              "#7201a8"
             ],
             [
              0.3333333333333333,
              "#9c179e"
             ],
             [
              0.4444444444444444,
              "#bd3786"
             ],
             [
              0.5555555555555556,
              "#d8576b"
             ],
             [
              0.6666666666666666,
              "#ed7953"
             ],
             [
              0.7777777777777778,
              "#fb9f3a"
             ],
             [
              0.8888888888888888,
              "#fdca26"
             ],
             [
              1,
              "#f0f921"
             ]
            ],
            "type": "surface"
           }
          ],
          "table": [
           {
            "cells": {
             "fill": {
              "color": "#EBF0F8"
             },
             "line": {
              "color": "white"
             }
            },
            "header": {
             "fill": {
              "color": "#C8D4E3"
             },
             "line": {
              "color": "white"
             }
            },
            "type": "table"
           }
          ]
         },
         "layout": {
          "annotationdefaults": {
           "arrowcolor": "#2a3f5f",
           "arrowhead": 0,
           "arrowwidth": 1
          },
          "coloraxis": {
           "colorbar": {
            "outlinewidth": 0,
            "ticks": ""
           }
          },
          "colorscale": {
           "diverging": [
            [
             0,
             "#8e0152"
            ],
            [
             0.1,
             "#c51b7d"
            ],
            [
             0.2,
             "#de77ae"
            ],
            [
             0.3,
             "#f1b6da"
            ],
            [
             0.4,
             "#fde0ef"
            ],
            [
             0.5,
             "#f7f7f7"
            ],
            [
             0.6,
             "#e6f5d0"
            ],
            [
             0.7,
             "#b8e186"
            ],
            [
             0.8,
             "#7fbc41"
            ],
            [
             0.9,
             "#4d9221"
            ],
            [
             1,
             "#276419"
            ]
           ],
           "sequential": [
            [
             0,
             "#0d0887"
            ],
            [
             0.1111111111111111,
             "#46039f"
            ],
            [
             0.2222222222222222,
             "#7201a8"
            ],
            [
             0.3333333333333333,
             "#9c179e"
            ],
            [
             0.4444444444444444,
             "#bd3786"
            ],
            [
             0.5555555555555556,
             "#d8576b"
            ],
            [
             0.6666666666666666,
             "#ed7953"
            ],
            [
             0.7777777777777778,
             "#fb9f3a"
            ],
            [
             0.8888888888888888,
             "#fdca26"
            ],
            [
             1,
             "#f0f921"
            ]
           ],
           "sequentialminus": [
            [
             0,
             "#0d0887"
            ],
            [
             0.1111111111111111,
             "#46039f"
            ],
            [
             0.2222222222222222,
             "#7201a8"
            ],
            [
             0.3333333333333333,
             "#9c179e"
            ],
            [
             0.4444444444444444,
             "#bd3786"
            ],
            [
             0.5555555555555556,
             "#d8576b"
            ],
            [
             0.6666666666666666,
             "#ed7953"
            ],
            [
             0.7777777777777778,
             "#fb9f3a"
            ],
            [
             0.8888888888888888,
             "#fdca26"
            ],
            [
             1,
             "#f0f921"
            ]
           ]
          },
          "colorway": [
           "#636efa",
           "#EF553B",
           "#00cc96",
           "#ab63fa",
           "#FFA15A",
           "#19d3f3",
           "#FF6692",
           "#B6E880",
           "#FF97FF",
           "#FECB52"
          ],
          "font": {
           "color": "#2a3f5f"
          },
          "geo": {
           "bgcolor": "white",
           "lakecolor": "white",
           "landcolor": "#E5ECF6",
           "showlakes": true,
           "showland": true,
           "subunitcolor": "white"
          },
          "hoverlabel": {
           "align": "left"
          },
          "hovermode": "closest",
          "mapbox": {
           "style": "light"
          },
          "paper_bgcolor": "white",
          "plot_bgcolor": "#E5ECF6",
          "polar": {
           "angularaxis": {
            "gridcolor": "white",
            "linecolor": "white",
            "ticks": ""
           },
           "bgcolor": "#E5ECF6",
           "radialaxis": {
            "gridcolor": "white",
            "linecolor": "white",
            "ticks": ""
           }
          },
          "scene": {
           "xaxis": {
            "backgroundcolor": "#E5ECF6",
            "gridcolor": "white",
            "gridwidth": 2,
            "linecolor": "white",
            "showbackground": true,
            "ticks": "",
            "zerolinecolor": "white"
           },
           "yaxis": {
            "backgroundcolor": "#E5ECF6",
            "gridcolor": "white",
            "gridwidth": 2,
            "linecolor": "white",
            "showbackground": true,
            "ticks": "",
            "zerolinecolor": "white"
           },
           "zaxis": {
            "backgroundcolor": "#E5ECF6",
            "gridcolor": "white",
            "gridwidth": 2,
            "linecolor": "white",
            "showbackground": true,
            "ticks": "",
            "zerolinecolor": "white"
           }
          },
          "shapedefaults": {
           "line": {
            "color": "#2a3f5f"
           }
          },
          "ternary": {
           "aaxis": {
            "gridcolor": "white",
            "linecolor": "white",
            "ticks": ""
           },
           "baxis": {
            "gridcolor": "white",
            "linecolor": "white",
            "ticks": ""
           },
           "bgcolor": "#E5ECF6",
           "caxis": {
            "gridcolor": "white",
            "linecolor": "white",
            "ticks": ""
           }
          },
          "title": {
           "x": 0.05
          },
          "xaxis": {
           "automargin": true,
           "gridcolor": "white",
           "linecolor": "white",
           "ticks": "",
           "title": {
            "standoff": 15
           },
           "zerolinecolor": "white",
           "zerolinewidth": 2
          },
          "yaxis": {
           "automargin": true,
           "gridcolor": "white",
           "linecolor": "white",
           "ticks": "",
           "title": {
            "standoff": 15
           },
           "zerolinecolor": "white",
           "zerolinewidth": 2
          }
         }
        },
        "title": {
         "text": "Density of Countries in 2020"
        }
       }
      },
      "text/html": [
       "<div>\n",
       "        \n",
       "        \n",
       "            <div id=\"edaa2fb4-81af-4d31-bbef-852f11a7cdb7\" class=\"plotly-graph-div\" style=\"height:525px; width:100%;\"></div>\n",
       "            <script type=\"text/javascript\">\n",
       "                require([\"plotly\"], function(Plotly) {\n",
       "                    window.PLOTLYENV=window.PLOTLYENV || {};\n",
       "                    \n",
       "                if (document.getElementById(\"edaa2fb4-81af-4d31-bbef-852f11a7cdb7\")) {\n",
       "                    Plotly.newPlot(\n",
       "                        'edaa2fb4-81af-4d31-bbef-852f11a7cdb7',\n",
       "                        [{\"coloraxis\": \"coloraxis\", \"geo\": \"geo\", \"hovertemplate\": \"<b>%{hovertext}</b><br><br>Country=%{location}<br>Density (P/Km\\u00b2)=%{z}<extra></extra>\", \"hovertext\": [\"China\", \"India\", \"United States\", \"Indonesia\", \"Pakistan\", \"Brazil\", \"Nigeria\", \"Bangladesh\", \"Russia\", \"Mexico\", \"Japan\", \"Ethiopia\", \"Philippines\", \"Egypt\", \"Vietnam\", \"DR Congo\", \"Turkey\", \"Iran\", \"Germany\", \"Thailand\", \"United Kingdom\", \"France\", \"Italy\", \"Tanzania\", \"South Africa\", \"Myanmar\", \"Kenya\", \"South Korea\", \"Colombia\", \"Spain\", \"Uganda\", \"Argentina\", \"Algeria\", \"Sudan\", \"Ukraine\", \"Iraq\", \"Afghanistan\", \"Poland\", \"Canada\", \"Morocco\", \"Saudi Arabia\", \"Uzbekistan\", \"Peru\", \"Angola\", \"Malaysia\", \"Mozambique\", \"Ghana\", \"Yemen\", \"Nepal\", \"Venezuela\", \"Madagascar\", \"Cameroon\", \"C\\u00f4te d'Ivoire\", \"North Korea\", \"Australia\", \"Niger\", \"Taiwan\", \"Sri Lanka\", \"Burkina Faso\", \"Mali\", \"Romania\", \"Malawi\", \"Chile\", \"Kazakhstan\", \"Zambia\", \"Guatemala\", \"Ecuador\", \"Syria\", \"Netherlands\", \"Senegal\", \"Cambodia\", \"Chad\", \"Somalia\", \"Zimbabwe\", \"Guinea\", \"Rwanda\", \"Benin\", \"Burundi\", \"Tunisia\", \"Bolivia\", \"Belgium\", \"Haiti\", \"Cuba\", \"South Sudan\", \"Dominican Republic\", \"Czech Republic (Czechia)\", \"Greece\", \"Jordan\", \"Portugal\", \"Azerbaijan\", \"Sweden\", \"Honduras\", \"United Arab Emirates\", \"Hungary\", \"Tajikistan\", \"Belarus\", \"Austria\", \"Papua New Guinea\", \"Serbia\", \"Israel\", \"Switzerland\", \"Togo\", \"Sierra Leone\", \"Hong Kong\", \"Laos\", \"Paraguay\", \"Bulgaria\", \"Libya\", \"Lebanon\", \"Nicaragua\", \"Kyrgyzstan\", \"El Salvador\", \"Turkmenistan\", \"Singapore\", \"Denmark\", \"Finland\", \"Congo\", \"Slovakia\", \"Norway\", \"Oman\", \"State of Palestine\", \"Costa Rica\", \"Liberia\", \"Ireland\", \"Central African Republic\", \"New Zealand\", \"Mauritania\", \"Panama\", \"Kuwait\", \"Croatia\", \"Moldova\", \"Georgia\", \"Eritrea\", \"Uruguay\", \"Bosnia and Herzegovina\", \"Mongolia\", \"Armenia\", \"Jamaica\", \"Qatar\", \"Albania\", \"Puerto Rico\", \"Lithuania\", \"Namibia\", \"Gambia\", \"Botswana\", \"Gabon\", \"Lesotho\", \"North Macedonia\", \"Slovenia\", \"Guinea-Bissau\", \"Latvia\", \"Bahrain\", \"Equatorial Guinea\", \"Trinidad and Tobago\", \"Estonia\", \"Timor-Leste\", \"Mauritius\", \"Cyprus\", \"Eswatini\", \"Djibouti\", \"Fiji\", \"R\\u00e9union\", \"Comoros\", \"Guyana\", \"Bhutan\", \"Solomon Islands\", \"Macao\", \"Montenegro\", \"Luxembourg\", \"Western Sahara\", \"Suriname\", \"Cabo Verde\", \"Maldives\", \"Malta\", \"Brunei \", \"Guadeloupe\", \"Belize\", \"Bahamas\", \"Martinique\", \"Iceland\", \"Vanuatu\", \"French Guiana\", \"Barbados\", \"New Caledonia\", \"French Polynesia\", \"Mayotte\", \"Sao Tome & Principe\", \"Samoa\", \"Saint Lucia\", \"Channel Islands\", \"Guam\", \"Cura\\u00e7ao\", \"Kiribati\", \"Grenada\", \"St. Vincent & Grenadines\", \"Aruba\", \"Tonga\", \"U.S. Virgin Islands\", \"Seychelles\", \"Antigua and Barbuda\"], \"locationmode\": \"country names\", \"locations\": [\"China\", \"India\", \"United States\", \"Indonesia\", \"Pakistan\", \"Brazil\", \"Nigeria\", \"Bangladesh\", \"Russia\", \"Mexico\", \"Japan\", \"Ethiopia\", \"Philippines\", \"Egypt\", \"Vietnam\", \"DR Congo\", \"Turkey\", \"Iran\", \"Germany\", \"Thailand\", \"United Kingdom\", \"France\", \"Italy\", \"Tanzania\", \"South Africa\", \"Myanmar\", \"Kenya\", \"South Korea\", \"Colombia\", \"Spain\", \"Uganda\", \"Argentina\", \"Algeria\", \"Sudan\", \"Ukraine\", \"Iraq\", \"Afghanistan\", \"Poland\", \"Canada\", \"Morocco\", \"Saudi Arabia\", \"Uzbekistan\", \"Peru\", \"Angola\", \"Malaysia\", \"Mozambique\", \"Ghana\", \"Yemen\", \"Nepal\", \"Venezuela\", \"Madagascar\", \"Cameroon\", \"C\\u00f4te d'Ivoire\", \"North Korea\", \"Australia\", \"Niger\", \"Taiwan\", \"Sri Lanka\", \"Burkina Faso\", \"Mali\", \"Romania\", \"Malawi\", \"Chile\", \"Kazakhstan\", \"Zambia\", \"Guatemala\", \"Ecuador\", \"Syria\", \"Netherlands\", \"Senegal\", \"Cambodia\", \"Chad\", \"Somalia\", \"Zimbabwe\", \"Guinea\", \"Rwanda\", \"Benin\", \"Burundi\", \"Tunisia\", \"Bolivia\", \"Belgium\", \"Haiti\", \"Cuba\", \"South Sudan\", \"Dominican Republic\", \"Czech Republic (Czechia)\", \"Greece\", \"Jordan\", \"Portugal\", \"Azerbaijan\", \"Sweden\", \"Honduras\", \"United Arab Emirates\", \"Hungary\", \"Tajikistan\", \"Belarus\", \"Austria\", \"Papua New Guinea\", \"Serbia\", \"Israel\", \"Switzerland\", \"Togo\", \"Sierra Leone\", \"Hong Kong\", \"Laos\", \"Paraguay\", \"Bulgaria\", \"Libya\", \"Lebanon\", \"Nicaragua\", \"Kyrgyzstan\", \"El Salvador\", \"Turkmenistan\", \"Singapore\", \"Denmark\", \"Finland\", \"Congo\", \"Slovakia\", \"Norway\", \"Oman\", \"State of Palestine\", \"Costa Rica\", \"Liberia\", \"Ireland\", \"Central African Republic\", \"New Zealand\", \"Mauritania\", \"Panama\", \"Kuwait\", \"Croatia\", \"Moldova\", \"Georgia\", \"Eritrea\", \"Uruguay\", \"Bosnia and Herzegovina\", \"Mongolia\", \"Armenia\", \"Jamaica\", \"Qatar\", \"Albania\", \"Puerto Rico\", \"Lithuania\", \"Namibia\", \"Gambia\", \"Botswana\", \"Gabon\", \"Lesotho\", \"North Macedonia\", \"Slovenia\", \"Guinea-Bissau\", \"Latvia\", \"Bahrain\", \"Equatorial Guinea\", \"Trinidad and Tobago\", \"Estonia\", \"Timor-Leste\", \"Mauritius\", \"Cyprus\", \"Eswatini\", \"Djibouti\", \"Fiji\", \"R\\u00e9union\", \"Comoros\", \"Guyana\", \"Bhutan\", \"Solomon Islands\", \"Macao\", \"Montenegro\", \"Luxembourg\", \"Western Sahara\", \"Suriname\", \"Cabo Verde\", \"Maldives\", \"Malta\", \"Brunei \", \"Guadeloupe\", \"Belize\", \"Bahamas\", \"Martinique\", \"Iceland\", \"Vanuatu\", \"French Guiana\", \"Barbados\", \"New Caledonia\", \"French Polynesia\", \"Mayotte\", \"Sao Tome & Principe\", \"Samoa\", \"Saint Lucia\", \"Channel Islands\", \"Guam\", \"Cura\\u00e7ao\", \"Kiribati\", \"Grenada\", \"St. Vincent & Grenadines\", \"Aruba\", \"Tonga\", \"U.S. Virgin Islands\", \"Seychelles\", \"Antigua and Barbuda\"], \"name\": \"\", \"type\": \"choropleth\", \"z\": [153, 464, 36, 151, 287, 25, 226, 1265, 9, 66, 347, 115, 368, 103, 314, 40, 110, 52, 240, 137, 281, 119, 206, 67, 49, 83, 94, 527, 46, 94, 229, 17, 18, 25, 75, 93, 60, 124, 4, 83, 16, 79, 26, 26, 99, 40, 137, 56, 203, 32, 48, 56, 83, 214, 3, 19, 673, 341, 76, 17, 84, 203, 26, 7, 25, 167, 71, 95, 508, 87, 95, 13, 25, 38, 53, 525, 108, 463, 76, 11, 383, 414, 106, 18, 225, 139, 81, 115, 111, 123, 25, 89, 118, 107, 68, 47, 109, 20, 100, 400, 219, 152, 111, 7140, 32, 18, 64, 4, 667, 55, 34, 313, 13, 8358, 137, 18, 16, 114, 15, 16, 847, 100, 53, 72, 8, 18, 5, 58, 240, 73, 123, 57, 35, 20, 64, 2, 104, 273, 248, 105, 323, 43, 3, 239, 4, 9, 71, 83, 103, 70, 30, 2239, 50, 273, 31, 89, 626, 131, 67, 43, 49, 358, 467, 4, 20, 25, 21645, 47, 242, 2, 4, 138, 1802, 1380, 83, 237, 17, 39, 354, 3, 25, 4, 668, 16, 77, 728, 228, 70, 301, 915, 313, 370, 147, 331, 284, 593, 147, 298, 214, 223]}],\n",
       "                        {\"coloraxis\": {\"colorbar\": {\"title\": {\"text\": \"Density (P/Km\\u00b2)\"}}, \"colorscale\": [[0.0, \"rgb(255,255,217)\"], [0.125, \"rgb(237,248,177)\"], [0.25, \"rgb(199,233,180)\"], [0.375, \"rgb(127,205,187)\"], [0.5, \"rgb(65,182,196)\"], [0.625, \"rgb(29,145,192)\"], [0.75, \"rgb(34,94,168)\"], [0.875, \"rgb(37,52,148)\"], [1.0, \"rgb(8,29,88)\"]], \"showscale\": true}, \"geo\": {\"center\": {}, \"domain\": {\"x\": [0.0, 1.0], \"y\": [0.0, 1.0]}}, \"legend\": {\"tracegroupgap\": 0}, \"template\": {\"data\": {\"bar\": [{\"error_x\": {\"color\": \"#2a3f5f\"}, \"error_y\": {\"color\": \"#2a3f5f\"}, \"marker\": {\"line\": {\"color\": \"#E5ECF6\", \"width\": 0.5}}, \"type\": \"bar\"}], \"barpolar\": [{\"marker\": {\"line\": {\"color\": \"#E5ECF6\", \"width\": 0.5}}, \"type\": \"barpolar\"}], \"carpet\": [{\"aaxis\": {\"endlinecolor\": \"#2a3f5f\", \"gridcolor\": \"white\", \"linecolor\": \"white\", \"minorgridcolor\": \"white\", \"startlinecolor\": \"#2a3f5f\"}, \"baxis\": {\"endlinecolor\": \"#2a3f5f\", \"gridcolor\": \"white\", \"linecolor\": \"white\", \"minorgridcolor\": \"white\", \"startlinecolor\": \"#2a3f5f\"}, \"type\": \"carpet\"}], \"choropleth\": [{\"colorbar\": {\"outlinewidth\": 0, \"ticks\": \"\"}, \"type\": \"choropleth\"}], \"contour\": [{\"colorbar\": {\"outlinewidth\": 0, \"ticks\": \"\"}, \"colorscale\": [[0.0, \"#0d0887\"], [0.1111111111111111, \"#46039f\"], [0.2222222222222222, \"#7201a8\"], [0.3333333333333333, \"#9c179e\"], [0.4444444444444444, \"#bd3786\"], [0.5555555555555556, \"#d8576b\"], [0.6666666666666666, \"#ed7953\"], [0.7777777777777778, \"#fb9f3a\"], [0.8888888888888888, \"#fdca26\"], [1.0, \"#f0f921\"]], \"type\": \"contour\"}], \"contourcarpet\": [{\"colorbar\": {\"outlinewidth\": 0, \"ticks\": \"\"}, \"type\": \"contourcarpet\"}], \"heatmap\": [{\"colorbar\": {\"outlinewidth\": 0, \"ticks\": \"\"}, \"colorscale\": [[0.0, \"#0d0887\"], [0.1111111111111111, \"#46039f\"], [0.2222222222222222, \"#7201a8\"], [0.3333333333333333, \"#9c179e\"], [0.4444444444444444, \"#bd3786\"], [0.5555555555555556, \"#d8576b\"], [0.6666666666666666, \"#ed7953\"], [0.7777777777777778, \"#fb9f3a\"], [0.8888888888888888, \"#fdca26\"], [1.0, \"#f0f921\"]], \"type\": \"heatmap\"}], \"heatmapgl\": [{\"colorbar\": {\"outlinewidth\": 0, \"ticks\": \"\"}, \"colorscale\": [[0.0, \"#0d0887\"], [0.1111111111111111, \"#46039f\"], [0.2222222222222222, \"#7201a8\"], [0.3333333333333333, \"#9c179e\"], [0.4444444444444444, \"#bd3786\"], [0.5555555555555556, \"#d8576b\"], [0.6666666666666666, \"#ed7953\"], [0.7777777777777778, \"#fb9f3a\"], [0.8888888888888888, \"#fdca26\"], [1.0, \"#f0f921\"]], \"type\": \"heatmapgl\"}], \"histogram\": [{\"marker\": {\"colorbar\": {\"outlinewidth\": 0, \"ticks\": \"\"}}, \"type\": \"histogram\"}], \"histogram2d\": [{\"colorbar\": {\"outlinewidth\": 0, \"ticks\": \"\"}, \"colorscale\": [[0.0, \"#0d0887\"], [0.1111111111111111, \"#46039f\"], [0.2222222222222222, \"#7201a8\"], [0.3333333333333333, \"#9c179e\"], [0.4444444444444444, \"#bd3786\"], [0.5555555555555556, \"#d8576b\"], [0.6666666666666666, \"#ed7953\"], [0.7777777777777778, \"#fb9f3a\"], [0.8888888888888888, \"#fdca26\"], [1.0, \"#f0f921\"]], \"type\": \"histogram2d\"}], \"histogram2dcontour\": [{\"colorbar\": {\"outlinewidth\": 0, \"ticks\": \"\"}, \"colorscale\": [[0.0, \"#0d0887\"], [0.1111111111111111, \"#46039f\"], [0.2222222222222222, \"#7201a8\"], [0.3333333333333333, \"#9c179e\"], [0.4444444444444444, \"#bd3786\"], [0.5555555555555556, \"#d8576b\"], [0.6666666666666666, \"#ed7953\"], [0.7777777777777778, \"#fb9f3a\"], [0.8888888888888888, \"#fdca26\"], [1.0, \"#f0f921\"]], \"type\": \"histogram2dcontour\"}], \"mesh3d\": [{\"colorbar\": {\"outlinewidth\": 0, \"ticks\": \"\"}, \"type\": \"mesh3d\"}], \"parcoords\": [{\"line\": {\"colorbar\": {\"outlinewidth\": 0, \"ticks\": \"\"}}, \"type\": \"parcoords\"}], \"pie\": [{\"automargin\": true, \"type\": \"pie\"}], \"scatter\": [{\"marker\": {\"colorbar\": {\"outlinewidth\": 0, \"ticks\": \"\"}}, \"type\": \"scatter\"}], \"scatter3d\": [{\"line\": {\"colorbar\": {\"outlinewidth\": 0, \"ticks\": \"\"}}, \"marker\": {\"colorbar\": {\"outlinewidth\": 0, \"ticks\": \"\"}}, \"type\": \"scatter3d\"}], \"scattercarpet\": [{\"marker\": {\"colorbar\": {\"outlinewidth\": 0, \"ticks\": \"\"}}, \"type\": \"scattercarpet\"}], \"scattergeo\": [{\"marker\": {\"colorbar\": {\"outlinewidth\": 0, \"ticks\": \"\"}}, \"type\": \"scattergeo\"}], \"scattergl\": [{\"marker\": {\"colorbar\": {\"outlinewidth\": 0, \"ticks\": \"\"}}, \"type\": \"scattergl\"}], \"scattermapbox\": [{\"marker\": {\"colorbar\": {\"outlinewidth\": 0, \"ticks\": \"\"}}, \"type\": \"scattermapbox\"}], \"scatterpolar\": [{\"marker\": {\"colorbar\": {\"outlinewidth\": 0, \"ticks\": \"\"}}, \"type\": \"scatterpolar\"}], \"scatterpolargl\": [{\"marker\": {\"colorbar\": {\"outlinewidth\": 0, \"ticks\": \"\"}}, \"type\": \"scatterpolargl\"}], \"scatterternary\": [{\"marker\": {\"colorbar\": {\"outlinewidth\": 0, \"ticks\": \"\"}}, \"type\": \"scatterternary\"}], \"surface\": [{\"colorbar\": {\"outlinewidth\": 0, \"ticks\": \"\"}, \"colorscale\": [[0.0, \"#0d0887\"], [0.1111111111111111, \"#46039f\"], [0.2222222222222222, \"#7201a8\"], [0.3333333333333333, \"#9c179e\"], [0.4444444444444444, \"#bd3786\"], [0.5555555555555556, \"#d8576b\"], [0.6666666666666666, \"#ed7953\"], [0.7777777777777778, \"#fb9f3a\"], [0.8888888888888888, \"#fdca26\"], [1.0, \"#f0f921\"]], \"type\": \"surface\"}], \"table\": [{\"cells\": {\"fill\": {\"color\": \"#EBF0F8\"}, \"line\": {\"color\": \"white\"}}, \"header\": {\"fill\": {\"color\": \"#C8D4E3\"}, \"line\": {\"color\": \"white\"}}, \"type\": \"table\"}]}, \"layout\": {\"annotationdefaults\": {\"arrowcolor\": \"#2a3f5f\", \"arrowhead\": 0, \"arrowwidth\": 1}, \"coloraxis\": {\"colorbar\": {\"outlinewidth\": 0, \"ticks\": \"\"}}, \"colorscale\": {\"diverging\": [[0, \"#8e0152\"], [0.1, \"#c51b7d\"], [0.2, \"#de77ae\"], [0.3, \"#f1b6da\"], [0.4, \"#fde0ef\"], [0.5, \"#f7f7f7\"], [0.6, \"#e6f5d0\"], [0.7, \"#b8e186\"], [0.8, \"#7fbc41\"], [0.9, \"#4d9221\"], [1, \"#276419\"]], \"sequential\": [[0.0, \"#0d0887\"], [0.1111111111111111, \"#46039f\"], [0.2222222222222222, \"#7201a8\"], [0.3333333333333333, \"#9c179e\"], [0.4444444444444444, \"#bd3786\"], [0.5555555555555556, \"#d8576b\"], [0.6666666666666666, \"#ed7953\"], [0.7777777777777778, \"#fb9f3a\"], [0.8888888888888888, \"#fdca26\"], [1.0, \"#f0f921\"]], \"sequentialminus\": [[0.0, \"#0d0887\"], [0.1111111111111111, \"#46039f\"], [0.2222222222222222, \"#7201a8\"], [0.3333333333333333, \"#9c179e\"], [0.4444444444444444, \"#bd3786\"], [0.5555555555555556, \"#d8576b\"], [0.6666666666666666, \"#ed7953\"], [0.7777777777777778, \"#fb9f3a\"], [0.8888888888888888, \"#fdca26\"], [1.0, \"#f0f921\"]]}, \"colorway\": [\"#636efa\", \"#EF553B\", \"#00cc96\", \"#ab63fa\", \"#FFA15A\", \"#19d3f3\", \"#FF6692\", \"#B6E880\", \"#FF97FF\", \"#FECB52\"], \"font\": {\"color\": \"#2a3f5f\"}, \"geo\": {\"bgcolor\": \"white\", \"lakecolor\": \"white\", \"landcolor\": \"#E5ECF6\", \"showlakes\": true, \"showland\": true, \"subunitcolor\": \"white\"}, \"hoverlabel\": {\"align\": \"left\"}, \"hovermode\": \"closest\", \"mapbox\": {\"style\": \"light\"}, \"paper_bgcolor\": \"white\", \"plot_bgcolor\": \"#E5ECF6\", \"polar\": {\"angularaxis\": {\"gridcolor\": \"white\", \"linecolor\": \"white\", \"ticks\": \"\"}, \"bgcolor\": \"#E5ECF6\", \"radialaxis\": {\"gridcolor\": \"white\", \"linecolor\": \"white\", \"ticks\": \"\"}}, \"scene\": {\"xaxis\": {\"backgroundcolor\": \"#E5ECF6\", \"gridcolor\": \"white\", \"gridwidth\": 2, \"linecolor\": \"white\", \"showbackground\": true, \"ticks\": \"\", \"zerolinecolor\": \"white\"}, \"yaxis\": {\"backgroundcolor\": \"#E5ECF6\", \"gridcolor\": \"white\", \"gridwidth\": 2, \"linecolor\": \"white\", \"showbackground\": true, \"ticks\": \"\", \"zerolinecolor\": \"white\"}, \"zaxis\": {\"backgroundcolor\": \"#E5ECF6\", \"gridcolor\": \"white\", \"gridwidth\": 2, \"linecolor\": \"white\", \"showbackground\": true, \"ticks\": \"\", \"zerolinecolor\": \"white\"}}, \"shapedefaults\": {\"line\": {\"color\": \"#2a3f5f\"}}, \"ternary\": {\"aaxis\": {\"gridcolor\": \"white\", \"linecolor\": \"white\", \"ticks\": \"\"}, \"baxis\": {\"gridcolor\": \"white\", \"linecolor\": \"white\", \"ticks\": \"\"}, \"bgcolor\": \"#E5ECF6\", \"caxis\": {\"gridcolor\": \"white\", \"linecolor\": \"white\", \"ticks\": \"\"}}, \"title\": {\"x\": 0.05}, \"xaxis\": {\"automargin\": true, \"gridcolor\": \"white\", \"linecolor\": \"white\", \"ticks\": \"\", \"title\": {\"standoff\": 15}, \"zerolinecolor\": \"white\", \"zerolinewidth\": 2}, \"yaxis\": {\"automargin\": true, \"gridcolor\": \"white\", \"linecolor\": \"white\", \"ticks\": \"\", \"title\": {\"standoff\": 15}, \"zerolinecolor\": \"white\", \"zerolinewidth\": 2}}}, \"title\": {\"text\": \"Density of Countries in 2020\"}},\n",
       "                        {\"responsive\": true}\n",
       "                    ).then(function(){\n",
       "                            \n",
       "var gd = document.getElementById('edaa2fb4-81af-4d31-bbef-852f11a7cdb7');\n",
       "var x = new MutationObserver(function (mutations, observer) {{\n",
       "        var display = window.getComputedStyle(gd).display;\n",
       "        if (!display || display === 'none') {{\n",
       "            console.log([gd, 'removed!']);\n",
       "            Plotly.purge(gd);\n",
       "            observer.disconnect();\n",
       "        }}\n",
       "}});\n",
       "\n",
       "// Listen for the removal of the full notebook cells\n",
       "var notebookContainer = gd.closest('#notebook-container');\n",
       "if (notebookContainer) {{\n",
       "    x.observe(notebookContainer, {childList: true});\n",
       "}}\n",
       "\n",
       "// Listen for the clearing of the current output cell\n",
       "var outputEl = gd.closest('.output');\n",
       "if (outputEl) {{\n",
       "    x.observe(outputEl, {childList: true});\n",
       "}}\n",
       "\n",
       "                        })\n",
       "                };\n",
       "                });\n",
       "            </script>\n",
       "        </div>"
      ]
     },
     "metadata": {},
     "output_type": "display_data"
    }
   ],
   "source": [
    "fig = px.choropleth(population_2020, locations=\"Country\", \n",
    "                    locationmode='country names', color=\"Density (P/Km²)\", \n",
    "                    hover_name=\"Country\", \n",
    "                    color_continuous_scale=\"ylgnbu\", \n",
    "                    title='Density of Countries in 2020')\n",
    "fig.update(layout_coloraxis_showscale=True)\n",
    "fig.show()"
   ]
  },
  {
   "cell_type": "code",
   "execution_count": 45,
   "metadata": {
    "ExecuteTime": {
     "end_time": "2020-08-17T08:54:27.320286Z",
     "start_time": "2020-08-17T08:54:27.304711Z"
    }
   },
   "outputs": [
    {
     "data": {
      "text/html": [
       "<div>\n",
       "<style scoped>\n",
       "    .dataframe tbody tr th:only-of-type {\n",
       "        vertical-align: middle;\n",
       "    }\n",
       "\n",
       "    .dataframe tbody tr th {\n",
       "        vertical-align: top;\n",
       "    }\n",
       "\n",
       "    .dataframe thead th {\n",
       "        text-align: right;\n",
       "    }\n",
       "</style>\n",
       "<table border=\"1\" class=\"dataframe\">\n",
       "  <thead>\n",
       "    <tr style=\"text-align: right;\">\n",
       "      <th></th>\n",
       "      <th>Country</th>\n",
       "      <th>Density (P/Km²)</th>\n",
       "    </tr>\n",
       "  </thead>\n",
       "  <tbody>\n",
       "    <tr>\n",
       "      <th>2988</th>\n",
       "      <td>Macao</td>\n",
       "      <td>21645</td>\n",
       "    </tr>\n",
       "  </tbody>\n",
       "</table>\n",
       "</div>"
      ],
      "text/plain": [
       "     Country  Density (P/Km²)\n",
       "2988   Macao            21645"
      ]
     },
     "execution_count": 45,
     "metadata": {},
     "output_type": "execute_result"
    }
   ],
   "source": [
    "# highest dense country by population\n",
    "population_2020[population_2020['Density (P/Km²)']==population_2020['Density (P/Km²)'].max()][['Country','Density (P/Km²)']]"
   ]
  },
  {
   "cell_type": "code",
   "execution_count": 46,
   "metadata": {
    "ExecuteTime": {
     "end_time": "2020-08-17T08:54:32.881334Z",
     "start_time": "2020-08-17T08:54:32.866671Z"
    }
   },
   "outputs": [
    {
     "data": {
      "text/html": [
       "<div>\n",
       "<style scoped>\n",
       "    .dataframe tbody tr th:only-of-type {\n",
       "        vertical-align: middle;\n",
       "    }\n",
       "\n",
       "    .dataframe tbody tr th {\n",
       "        vertical-align: top;\n",
       "    }\n",
       "\n",
       "    .dataframe thead th {\n",
       "        text-align: right;\n",
       "    }\n",
       "</style>\n",
       "<table border=\"1\" class=\"dataframe\">\n",
       "  <thead>\n",
       "    <tr style=\"text-align: right;\">\n",
       "      <th></th>\n",
       "      <th>Country</th>\n",
       "      <th>Density (P/Km²)</th>\n",
       "    </tr>\n",
       "  </thead>\n",
       "  <tbody>\n",
       "    <tr>\n",
       "      <th>2430</th>\n",
       "      <td>Mongolia</td>\n",
       "      <td>2</td>\n",
       "    </tr>\n",
       "    <tr>\n",
       "      <th>3042</th>\n",
       "      <td>Western Sahara</td>\n",
       "      <td>2</td>\n",
       "    </tr>\n",
       "  </tbody>\n",
       "</table>\n",
       "</div>"
      ],
      "text/plain": [
       "             Country  Density (P/Km²)\n",
       "2430        Mongolia                2\n",
       "3042  Western Sahara                2"
      ]
     },
     "execution_count": 46,
     "metadata": {},
     "output_type": "execute_result"
    }
   ],
   "source": [
    "# lowest dense country by population\n",
    "population_2020[population_2020['Density (P/Km²)']==population_2020['Density (P/Km²)'].min()][['Country','Density (P/Km²)']]"
   ]
  },
  {
   "cell_type": "markdown",
   "metadata": {},
   "source": [
    "## Which Country is Highly Populated?"
   ]
  },
  {
   "cell_type": "code",
   "execution_count": 47,
   "metadata": {
    "ExecuteTime": {
     "end_time": "2020-08-17T08:54:46.706332Z",
     "start_time": "2020-08-17T08:54:46.690510Z"
    }
   },
   "outputs": [
    {
     "data": {
      "text/html": [
       "<div>\n",
       "<style scoped>\n",
       "    .dataframe tbody tr th:only-of-type {\n",
       "        vertical-align: middle;\n",
       "    }\n",
       "\n",
       "    .dataframe tbody tr th {\n",
       "        vertical-align: top;\n",
       "    }\n",
       "\n",
       "    .dataframe thead th {\n",
       "        text-align: right;\n",
       "    }\n",
       "</style>\n",
       "<table border=\"1\" class=\"dataframe\">\n",
       "  <thead>\n",
       "    <tr style=\"text-align: right;\">\n",
       "      <th></th>\n",
       "      <th>Country</th>\n",
       "      <th>Population</th>\n",
       "    </tr>\n",
       "  </thead>\n",
       "  <tbody>\n",
       "    <tr>\n",
       "      <th>0</th>\n",
       "      <td>China</td>\n",
       "      <td>1439323776</td>\n",
       "    </tr>\n",
       "  </tbody>\n",
       "</table>\n",
       "</div>"
      ],
      "text/plain": [
       "  Country  Population\n",
       "0   China  1439323776"
      ]
     },
     "execution_count": 47,
     "metadata": {},
     "output_type": "execute_result"
    }
   ],
   "source": [
    "# highly populated country\n",
    "population_2020[population_2020['Population']==population_2020['Population'].max()][['Country','Population']]"
   ]
  },
  {
   "cell_type": "code",
   "execution_count": 48,
   "metadata": {
    "ExecuteTime": {
     "end_time": "2020-08-17T08:54:52.969084Z",
     "start_time": "2020-08-17T08:54:52.895594Z"
    }
   },
   "outputs": [
    {
     "data": {
      "application/vnd.plotly.v1+json": {
       "config": {
        "plotlyServerURL": "https://plot.ly"
       },
       "data": [
        {
         "coloraxis": "coloraxis",
         "geo": "geo",
         "hovertemplate": "<b>%{hovertext}</b><br><br>Country=%{location}<br>Population=%{z}<extra></extra>",
         "hovertext": [
          "China",
          "India",
          "United States",
          "Indonesia",
          "Pakistan",
          "Brazil",
          "Nigeria",
          "Bangladesh",
          "Russia",
          "Mexico",
          "Japan",
          "Ethiopia",
          "Philippines",
          "Egypt",
          "Vietnam",
          "DR Congo",
          "Turkey",
          "Iran",
          "Germany",
          "Thailand",
          "United Kingdom",
          "France",
          "Italy",
          "Tanzania",
          "South Africa",
          "Myanmar",
          "Kenya",
          "South Korea",
          "Colombia",
          "Spain",
          "Uganda",
          "Argentina",
          "Algeria",
          "Sudan",
          "Ukraine",
          "Iraq",
          "Afghanistan",
          "Poland",
          "Canada",
          "Morocco",
          "Saudi Arabia",
          "Uzbekistan",
          "Peru",
          "Angola",
          "Malaysia",
          "Mozambique",
          "Ghana",
          "Yemen",
          "Nepal",
          "Venezuela",
          "Madagascar",
          "Cameroon",
          "Côte d'Ivoire",
          "North Korea",
          "Australia",
          "Niger",
          "Taiwan",
          "Sri Lanka",
          "Burkina Faso",
          "Mali",
          "Romania",
          "Malawi",
          "Chile",
          "Kazakhstan",
          "Zambia",
          "Guatemala",
          "Ecuador",
          "Syria",
          "Netherlands",
          "Senegal",
          "Cambodia",
          "Chad",
          "Somalia",
          "Zimbabwe",
          "Guinea",
          "Rwanda",
          "Benin",
          "Burundi",
          "Tunisia",
          "Bolivia",
          "Belgium",
          "Haiti",
          "Cuba",
          "South Sudan",
          "Dominican Republic",
          "Czech Republic (Czechia)",
          "Greece",
          "Jordan",
          "Portugal",
          "Azerbaijan",
          "Sweden",
          "Honduras",
          "United Arab Emirates",
          "Hungary",
          "Tajikistan",
          "Belarus",
          "Austria",
          "Papua New Guinea",
          "Serbia",
          "Israel",
          "Switzerland",
          "Togo",
          "Sierra Leone",
          "Hong Kong",
          "Laos",
          "Paraguay",
          "Bulgaria",
          "Libya",
          "Lebanon",
          "Nicaragua",
          "Kyrgyzstan",
          "El Salvador",
          "Turkmenistan",
          "Singapore",
          "Denmark",
          "Finland",
          "Congo",
          "Slovakia",
          "Norway",
          "Oman",
          "State of Palestine",
          "Costa Rica",
          "Liberia",
          "Ireland",
          "Central African Republic",
          "New Zealand",
          "Mauritania",
          "Panama",
          "Kuwait",
          "Croatia",
          "Moldova",
          "Georgia",
          "Eritrea",
          "Uruguay",
          "Bosnia and Herzegovina",
          "Mongolia",
          "Armenia",
          "Jamaica",
          "Qatar",
          "Albania",
          "Puerto Rico",
          "Lithuania",
          "Namibia",
          "Gambia",
          "Botswana",
          "Gabon",
          "Lesotho",
          "North Macedonia",
          "Slovenia",
          "Guinea-Bissau",
          "Latvia",
          "Bahrain",
          "Equatorial Guinea",
          "Trinidad and Tobago",
          "Estonia",
          "Timor-Leste",
          "Mauritius",
          "Cyprus",
          "Eswatini",
          "Djibouti",
          "Fiji",
          "Réunion",
          "Comoros",
          "Guyana",
          "Bhutan",
          "Solomon Islands",
          "Macao",
          "Montenegro",
          "Luxembourg",
          "Western Sahara",
          "Suriname",
          "Cabo Verde",
          "Maldives",
          "Malta",
          "Brunei ",
          "Guadeloupe",
          "Belize",
          "Bahamas",
          "Martinique",
          "Iceland",
          "Vanuatu",
          "French Guiana",
          "Barbados",
          "New Caledonia",
          "French Polynesia",
          "Mayotte",
          "Sao Tome & Principe",
          "Samoa",
          "Saint Lucia",
          "Channel Islands",
          "Guam",
          "Curaçao",
          "Kiribati",
          "Grenada",
          "St. Vincent & Grenadines",
          "Aruba",
          "Tonga",
          "U.S. Virgin Islands",
          "Seychelles",
          "Antigua and Barbuda"
         ],
         "locationmode": "country names",
         "locations": [
          "China",
          "India",
          "United States",
          "Indonesia",
          "Pakistan",
          "Brazil",
          "Nigeria",
          "Bangladesh",
          "Russia",
          "Mexico",
          "Japan",
          "Ethiopia",
          "Philippines",
          "Egypt",
          "Vietnam",
          "DR Congo",
          "Turkey",
          "Iran",
          "Germany",
          "Thailand",
          "United Kingdom",
          "France",
          "Italy",
          "Tanzania",
          "South Africa",
          "Myanmar",
          "Kenya",
          "South Korea",
          "Colombia",
          "Spain",
          "Uganda",
          "Argentina",
          "Algeria",
          "Sudan",
          "Ukraine",
          "Iraq",
          "Afghanistan",
          "Poland",
          "Canada",
          "Morocco",
          "Saudi Arabia",
          "Uzbekistan",
          "Peru",
          "Angola",
          "Malaysia",
          "Mozambique",
          "Ghana",
          "Yemen",
          "Nepal",
          "Venezuela",
          "Madagascar",
          "Cameroon",
          "Côte d'Ivoire",
          "North Korea",
          "Australia",
          "Niger",
          "Taiwan",
          "Sri Lanka",
          "Burkina Faso",
          "Mali",
          "Romania",
          "Malawi",
          "Chile",
          "Kazakhstan",
          "Zambia",
          "Guatemala",
          "Ecuador",
          "Syria",
          "Netherlands",
          "Senegal",
          "Cambodia",
          "Chad",
          "Somalia",
          "Zimbabwe",
          "Guinea",
          "Rwanda",
          "Benin",
          "Burundi",
          "Tunisia",
          "Bolivia",
          "Belgium",
          "Haiti",
          "Cuba",
          "South Sudan",
          "Dominican Republic",
          "Czech Republic (Czechia)",
          "Greece",
          "Jordan",
          "Portugal",
          "Azerbaijan",
          "Sweden",
          "Honduras",
          "United Arab Emirates",
          "Hungary",
          "Tajikistan",
          "Belarus",
          "Austria",
          "Papua New Guinea",
          "Serbia",
          "Israel",
          "Switzerland",
          "Togo",
          "Sierra Leone",
          "Hong Kong",
          "Laos",
          "Paraguay",
          "Bulgaria",
          "Libya",
          "Lebanon",
          "Nicaragua",
          "Kyrgyzstan",
          "El Salvador",
          "Turkmenistan",
          "Singapore",
          "Denmark",
          "Finland",
          "Congo",
          "Slovakia",
          "Norway",
          "Oman",
          "State of Palestine",
          "Costa Rica",
          "Liberia",
          "Ireland",
          "Central African Republic",
          "New Zealand",
          "Mauritania",
          "Panama",
          "Kuwait",
          "Croatia",
          "Moldova",
          "Georgia",
          "Eritrea",
          "Uruguay",
          "Bosnia and Herzegovina",
          "Mongolia",
          "Armenia",
          "Jamaica",
          "Qatar",
          "Albania",
          "Puerto Rico",
          "Lithuania",
          "Namibia",
          "Gambia",
          "Botswana",
          "Gabon",
          "Lesotho",
          "North Macedonia",
          "Slovenia",
          "Guinea-Bissau",
          "Latvia",
          "Bahrain",
          "Equatorial Guinea",
          "Trinidad and Tobago",
          "Estonia",
          "Timor-Leste",
          "Mauritius",
          "Cyprus",
          "Eswatini",
          "Djibouti",
          "Fiji",
          "Réunion",
          "Comoros",
          "Guyana",
          "Bhutan",
          "Solomon Islands",
          "Macao",
          "Montenegro",
          "Luxembourg",
          "Western Sahara",
          "Suriname",
          "Cabo Verde",
          "Maldives",
          "Malta",
          "Brunei ",
          "Guadeloupe",
          "Belize",
          "Bahamas",
          "Martinique",
          "Iceland",
          "Vanuatu",
          "French Guiana",
          "Barbados",
          "New Caledonia",
          "French Polynesia",
          "Mayotte",
          "Sao Tome & Principe",
          "Samoa",
          "Saint Lucia",
          "Channel Islands",
          "Guam",
          "Curaçao",
          "Kiribati",
          "Grenada",
          "St. Vincent & Grenadines",
          "Aruba",
          "Tonga",
          "U.S. Virgin Islands",
          "Seychelles",
          "Antigua and Barbuda"
         ],
         "name": "",
         "type": "choropleth",
         "z": [
          1439323776,
          1380004385,
          331002651,
          273523615,
          220892340,
          212559417,
          206139589,
          164689383,
          145934462,
          128932753,
          126476461,
          114963588,
          109581078,
          102334404,
          97338579,
          89561403,
          84339067,
          83992949,
          83783942,
          69799978,
          67886011,
          65273511,
          60461826,
          59734218,
          59308690,
          54409800,
          53771296,
          51269185,
          50882891,
          46754778,
          45741007,
          45195774,
          43851044,
          43849260,
          43733762,
          40222493,
          38928346,
          37846611,
          37742154,
          36910560,
          34813871,
          33469203,
          32971854,
          32866272,
          32365999,
          31255435,
          31072940,
          29825964,
          29136808,
          28435940,
          27691018,
          26545863,
          26378274,
          25778816,
          25499884,
          24206644,
          23816775,
          21413249,
          20903273,
          20250833,
          19237691,
          19129952,
          19116201,
          18776707,
          18383955,
          17915568,
          17643054,
          17500658,
          17134872,
          16743927,
          16718965,
          16425864,
          15893222,
          14862924,
          13132795,
          12952218,
          12123200,
          11890784,
          11818619,
          11673021,
          11589623,
          11402528,
          11326616,
          11193725,
          10847910,
          10708981,
          10423054,
          10203134,
          10196709,
          10139177,
          10099265,
          9904607,
          9890402,
          9660351,
          9537645,
          9449323,
          9006398,
          8947024,
          8737371,
          8655535,
          8654622,
          8278724,
          7976983,
          7496981,
          7275560,
          7132538,
          6948445,
          6871292,
          6825445,
          6624554,
          6524195,
          6486205,
          6031200,
          5850342,
          5792202,
          5540720,
          5518087,
          5459642,
          5421241,
          5106626,
          5101414,
          5094118,
          5057681,
          4937786,
          4829767,
          4822233,
          4649658,
          4314767,
          4270571,
          4105267,
          4033963,
          3989167,
          3546421,
          3473730,
          3280819,
          3278290,
          2963243,
          2961167,
          2881053,
          2877797,
          2860853,
          2722289,
          2540905,
          2416668,
          2351627,
          2225734,
          2142249,
          2083374,
          2078938,
          1968001,
          1886198,
          1701575,
          1402985,
          1399488,
          1326535,
          1318445,
          1271768,
          1207359,
          1160164,
          988000,
          896445,
          895312,
          869601,
          786552,
          771608,
          686884,
          649335,
          628066,
          625978,
          597339,
          586632,
          555987,
          540544,
          441543,
          437479,
          400124,
          397628,
          393244,
          375265,
          341243,
          307145,
          298682,
          287375,
          285498,
          280908,
          272815,
          219159,
          198414,
          183627,
          173863,
          168775,
          164093,
          119449,
          112523,
          110940,
          106766,
          105695,
          104425,
          98347,
          97929
         ]
        }
       ],
       "layout": {
        "coloraxis": {
         "colorbar": {
          "title": {
           "text": "Population"
          }
         },
         "colorscale": [
          [
           0,
           "rgb(230, 240, 240)"
          ],
          [
           0.09090909090909091,
           "rgb(191, 221, 229)"
          ],
          [
           0.18181818181818182,
           "rgb(156, 201, 226)"
          ],
          [
           0.2727272727272727,
           "rgb(129, 180, 227)"
          ],
          [
           0.36363636363636365,
           "rgb(115, 154, 228)"
          ],
          [
           0.45454545454545453,
           "rgb(117, 127, 221)"
          ],
          [
           0.5454545454545454,
           "rgb(120, 100, 202)"
          ],
          [
           0.6363636363636364,
           "rgb(119, 74, 175)"
          ],
          [
           0.7272727272727273,
           "rgb(113, 50, 141)"
          ],
          [
           0.8181818181818182,
           "rgb(100, 31, 104)"
          ],
          [
           0.9090909090909091,
           "rgb(80, 20, 66)"
          ],
          [
           1,
           "rgb(54, 14, 36)"
          ]
         ],
         "showscale": true
        },
        "geo": {
         "center": {},
         "domain": {
          "x": [
           0,
           1
          ],
          "y": [
           0,
           1
          ]
         }
        },
        "legend": {
         "tracegroupgap": 0
        },
        "template": {
         "data": {
          "bar": [
           {
            "error_x": {
             "color": "#2a3f5f"
            },
            "error_y": {
             "color": "#2a3f5f"
            },
            "marker": {
             "line": {
              "color": "#E5ECF6",
              "width": 0.5
             }
            },
            "type": "bar"
           }
          ],
          "barpolar": [
           {
            "marker": {
             "line": {
              "color": "#E5ECF6",
              "width": 0.5
             }
            },
            "type": "barpolar"
           }
          ],
          "carpet": [
           {
            "aaxis": {
             "endlinecolor": "#2a3f5f",
             "gridcolor": "white",
             "linecolor": "white",
             "minorgridcolor": "white",
             "startlinecolor": "#2a3f5f"
            },
            "baxis": {
             "endlinecolor": "#2a3f5f",
             "gridcolor": "white",
             "linecolor": "white",
             "minorgridcolor": "white",
             "startlinecolor": "#2a3f5f"
            },
            "type": "carpet"
           }
          ],
          "choropleth": [
           {
            "colorbar": {
             "outlinewidth": 0,
             "ticks": ""
            },
            "type": "choropleth"
           }
          ],
          "contour": [
           {
            "colorbar": {
             "outlinewidth": 0,
             "ticks": ""
            },
            "colorscale": [
             [
              0,
              "#0d0887"
             ],
             [
              0.1111111111111111,
              "#46039f"
             ],
             [
              0.2222222222222222,
              "#7201a8"
             ],
             [
              0.3333333333333333,
              "#9c179e"
             ],
             [
              0.4444444444444444,
              "#bd3786"
             ],
             [
              0.5555555555555556,
              "#d8576b"
             ],
             [
              0.6666666666666666,
              "#ed7953"
             ],
             [
              0.7777777777777778,
              "#fb9f3a"
             ],
             [
              0.8888888888888888,
              "#fdca26"
             ],
             [
              1,
              "#f0f921"
             ]
            ],
            "type": "contour"
           }
          ],
          "contourcarpet": [
           {
            "colorbar": {
             "outlinewidth": 0,
             "ticks": ""
            },
            "type": "contourcarpet"
           }
          ],
          "heatmap": [
           {
            "colorbar": {
             "outlinewidth": 0,
             "ticks": ""
            },
            "colorscale": [
             [
              0,
              "#0d0887"
             ],
             [
              0.1111111111111111,
              "#46039f"
             ],
             [
              0.2222222222222222,
              "#7201a8"
             ],
             [
              0.3333333333333333,
              "#9c179e"
             ],
             [
              0.4444444444444444,
              "#bd3786"
             ],
             [
              0.5555555555555556,
              "#d8576b"
             ],
             [
              0.6666666666666666,
              "#ed7953"
             ],
             [
              0.7777777777777778,
              "#fb9f3a"
             ],
             [
              0.8888888888888888,
              "#fdca26"
             ],
             [
              1,
              "#f0f921"
             ]
            ],
            "type": "heatmap"
           }
          ],
          "heatmapgl": [
           {
            "colorbar": {
             "outlinewidth": 0,
             "ticks": ""
            },
            "colorscale": [
             [
              0,
              "#0d0887"
             ],
             [
              0.1111111111111111,
              "#46039f"
             ],
             [
              0.2222222222222222,
              "#7201a8"
             ],
             [
              0.3333333333333333,
              "#9c179e"
             ],
             [
              0.4444444444444444,
              "#bd3786"
             ],
             [
              0.5555555555555556,
              "#d8576b"
             ],
             [
              0.6666666666666666,
              "#ed7953"
             ],
             [
              0.7777777777777778,
              "#fb9f3a"
             ],
             [
              0.8888888888888888,
              "#fdca26"
             ],
             [
              1,
              "#f0f921"
             ]
            ],
            "type": "heatmapgl"
           }
          ],
          "histogram": [
           {
            "marker": {
             "colorbar": {
              "outlinewidth": 0,
              "ticks": ""
             }
            },
            "type": "histogram"
           }
          ],
          "histogram2d": [
           {
            "colorbar": {
             "outlinewidth": 0,
             "ticks": ""
            },
            "colorscale": [
             [
              0,
              "#0d0887"
             ],
             [
              0.1111111111111111,
              "#46039f"
             ],
             [
              0.2222222222222222,
              "#7201a8"
             ],
             [
              0.3333333333333333,
              "#9c179e"
             ],
             [
              0.4444444444444444,
              "#bd3786"
             ],
             [
              0.5555555555555556,
              "#d8576b"
             ],
             [
              0.6666666666666666,
              "#ed7953"
             ],
             [
              0.7777777777777778,
              "#fb9f3a"
             ],
             [
              0.8888888888888888,
              "#fdca26"
             ],
             [
              1,
              "#f0f921"
             ]
            ],
            "type": "histogram2d"
           }
          ],
          "histogram2dcontour": [
           {
            "colorbar": {
             "outlinewidth": 0,
             "ticks": ""
            },
            "colorscale": [
             [
              0,
              "#0d0887"
             ],
             [
              0.1111111111111111,
              "#46039f"
             ],
             [
              0.2222222222222222,
              "#7201a8"
             ],
             [
              0.3333333333333333,
              "#9c179e"
             ],
             [
              0.4444444444444444,
              "#bd3786"
             ],
             [
              0.5555555555555556,
              "#d8576b"
             ],
             [
              0.6666666666666666,
              "#ed7953"
             ],
             [
              0.7777777777777778,
              "#fb9f3a"
             ],
             [
              0.8888888888888888,
              "#fdca26"
             ],
             [
              1,
              "#f0f921"
             ]
            ],
            "type": "histogram2dcontour"
           }
          ],
          "mesh3d": [
           {
            "colorbar": {
             "outlinewidth": 0,
             "ticks": ""
            },
            "type": "mesh3d"
           }
          ],
          "parcoords": [
           {
            "line": {
             "colorbar": {
              "outlinewidth": 0,
              "ticks": ""
             }
            },
            "type": "parcoords"
           }
          ],
          "pie": [
           {
            "automargin": true,
            "type": "pie"
           }
          ],
          "scatter": [
           {
            "marker": {
             "colorbar": {
              "outlinewidth": 0,
              "ticks": ""
             }
            },
            "type": "scatter"
           }
          ],
          "scatter3d": [
           {
            "line": {
             "colorbar": {
              "outlinewidth": 0,
              "ticks": ""
             }
            },
            "marker": {
             "colorbar": {
              "outlinewidth": 0,
              "ticks": ""
             }
            },
            "type": "scatter3d"
           }
          ],
          "scattercarpet": [
           {
            "marker": {
             "colorbar": {
              "outlinewidth": 0,
              "ticks": ""
             }
            },
            "type": "scattercarpet"
           }
          ],
          "scattergeo": [
           {
            "marker": {
             "colorbar": {
              "outlinewidth": 0,
              "ticks": ""
             }
            },
            "type": "scattergeo"
           }
          ],
          "scattergl": [
           {
            "marker": {
             "colorbar": {
              "outlinewidth": 0,
              "ticks": ""
             }
            },
            "type": "scattergl"
           }
          ],
          "scattermapbox": [
           {
            "marker": {
             "colorbar": {
              "outlinewidth": 0,
              "ticks": ""
             }
            },
            "type": "scattermapbox"
           }
          ],
          "scatterpolar": [
           {
            "marker": {
             "colorbar": {
              "outlinewidth": 0,
              "ticks": ""
             }
            },
            "type": "scatterpolar"
           }
          ],
          "scatterpolargl": [
           {
            "marker": {
             "colorbar": {
              "outlinewidth": 0,
              "ticks": ""
             }
            },
            "type": "scatterpolargl"
           }
          ],
          "scatterternary": [
           {
            "marker": {
             "colorbar": {
              "outlinewidth": 0,
              "ticks": ""
             }
            },
            "type": "scatterternary"
           }
          ],
          "surface": [
           {
            "colorbar": {
             "outlinewidth": 0,
             "ticks": ""
            },
            "colorscale": [
             [
              0,
              "#0d0887"
             ],
             [
              0.1111111111111111,
              "#46039f"
             ],
             [
              0.2222222222222222,
              "#7201a8"
             ],
             [
              0.3333333333333333,
              "#9c179e"
             ],
             [
              0.4444444444444444,
              "#bd3786"
             ],
             [
              0.5555555555555556,
              "#d8576b"
             ],
             [
              0.6666666666666666,
              "#ed7953"
             ],
             [
              0.7777777777777778,
              "#fb9f3a"
             ],
             [
              0.8888888888888888,
              "#fdca26"
             ],
             [
              1,
              "#f0f921"
             ]
            ],
            "type": "surface"
           }
          ],
          "table": [
           {
            "cells": {
             "fill": {
              "color": "#EBF0F8"
             },
             "line": {
              "color": "white"
             }
            },
            "header": {
             "fill": {
              "color": "#C8D4E3"
             },
             "line": {
              "color": "white"
             }
            },
            "type": "table"
           }
          ]
         },
         "layout": {
          "annotationdefaults": {
           "arrowcolor": "#2a3f5f",
           "arrowhead": 0,
           "arrowwidth": 1
          },
          "coloraxis": {
           "colorbar": {
            "outlinewidth": 0,
            "ticks": ""
           }
          },
          "colorscale": {
           "diverging": [
            [
             0,
             "#8e0152"
            ],
            [
             0.1,
             "#c51b7d"
            ],
            [
             0.2,
             "#de77ae"
            ],
            [
             0.3,
             "#f1b6da"
            ],
            [
             0.4,
             "#fde0ef"
            ],
            [
             0.5,
             "#f7f7f7"
            ],
            [
             0.6,
             "#e6f5d0"
            ],
            [
             0.7,
             "#b8e186"
            ],
            [
             0.8,
             "#7fbc41"
            ],
            [
             0.9,
             "#4d9221"
            ],
            [
             1,
             "#276419"
            ]
           ],
           "sequential": [
            [
             0,
             "#0d0887"
            ],
            [
             0.1111111111111111,
             "#46039f"
            ],
            [
             0.2222222222222222,
             "#7201a8"
            ],
            [
             0.3333333333333333,
             "#9c179e"
            ],
            [
             0.4444444444444444,
             "#bd3786"
            ],
            [
             0.5555555555555556,
             "#d8576b"
            ],
            [
             0.6666666666666666,
             "#ed7953"
            ],
            [
             0.7777777777777778,
             "#fb9f3a"
            ],
            [
             0.8888888888888888,
             "#fdca26"
            ],
            [
             1,
             "#f0f921"
            ]
           ],
           "sequentialminus": [
            [
             0,
             "#0d0887"
            ],
            [
             0.1111111111111111,
             "#46039f"
            ],
            [
             0.2222222222222222,
             "#7201a8"
            ],
            [
             0.3333333333333333,
             "#9c179e"
            ],
            [
             0.4444444444444444,
             "#bd3786"
            ],
            [
             0.5555555555555556,
             "#d8576b"
            ],
            [
             0.6666666666666666,
             "#ed7953"
            ],
            [
             0.7777777777777778,
             "#fb9f3a"
            ],
            [
             0.8888888888888888,
             "#fdca26"
            ],
            [
             1,
             "#f0f921"
            ]
           ]
          },
          "colorway": [
           "#636efa",
           "#EF553B",
           "#00cc96",
           "#ab63fa",
           "#FFA15A",
           "#19d3f3",
           "#FF6692",
           "#B6E880",
           "#FF97FF",
           "#FECB52"
          ],
          "font": {
           "color": "#2a3f5f"
          },
          "geo": {
           "bgcolor": "white",
           "lakecolor": "white",
           "landcolor": "#E5ECF6",
           "showlakes": true,
           "showland": true,
           "subunitcolor": "white"
          },
          "hoverlabel": {
           "align": "left"
          },
          "hovermode": "closest",
          "mapbox": {
           "style": "light"
          },
          "paper_bgcolor": "white",
          "plot_bgcolor": "#E5ECF6",
          "polar": {
           "angularaxis": {
            "gridcolor": "white",
            "linecolor": "white",
            "ticks": ""
           },
           "bgcolor": "#E5ECF6",
           "radialaxis": {
            "gridcolor": "white",
            "linecolor": "white",
            "ticks": ""
           }
          },
          "scene": {
           "xaxis": {
            "backgroundcolor": "#E5ECF6",
            "gridcolor": "white",
            "gridwidth": 2,
            "linecolor": "white",
            "showbackground": true,
            "ticks": "",
            "zerolinecolor": "white"
           },
           "yaxis": {
            "backgroundcolor": "#E5ECF6",
            "gridcolor": "white",
            "gridwidth": 2,
            "linecolor": "white",
            "showbackground": true,
            "ticks": "",
            "zerolinecolor": "white"
           },
           "zaxis": {
            "backgroundcolor": "#E5ECF6",
            "gridcolor": "white",
            "gridwidth": 2,
            "linecolor": "white",
            "showbackground": true,
            "ticks": "",
            "zerolinecolor": "white"
           }
          },
          "shapedefaults": {
           "line": {
            "color": "#2a3f5f"
           }
          },
          "ternary": {
           "aaxis": {
            "gridcolor": "white",
            "linecolor": "white",
            "ticks": ""
           },
           "baxis": {
            "gridcolor": "white",
            "linecolor": "white",
            "ticks": ""
           },
           "bgcolor": "#E5ECF6",
           "caxis": {
            "gridcolor": "white",
            "linecolor": "white",
            "ticks": ""
           }
          },
          "title": {
           "x": 0.05
          },
          "xaxis": {
           "automargin": true,
           "gridcolor": "white",
           "linecolor": "white",
           "ticks": "",
           "title": {
            "standoff": 15
           },
           "zerolinecolor": "white",
           "zerolinewidth": 2
          },
          "yaxis": {
           "automargin": true,
           "gridcolor": "white",
           "linecolor": "white",
           "ticks": "",
           "title": {
            "standoff": 15
           },
           "zerolinecolor": "white",
           "zerolinewidth": 2
          }
         }
        },
        "title": {
         "text": "Population of Countries in 2020"
        }
       }
      },
      "text/html": [
       "<div>\n",
       "        \n",
       "        \n",
       "            <div id=\"4256de33-6863-48ae-8b97-6f646f490bcc\" class=\"plotly-graph-div\" style=\"height:525px; width:100%;\"></div>\n",
       "            <script type=\"text/javascript\">\n",
       "                require([\"plotly\"], function(Plotly) {\n",
       "                    window.PLOTLYENV=window.PLOTLYENV || {};\n",
       "                    \n",
       "                if (document.getElementById(\"4256de33-6863-48ae-8b97-6f646f490bcc\")) {\n",
       "                    Plotly.newPlot(\n",
       "                        '4256de33-6863-48ae-8b97-6f646f490bcc',\n",
       "                        [{\"coloraxis\": \"coloraxis\", \"geo\": \"geo\", \"hovertemplate\": \"<b>%{hovertext}</b><br><br>Country=%{location}<br>Population=%{z}<extra></extra>\", \"hovertext\": [\"China\", \"India\", \"United States\", \"Indonesia\", \"Pakistan\", \"Brazil\", \"Nigeria\", \"Bangladesh\", \"Russia\", \"Mexico\", \"Japan\", \"Ethiopia\", \"Philippines\", \"Egypt\", \"Vietnam\", \"DR Congo\", \"Turkey\", \"Iran\", \"Germany\", \"Thailand\", \"United Kingdom\", \"France\", \"Italy\", \"Tanzania\", \"South Africa\", \"Myanmar\", \"Kenya\", \"South Korea\", \"Colombia\", \"Spain\", \"Uganda\", \"Argentina\", \"Algeria\", \"Sudan\", \"Ukraine\", \"Iraq\", \"Afghanistan\", \"Poland\", \"Canada\", \"Morocco\", \"Saudi Arabia\", \"Uzbekistan\", \"Peru\", \"Angola\", \"Malaysia\", \"Mozambique\", \"Ghana\", \"Yemen\", \"Nepal\", \"Venezuela\", \"Madagascar\", \"Cameroon\", \"C\\u00f4te d'Ivoire\", \"North Korea\", \"Australia\", \"Niger\", \"Taiwan\", \"Sri Lanka\", \"Burkina Faso\", \"Mali\", \"Romania\", \"Malawi\", \"Chile\", \"Kazakhstan\", \"Zambia\", \"Guatemala\", \"Ecuador\", \"Syria\", \"Netherlands\", \"Senegal\", \"Cambodia\", \"Chad\", \"Somalia\", \"Zimbabwe\", \"Guinea\", \"Rwanda\", \"Benin\", \"Burundi\", \"Tunisia\", \"Bolivia\", \"Belgium\", \"Haiti\", \"Cuba\", \"South Sudan\", \"Dominican Republic\", \"Czech Republic (Czechia)\", \"Greece\", \"Jordan\", \"Portugal\", \"Azerbaijan\", \"Sweden\", \"Honduras\", \"United Arab Emirates\", \"Hungary\", \"Tajikistan\", \"Belarus\", \"Austria\", \"Papua New Guinea\", \"Serbia\", \"Israel\", \"Switzerland\", \"Togo\", \"Sierra Leone\", \"Hong Kong\", \"Laos\", \"Paraguay\", \"Bulgaria\", \"Libya\", \"Lebanon\", \"Nicaragua\", \"Kyrgyzstan\", \"El Salvador\", \"Turkmenistan\", \"Singapore\", \"Denmark\", \"Finland\", \"Congo\", \"Slovakia\", \"Norway\", \"Oman\", \"State of Palestine\", \"Costa Rica\", \"Liberia\", \"Ireland\", \"Central African Republic\", \"New Zealand\", \"Mauritania\", \"Panama\", \"Kuwait\", \"Croatia\", \"Moldova\", \"Georgia\", \"Eritrea\", \"Uruguay\", \"Bosnia and Herzegovina\", \"Mongolia\", \"Armenia\", \"Jamaica\", \"Qatar\", \"Albania\", \"Puerto Rico\", \"Lithuania\", \"Namibia\", \"Gambia\", \"Botswana\", \"Gabon\", \"Lesotho\", \"North Macedonia\", \"Slovenia\", \"Guinea-Bissau\", \"Latvia\", \"Bahrain\", \"Equatorial Guinea\", \"Trinidad and Tobago\", \"Estonia\", \"Timor-Leste\", \"Mauritius\", \"Cyprus\", \"Eswatini\", \"Djibouti\", \"Fiji\", \"R\\u00e9union\", \"Comoros\", \"Guyana\", \"Bhutan\", \"Solomon Islands\", \"Macao\", \"Montenegro\", \"Luxembourg\", \"Western Sahara\", \"Suriname\", \"Cabo Verde\", \"Maldives\", \"Malta\", \"Brunei \", \"Guadeloupe\", \"Belize\", \"Bahamas\", \"Martinique\", \"Iceland\", \"Vanuatu\", \"French Guiana\", \"Barbados\", \"New Caledonia\", \"French Polynesia\", \"Mayotte\", \"Sao Tome & Principe\", \"Samoa\", \"Saint Lucia\", \"Channel Islands\", \"Guam\", \"Cura\\u00e7ao\", \"Kiribati\", \"Grenada\", \"St. Vincent & Grenadines\", \"Aruba\", \"Tonga\", \"U.S. Virgin Islands\", \"Seychelles\", \"Antigua and Barbuda\"], \"locationmode\": \"country names\", \"locations\": [\"China\", \"India\", \"United States\", \"Indonesia\", \"Pakistan\", \"Brazil\", \"Nigeria\", \"Bangladesh\", \"Russia\", \"Mexico\", \"Japan\", \"Ethiopia\", \"Philippines\", \"Egypt\", \"Vietnam\", \"DR Congo\", \"Turkey\", \"Iran\", \"Germany\", \"Thailand\", \"United Kingdom\", \"France\", \"Italy\", \"Tanzania\", \"South Africa\", \"Myanmar\", \"Kenya\", \"South Korea\", \"Colombia\", \"Spain\", \"Uganda\", \"Argentina\", \"Algeria\", \"Sudan\", \"Ukraine\", \"Iraq\", \"Afghanistan\", \"Poland\", \"Canada\", \"Morocco\", \"Saudi Arabia\", \"Uzbekistan\", \"Peru\", \"Angola\", \"Malaysia\", \"Mozambique\", \"Ghana\", \"Yemen\", \"Nepal\", \"Venezuela\", \"Madagascar\", \"Cameroon\", \"C\\u00f4te d'Ivoire\", \"North Korea\", \"Australia\", \"Niger\", \"Taiwan\", \"Sri Lanka\", \"Burkina Faso\", \"Mali\", \"Romania\", \"Malawi\", \"Chile\", \"Kazakhstan\", \"Zambia\", \"Guatemala\", \"Ecuador\", \"Syria\", \"Netherlands\", \"Senegal\", \"Cambodia\", \"Chad\", \"Somalia\", \"Zimbabwe\", \"Guinea\", \"Rwanda\", \"Benin\", \"Burundi\", \"Tunisia\", \"Bolivia\", \"Belgium\", \"Haiti\", \"Cuba\", \"South Sudan\", \"Dominican Republic\", \"Czech Republic (Czechia)\", \"Greece\", \"Jordan\", \"Portugal\", \"Azerbaijan\", \"Sweden\", \"Honduras\", \"United Arab Emirates\", \"Hungary\", \"Tajikistan\", \"Belarus\", \"Austria\", \"Papua New Guinea\", \"Serbia\", \"Israel\", \"Switzerland\", \"Togo\", \"Sierra Leone\", \"Hong Kong\", \"Laos\", \"Paraguay\", \"Bulgaria\", \"Libya\", \"Lebanon\", \"Nicaragua\", \"Kyrgyzstan\", \"El Salvador\", \"Turkmenistan\", \"Singapore\", \"Denmark\", \"Finland\", \"Congo\", \"Slovakia\", \"Norway\", \"Oman\", \"State of Palestine\", \"Costa Rica\", \"Liberia\", \"Ireland\", \"Central African Republic\", \"New Zealand\", \"Mauritania\", \"Panama\", \"Kuwait\", \"Croatia\", \"Moldova\", \"Georgia\", \"Eritrea\", \"Uruguay\", \"Bosnia and Herzegovina\", \"Mongolia\", \"Armenia\", \"Jamaica\", \"Qatar\", \"Albania\", \"Puerto Rico\", \"Lithuania\", \"Namibia\", \"Gambia\", \"Botswana\", \"Gabon\", \"Lesotho\", \"North Macedonia\", \"Slovenia\", \"Guinea-Bissau\", \"Latvia\", \"Bahrain\", \"Equatorial Guinea\", \"Trinidad and Tobago\", \"Estonia\", \"Timor-Leste\", \"Mauritius\", \"Cyprus\", \"Eswatini\", \"Djibouti\", \"Fiji\", \"R\\u00e9union\", \"Comoros\", \"Guyana\", \"Bhutan\", \"Solomon Islands\", \"Macao\", \"Montenegro\", \"Luxembourg\", \"Western Sahara\", \"Suriname\", \"Cabo Verde\", \"Maldives\", \"Malta\", \"Brunei \", \"Guadeloupe\", \"Belize\", \"Bahamas\", \"Martinique\", \"Iceland\", \"Vanuatu\", \"French Guiana\", \"Barbados\", \"New Caledonia\", \"French Polynesia\", \"Mayotte\", \"Sao Tome & Principe\", \"Samoa\", \"Saint Lucia\", \"Channel Islands\", \"Guam\", \"Cura\\u00e7ao\", \"Kiribati\", \"Grenada\", \"St. Vincent & Grenadines\", \"Aruba\", \"Tonga\", \"U.S. Virgin Islands\", \"Seychelles\", \"Antigua and Barbuda\"], \"name\": \"\", \"type\": \"choropleth\", \"z\": [1439323776, 1380004385, 331002651, 273523615, 220892340, 212559417, 206139589, 164689383, 145934462, 128932753, 126476461, 114963588, 109581078, 102334404, 97338579, 89561403, 84339067, 83992949, 83783942, 69799978, 67886011, 65273511, 60461826, 59734218, 59308690, 54409800, 53771296, 51269185, 50882891, 46754778, 45741007, 45195774, 43851044, 43849260, 43733762, 40222493, 38928346, 37846611, 37742154, 36910560, 34813871, 33469203, 32971854, 32866272, 32365999, 31255435, 31072940, 29825964, 29136808, 28435940, 27691018, 26545863, 26378274, 25778816, 25499884, 24206644, 23816775, 21413249, 20903273, 20250833, 19237691, 19129952, 19116201, 18776707, 18383955, 17915568, 17643054, 17500658, 17134872, 16743927, 16718965, 16425864, 15893222, 14862924, 13132795, 12952218, 12123200, 11890784, 11818619, 11673021, 11589623, 11402528, 11326616, 11193725, 10847910, 10708981, 10423054, 10203134, 10196709, 10139177, 10099265, 9904607, 9890402, 9660351, 9537645, 9449323, 9006398, 8947024, 8737371, 8655535, 8654622, 8278724, 7976983, 7496981, 7275560, 7132538, 6948445, 6871292, 6825445, 6624554, 6524195, 6486205, 6031200, 5850342, 5792202, 5540720, 5518087, 5459642, 5421241, 5106626, 5101414, 5094118, 5057681, 4937786, 4829767, 4822233, 4649658, 4314767, 4270571, 4105267, 4033963, 3989167, 3546421, 3473730, 3280819, 3278290, 2963243, 2961167, 2881053, 2877797, 2860853, 2722289, 2540905, 2416668, 2351627, 2225734, 2142249, 2083374, 2078938, 1968001, 1886198, 1701575, 1402985, 1399488, 1326535, 1318445, 1271768, 1207359, 1160164, 988000, 896445, 895312, 869601, 786552, 771608, 686884, 649335, 628066, 625978, 597339, 586632, 555987, 540544, 441543, 437479, 400124, 397628, 393244, 375265, 341243, 307145, 298682, 287375, 285498, 280908, 272815, 219159, 198414, 183627, 173863, 168775, 164093, 119449, 112523, 110940, 106766, 105695, 104425, 98347, 97929]}],\n",
       "                        {\"coloraxis\": {\"colorbar\": {\"title\": {\"text\": \"Population\"}}, \"colorscale\": [[0.0, \"rgb(230, 240, 240)\"], [0.09090909090909091, \"rgb(191, 221, 229)\"], [0.18181818181818182, \"rgb(156, 201, 226)\"], [0.2727272727272727, \"rgb(129, 180, 227)\"], [0.36363636363636365, \"rgb(115, 154, 228)\"], [0.45454545454545453, \"rgb(117, 127, 221)\"], [0.5454545454545454, \"rgb(120, 100, 202)\"], [0.6363636363636364, \"rgb(119, 74, 175)\"], [0.7272727272727273, \"rgb(113, 50, 141)\"], [0.8181818181818182, \"rgb(100, 31, 104)\"], [0.9090909090909091, \"rgb(80, 20, 66)\"], [1.0, \"rgb(54, 14, 36)\"]], \"showscale\": true}, \"geo\": {\"center\": {}, \"domain\": {\"x\": [0.0, 1.0], \"y\": [0.0, 1.0]}}, \"legend\": {\"tracegroupgap\": 0}, \"template\": {\"data\": {\"bar\": [{\"error_x\": {\"color\": \"#2a3f5f\"}, \"error_y\": {\"color\": \"#2a3f5f\"}, \"marker\": {\"line\": {\"color\": \"#E5ECF6\", \"width\": 0.5}}, \"type\": \"bar\"}], \"barpolar\": [{\"marker\": {\"line\": {\"color\": \"#E5ECF6\", \"width\": 0.5}}, \"type\": \"barpolar\"}], \"carpet\": [{\"aaxis\": {\"endlinecolor\": \"#2a3f5f\", \"gridcolor\": \"white\", \"linecolor\": \"white\", \"minorgridcolor\": \"white\", \"startlinecolor\": \"#2a3f5f\"}, \"baxis\": {\"endlinecolor\": \"#2a3f5f\", \"gridcolor\": \"white\", \"linecolor\": \"white\", \"minorgridcolor\": \"white\", \"startlinecolor\": \"#2a3f5f\"}, \"type\": \"carpet\"}], \"choropleth\": [{\"colorbar\": {\"outlinewidth\": 0, \"ticks\": \"\"}, \"type\": \"choropleth\"}], \"contour\": [{\"colorbar\": {\"outlinewidth\": 0, \"ticks\": \"\"}, \"colorscale\": [[0.0, \"#0d0887\"], [0.1111111111111111, \"#46039f\"], [0.2222222222222222, \"#7201a8\"], [0.3333333333333333, \"#9c179e\"], [0.4444444444444444, \"#bd3786\"], [0.5555555555555556, \"#d8576b\"], [0.6666666666666666, \"#ed7953\"], [0.7777777777777778, \"#fb9f3a\"], [0.8888888888888888, \"#fdca26\"], [1.0, \"#f0f921\"]], \"type\": \"contour\"}], \"contourcarpet\": [{\"colorbar\": {\"outlinewidth\": 0, \"ticks\": \"\"}, \"type\": \"contourcarpet\"}], \"heatmap\": [{\"colorbar\": {\"outlinewidth\": 0, \"ticks\": \"\"}, \"colorscale\": [[0.0, \"#0d0887\"], [0.1111111111111111, \"#46039f\"], [0.2222222222222222, \"#7201a8\"], [0.3333333333333333, \"#9c179e\"], [0.4444444444444444, \"#bd3786\"], [0.5555555555555556, \"#d8576b\"], [0.6666666666666666, \"#ed7953\"], [0.7777777777777778, \"#fb9f3a\"], [0.8888888888888888, \"#fdca26\"], [1.0, \"#f0f921\"]], \"type\": \"heatmap\"}], \"heatmapgl\": [{\"colorbar\": {\"outlinewidth\": 0, \"ticks\": \"\"}, \"colorscale\": [[0.0, \"#0d0887\"], [0.1111111111111111, \"#46039f\"], [0.2222222222222222, \"#7201a8\"], [0.3333333333333333, \"#9c179e\"], [0.4444444444444444, \"#bd3786\"], [0.5555555555555556, \"#d8576b\"], [0.6666666666666666, \"#ed7953\"], [0.7777777777777778, \"#fb9f3a\"], [0.8888888888888888, \"#fdca26\"], [1.0, \"#f0f921\"]], \"type\": \"heatmapgl\"}], \"histogram\": [{\"marker\": {\"colorbar\": {\"outlinewidth\": 0, \"ticks\": \"\"}}, \"type\": \"histogram\"}], \"histogram2d\": [{\"colorbar\": {\"outlinewidth\": 0, \"ticks\": \"\"}, \"colorscale\": [[0.0, \"#0d0887\"], [0.1111111111111111, \"#46039f\"], [0.2222222222222222, \"#7201a8\"], [0.3333333333333333, \"#9c179e\"], [0.4444444444444444, \"#bd3786\"], [0.5555555555555556, \"#d8576b\"], [0.6666666666666666, \"#ed7953\"], [0.7777777777777778, \"#fb9f3a\"], [0.8888888888888888, \"#fdca26\"], [1.0, \"#f0f921\"]], \"type\": \"histogram2d\"}], \"histogram2dcontour\": [{\"colorbar\": {\"outlinewidth\": 0, \"ticks\": \"\"}, \"colorscale\": [[0.0, \"#0d0887\"], [0.1111111111111111, \"#46039f\"], [0.2222222222222222, \"#7201a8\"], [0.3333333333333333, \"#9c179e\"], [0.4444444444444444, \"#bd3786\"], [0.5555555555555556, \"#d8576b\"], [0.6666666666666666, \"#ed7953\"], [0.7777777777777778, \"#fb9f3a\"], [0.8888888888888888, \"#fdca26\"], [1.0, \"#f0f921\"]], \"type\": \"histogram2dcontour\"}], \"mesh3d\": [{\"colorbar\": {\"outlinewidth\": 0, \"ticks\": \"\"}, \"type\": \"mesh3d\"}], \"parcoords\": [{\"line\": {\"colorbar\": {\"outlinewidth\": 0, \"ticks\": \"\"}}, \"type\": \"parcoords\"}], \"pie\": [{\"automargin\": true, \"type\": \"pie\"}], \"scatter\": [{\"marker\": {\"colorbar\": {\"outlinewidth\": 0, \"ticks\": \"\"}}, \"type\": \"scatter\"}], \"scatter3d\": [{\"line\": {\"colorbar\": {\"outlinewidth\": 0, \"ticks\": \"\"}}, \"marker\": {\"colorbar\": {\"outlinewidth\": 0, \"ticks\": \"\"}}, \"type\": \"scatter3d\"}], \"scattercarpet\": [{\"marker\": {\"colorbar\": {\"outlinewidth\": 0, \"ticks\": \"\"}}, \"type\": \"scattercarpet\"}], \"scattergeo\": [{\"marker\": {\"colorbar\": {\"outlinewidth\": 0, \"ticks\": \"\"}}, \"type\": \"scattergeo\"}], \"scattergl\": [{\"marker\": {\"colorbar\": {\"outlinewidth\": 0, \"ticks\": \"\"}}, \"type\": \"scattergl\"}], \"scattermapbox\": [{\"marker\": {\"colorbar\": {\"outlinewidth\": 0, \"ticks\": \"\"}}, \"type\": \"scattermapbox\"}], \"scatterpolar\": [{\"marker\": {\"colorbar\": {\"outlinewidth\": 0, \"ticks\": \"\"}}, \"type\": \"scatterpolar\"}], \"scatterpolargl\": [{\"marker\": {\"colorbar\": {\"outlinewidth\": 0, \"ticks\": \"\"}}, \"type\": \"scatterpolargl\"}], \"scatterternary\": [{\"marker\": {\"colorbar\": {\"outlinewidth\": 0, \"ticks\": \"\"}}, \"type\": \"scatterternary\"}], \"surface\": [{\"colorbar\": {\"outlinewidth\": 0, \"ticks\": \"\"}, \"colorscale\": [[0.0, \"#0d0887\"], [0.1111111111111111, \"#46039f\"], [0.2222222222222222, \"#7201a8\"], [0.3333333333333333, \"#9c179e\"], [0.4444444444444444, \"#bd3786\"], [0.5555555555555556, \"#d8576b\"], [0.6666666666666666, \"#ed7953\"], [0.7777777777777778, \"#fb9f3a\"], [0.8888888888888888, \"#fdca26\"], [1.0, \"#f0f921\"]], \"type\": \"surface\"}], \"table\": [{\"cells\": {\"fill\": {\"color\": \"#EBF0F8\"}, \"line\": {\"color\": \"white\"}}, \"header\": {\"fill\": {\"color\": \"#C8D4E3\"}, \"line\": {\"color\": \"white\"}}, \"type\": \"table\"}]}, \"layout\": {\"annotationdefaults\": {\"arrowcolor\": \"#2a3f5f\", \"arrowhead\": 0, \"arrowwidth\": 1}, \"coloraxis\": {\"colorbar\": {\"outlinewidth\": 0, \"ticks\": \"\"}}, \"colorscale\": {\"diverging\": [[0, \"#8e0152\"], [0.1, \"#c51b7d\"], [0.2, \"#de77ae\"], [0.3, \"#f1b6da\"], [0.4, \"#fde0ef\"], [0.5, \"#f7f7f7\"], [0.6, \"#e6f5d0\"], [0.7, \"#b8e186\"], [0.8, \"#7fbc41\"], [0.9, \"#4d9221\"], [1, \"#276419\"]], \"sequential\": [[0.0, \"#0d0887\"], [0.1111111111111111, \"#46039f\"], [0.2222222222222222, \"#7201a8\"], [0.3333333333333333, \"#9c179e\"], [0.4444444444444444, \"#bd3786\"], [0.5555555555555556, \"#d8576b\"], [0.6666666666666666, \"#ed7953\"], [0.7777777777777778, \"#fb9f3a\"], [0.8888888888888888, \"#fdca26\"], [1.0, \"#f0f921\"]], \"sequentialminus\": [[0.0, \"#0d0887\"], [0.1111111111111111, \"#46039f\"], [0.2222222222222222, \"#7201a8\"], [0.3333333333333333, \"#9c179e\"], [0.4444444444444444, \"#bd3786\"], [0.5555555555555556, \"#d8576b\"], [0.6666666666666666, \"#ed7953\"], [0.7777777777777778, \"#fb9f3a\"], [0.8888888888888888, \"#fdca26\"], [1.0, \"#f0f921\"]]}, \"colorway\": [\"#636efa\", \"#EF553B\", \"#00cc96\", \"#ab63fa\", \"#FFA15A\", \"#19d3f3\", \"#FF6692\", \"#B6E880\", \"#FF97FF\", \"#FECB52\"], \"font\": {\"color\": \"#2a3f5f\"}, \"geo\": {\"bgcolor\": \"white\", \"lakecolor\": \"white\", \"landcolor\": \"#E5ECF6\", \"showlakes\": true, \"showland\": true, \"subunitcolor\": \"white\"}, \"hoverlabel\": {\"align\": \"left\"}, \"hovermode\": \"closest\", \"mapbox\": {\"style\": \"light\"}, \"paper_bgcolor\": \"white\", \"plot_bgcolor\": \"#E5ECF6\", \"polar\": {\"angularaxis\": {\"gridcolor\": \"white\", \"linecolor\": \"white\", \"ticks\": \"\"}, \"bgcolor\": \"#E5ECF6\", \"radialaxis\": {\"gridcolor\": \"white\", \"linecolor\": \"white\", \"ticks\": \"\"}}, \"scene\": {\"xaxis\": {\"backgroundcolor\": \"#E5ECF6\", \"gridcolor\": \"white\", \"gridwidth\": 2, \"linecolor\": \"white\", \"showbackground\": true, \"ticks\": \"\", \"zerolinecolor\": \"white\"}, \"yaxis\": {\"backgroundcolor\": \"#E5ECF6\", \"gridcolor\": \"white\", \"gridwidth\": 2, \"linecolor\": \"white\", \"showbackground\": true, \"ticks\": \"\", \"zerolinecolor\": \"white\"}, \"zaxis\": {\"backgroundcolor\": \"#E5ECF6\", \"gridcolor\": \"white\", \"gridwidth\": 2, \"linecolor\": \"white\", \"showbackground\": true, \"ticks\": \"\", \"zerolinecolor\": \"white\"}}, \"shapedefaults\": {\"line\": {\"color\": \"#2a3f5f\"}}, \"ternary\": {\"aaxis\": {\"gridcolor\": \"white\", \"linecolor\": \"white\", \"ticks\": \"\"}, \"baxis\": {\"gridcolor\": \"white\", \"linecolor\": \"white\", \"ticks\": \"\"}, \"bgcolor\": \"#E5ECF6\", \"caxis\": {\"gridcolor\": \"white\", \"linecolor\": \"white\", \"ticks\": \"\"}}, \"title\": {\"x\": 0.05}, \"xaxis\": {\"automargin\": true, \"gridcolor\": \"white\", \"linecolor\": \"white\", \"ticks\": \"\", \"title\": {\"standoff\": 15}, \"zerolinecolor\": \"white\", \"zerolinewidth\": 2}, \"yaxis\": {\"automargin\": true, \"gridcolor\": \"white\", \"linecolor\": \"white\", \"ticks\": \"\", \"title\": {\"standoff\": 15}, \"zerolinecolor\": \"white\", \"zerolinewidth\": 2}}}, \"title\": {\"text\": \"Population of Countries in 2020\"}},\n",
       "                        {\"responsive\": true}\n",
       "                    ).then(function(){\n",
       "                            \n",
       "var gd = document.getElementById('4256de33-6863-48ae-8b97-6f646f490bcc');\n",
       "var x = new MutationObserver(function (mutations, observer) {{\n",
       "        var display = window.getComputedStyle(gd).display;\n",
       "        if (!display || display === 'none') {{\n",
       "            console.log([gd, 'removed!']);\n",
       "            Plotly.purge(gd);\n",
       "            observer.disconnect();\n",
       "        }}\n",
       "}});\n",
       "\n",
       "// Listen for the removal of the full notebook cells\n",
       "var notebookContainer = gd.closest('#notebook-container');\n",
       "if (notebookContainer) {{\n",
       "    x.observe(notebookContainer, {childList: true});\n",
       "}}\n",
       "\n",
       "// Listen for the clearing of the current output cell\n",
       "var outputEl = gd.closest('.output');\n",
       "if (outputEl) {{\n",
       "    x.observe(outputEl, {childList: true});\n",
       "}}\n",
       "\n",
       "                        })\n",
       "                };\n",
       "                });\n",
       "            </script>\n",
       "        </div>"
      ]
     },
     "metadata": {},
     "output_type": "display_data"
    }
   ],
   "source": [
    "fig = px.choropleth(population_2020, locations=\"Country\", \n",
    "                    locationmode='country names', color=\"Population\", \n",
    "                    hover_name=\"Country\",\n",
    "                    color_continuous_scale=\"dense\", \n",
    "                    title='Population of Countries in 2020')\n",
    "fig.update(layout_coloraxis_showscale=True)\n",
    "fig.show()"
   ]
  },
  {
   "cell_type": "markdown",
   "metadata": {},
   "source": [
    "## Number of Countries with Population more than 1 Million."
   ]
  },
  {
   "cell_type": "code",
   "execution_count": 49,
   "metadata": {
    "ExecuteTime": {
     "end_time": "2020-08-17T08:55:07.969114Z",
     "start_time": "2020-08-17T08:55:07.960486Z"
    }
   },
   "outputs": [],
   "source": [
    "population_more_than_one_million = population[(population['Population'] >= 1000000) & (population['Year']==2020)]"
   ]
  },
  {
   "cell_type": "code",
   "execution_count": 50,
   "metadata": {
    "ExecuteTime": {
     "end_time": "2020-08-17T08:55:17.824477Z",
     "start_time": "2020-08-17T08:55:17.817347Z"
    }
   },
   "outputs": [
    {
     "name": "stdout",
     "output_type": "stream",
     "text": [
      "There are 159 countries in the world with more than 1 million population.\n"
     ]
    }
   ],
   "source": [
    "number_of_countries = population_more_than_one_million.shape[0]\n",
    "print(\"There are {} countries in the world with more than 1 million population.\".format(number_of_countries))"
   ]
  },
  {
   "cell_type": "code",
   "execution_count": 51,
   "metadata": {
    "ExecuteTime": {
     "end_time": "2020-08-17T08:55:25.644747Z",
     "start_time": "2020-08-17T08:55:25.574316Z"
    }
   },
   "outputs": [
    {
     "data": {
      "application/vnd.plotly.v1+json": {
       "config": {
        "plotlyServerURL": "https://plot.ly"
       },
       "data": [
        {
         "coloraxis": "coloraxis",
         "geo": "geo",
         "hovertemplate": "<b>%{hovertext}</b><br><br>Country=%{location}<br>Population=%{z}<extra></extra>",
         "hovertext": [
          "China",
          "India",
          "United States",
          "Indonesia",
          "Pakistan",
          "Brazil",
          "Nigeria",
          "Bangladesh",
          "Russia",
          "Mexico",
          "Japan",
          "Ethiopia",
          "Philippines",
          "Egypt",
          "Vietnam",
          "DR Congo",
          "Turkey",
          "Iran",
          "Germany",
          "Thailand",
          "United Kingdom",
          "France",
          "Italy",
          "Tanzania",
          "South Africa",
          "Myanmar",
          "Kenya",
          "South Korea",
          "Colombia",
          "Spain",
          "Uganda",
          "Argentina",
          "Algeria",
          "Sudan",
          "Ukraine",
          "Iraq",
          "Afghanistan",
          "Poland",
          "Canada",
          "Morocco",
          "Saudi Arabia",
          "Uzbekistan",
          "Peru",
          "Angola",
          "Malaysia",
          "Mozambique",
          "Ghana",
          "Yemen",
          "Nepal",
          "Venezuela",
          "Madagascar",
          "Cameroon",
          "Côte d'Ivoire",
          "North Korea",
          "Australia",
          "Niger",
          "Taiwan",
          "Sri Lanka",
          "Burkina Faso",
          "Mali",
          "Romania",
          "Malawi",
          "Chile",
          "Kazakhstan",
          "Zambia",
          "Guatemala",
          "Ecuador",
          "Syria",
          "Netherlands",
          "Senegal",
          "Cambodia",
          "Chad",
          "Somalia",
          "Zimbabwe",
          "Guinea",
          "Rwanda",
          "Benin",
          "Burundi",
          "Tunisia",
          "Bolivia",
          "Belgium",
          "Haiti",
          "Cuba",
          "South Sudan",
          "Dominican Republic",
          "Czech Republic (Czechia)",
          "Greece",
          "Jordan",
          "Portugal",
          "Azerbaijan",
          "Sweden",
          "Honduras",
          "United Arab Emirates",
          "Hungary",
          "Tajikistan",
          "Belarus",
          "Austria",
          "Papua New Guinea",
          "Serbia",
          "Israel",
          "Switzerland",
          "Togo",
          "Sierra Leone",
          "Hong Kong",
          "Laos",
          "Paraguay",
          "Bulgaria",
          "Libya",
          "Lebanon",
          "Nicaragua",
          "Kyrgyzstan",
          "El Salvador",
          "Turkmenistan",
          "Singapore",
          "Denmark",
          "Finland",
          "Congo",
          "Slovakia",
          "Norway",
          "Oman",
          "State of Palestine",
          "Costa Rica",
          "Liberia",
          "Ireland",
          "Central African Republic",
          "New Zealand",
          "Mauritania",
          "Panama",
          "Kuwait",
          "Croatia",
          "Moldova",
          "Georgia",
          "Eritrea",
          "Uruguay",
          "Bosnia and Herzegovina",
          "Mongolia",
          "Armenia",
          "Jamaica",
          "Qatar",
          "Albania",
          "Puerto Rico",
          "Lithuania",
          "Namibia",
          "Gambia",
          "Botswana",
          "Gabon",
          "Lesotho",
          "North Macedonia",
          "Slovenia",
          "Guinea-Bissau",
          "Latvia",
          "Bahrain",
          "Equatorial Guinea",
          "Trinidad and Tobago",
          "Estonia",
          "Timor-Leste",
          "Mauritius",
          "Cyprus",
          "Eswatini"
         ],
         "locationmode": "country names",
         "locations": [
          "China",
          "India",
          "United States",
          "Indonesia",
          "Pakistan",
          "Brazil",
          "Nigeria",
          "Bangladesh",
          "Russia",
          "Mexico",
          "Japan",
          "Ethiopia",
          "Philippines",
          "Egypt",
          "Vietnam",
          "DR Congo",
          "Turkey",
          "Iran",
          "Germany",
          "Thailand",
          "United Kingdom",
          "France",
          "Italy",
          "Tanzania",
          "South Africa",
          "Myanmar",
          "Kenya",
          "South Korea",
          "Colombia",
          "Spain",
          "Uganda",
          "Argentina",
          "Algeria",
          "Sudan",
          "Ukraine",
          "Iraq",
          "Afghanistan",
          "Poland",
          "Canada",
          "Morocco",
          "Saudi Arabia",
          "Uzbekistan",
          "Peru",
          "Angola",
          "Malaysia",
          "Mozambique",
          "Ghana",
          "Yemen",
          "Nepal",
          "Venezuela",
          "Madagascar",
          "Cameroon",
          "Côte d'Ivoire",
          "North Korea",
          "Australia",
          "Niger",
          "Taiwan",
          "Sri Lanka",
          "Burkina Faso",
          "Mali",
          "Romania",
          "Malawi",
          "Chile",
          "Kazakhstan",
          "Zambia",
          "Guatemala",
          "Ecuador",
          "Syria",
          "Netherlands",
          "Senegal",
          "Cambodia",
          "Chad",
          "Somalia",
          "Zimbabwe",
          "Guinea",
          "Rwanda",
          "Benin",
          "Burundi",
          "Tunisia",
          "Bolivia",
          "Belgium",
          "Haiti",
          "Cuba",
          "South Sudan",
          "Dominican Republic",
          "Czech Republic (Czechia)",
          "Greece",
          "Jordan",
          "Portugal",
          "Azerbaijan",
          "Sweden",
          "Honduras",
          "United Arab Emirates",
          "Hungary",
          "Tajikistan",
          "Belarus",
          "Austria",
          "Papua New Guinea",
          "Serbia",
          "Israel",
          "Switzerland",
          "Togo",
          "Sierra Leone",
          "Hong Kong",
          "Laos",
          "Paraguay",
          "Bulgaria",
          "Libya",
          "Lebanon",
          "Nicaragua",
          "Kyrgyzstan",
          "El Salvador",
          "Turkmenistan",
          "Singapore",
          "Denmark",
          "Finland",
          "Congo",
          "Slovakia",
          "Norway",
          "Oman",
          "State of Palestine",
          "Costa Rica",
          "Liberia",
          "Ireland",
          "Central African Republic",
          "New Zealand",
          "Mauritania",
          "Panama",
          "Kuwait",
          "Croatia",
          "Moldova",
          "Georgia",
          "Eritrea",
          "Uruguay",
          "Bosnia and Herzegovina",
          "Mongolia",
          "Armenia",
          "Jamaica",
          "Qatar",
          "Albania",
          "Puerto Rico",
          "Lithuania",
          "Namibia",
          "Gambia",
          "Botswana",
          "Gabon",
          "Lesotho",
          "North Macedonia",
          "Slovenia",
          "Guinea-Bissau",
          "Latvia",
          "Bahrain",
          "Equatorial Guinea",
          "Trinidad and Tobago",
          "Estonia",
          "Timor-Leste",
          "Mauritius",
          "Cyprus",
          "Eswatini"
         ],
         "name": "",
         "type": "choropleth",
         "z": [
          1439323776,
          1380004385,
          331002651,
          273523615,
          220892340,
          212559417,
          206139589,
          164689383,
          145934462,
          128932753,
          126476461,
          114963588,
          109581078,
          102334404,
          97338579,
          89561403,
          84339067,
          83992949,
          83783942,
          69799978,
          67886011,
          65273511,
          60461826,
          59734218,
          59308690,
          54409800,
          53771296,
          51269185,
          50882891,
          46754778,
          45741007,
          45195774,
          43851044,
          43849260,
          43733762,
          40222493,
          38928346,
          37846611,
          37742154,
          36910560,
          34813871,
          33469203,
          32971854,
          32866272,
          32365999,
          31255435,
          31072940,
          29825964,
          29136808,
          28435940,
          27691018,
          26545863,
          26378274,
          25778816,
          25499884,
          24206644,
          23816775,
          21413249,
          20903273,
          20250833,
          19237691,
          19129952,
          19116201,
          18776707,
          18383955,
          17915568,
          17643054,
          17500658,
          17134872,
          16743927,
          16718965,
          16425864,
          15893222,
          14862924,
          13132795,
          12952218,
          12123200,
          11890784,
          11818619,
          11673021,
          11589623,
          11402528,
          11326616,
          11193725,
          10847910,
          10708981,
          10423054,
          10203134,
          10196709,
          10139177,
          10099265,
          9904607,
          9890402,
          9660351,
          9537645,
          9449323,
          9006398,
          8947024,
          8737371,
          8655535,
          8654622,
          8278724,
          7976983,
          7496981,
          7275560,
          7132538,
          6948445,
          6871292,
          6825445,
          6624554,
          6524195,
          6486205,
          6031200,
          5850342,
          5792202,
          5540720,
          5518087,
          5459642,
          5421241,
          5106626,
          5101414,
          5094118,
          5057681,
          4937786,
          4829767,
          4822233,
          4649658,
          4314767,
          4270571,
          4105267,
          4033963,
          3989167,
          3546421,
          3473730,
          3280819,
          3278290,
          2963243,
          2961167,
          2881053,
          2877797,
          2860853,
          2722289,
          2540905,
          2416668,
          2351627,
          2225734,
          2142249,
          2083374,
          2078938,
          1968001,
          1886198,
          1701575,
          1402985,
          1399488,
          1326535,
          1318445,
          1271768,
          1207359,
          1160164
         ]
        }
       ],
       "layout": {
        "coloraxis": {
         "colorbar": {
          "title": {
           "text": "Population"
          }
         },
         "colorscale": [
          [
           0,
           "rgb(247,251,255)"
          ],
          [
           0.125,
           "rgb(222,235,247)"
          ],
          [
           0.25,
           "rgb(198,219,239)"
          ],
          [
           0.375,
           "rgb(158,202,225)"
          ],
          [
           0.5,
           "rgb(107,174,214)"
          ],
          [
           0.625,
           "rgb(66,146,198)"
          ],
          [
           0.75,
           "rgb(33,113,181)"
          ],
          [
           0.875,
           "rgb(8,81,156)"
          ],
          [
           1,
           "rgb(8,48,107)"
          ]
         ],
         "showscale": true
        },
        "geo": {
         "center": {},
         "domain": {
          "x": [
           0,
           1
          ],
          "y": [
           0,
           1
          ]
         }
        },
        "legend": {
         "tracegroupgap": 0
        },
        "template": {
         "data": {
          "bar": [
           {
            "error_x": {
             "color": "#2a3f5f"
            },
            "error_y": {
             "color": "#2a3f5f"
            },
            "marker": {
             "line": {
              "color": "#E5ECF6",
              "width": 0.5
             }
            },
            "type": "bar"
           }
          ],
          "barpolar": [
           {
            "marker": {
             "line": {
              "color": "#E5ECF6",
              "width": 0.5
             }
            },
            "type": "barpolar"
           }
          ],
          "carpet": [
           {
            "aaxis": {
             "endlinecolor": "#2a3f5f",
             "gridcolor": "white",
             "linecolor": "white",
             "minorgridcolor": "white",
             "startlinecolor": "#2a3f5f"
            },
            "baxis": {
             "endlinecolor": "#2a3f5f",
             "gridcolor": "white",
             "linecolor": "white",
             "minorgridcolor": "white",
             "startlinecolor": "#2a3f5f"
            },
            "type": "carpet"
           }
          ],
          "choropleth": [
           {
            "colorbar": {
             "outlinewidth": 0,
             "ticks": ""
            },
            "type": "choropleth"
           }
          ],
          "contour": [
           {
            "colorbar": {
             "outlinewidth": 0,
             "ticks": ""
            },
            "colorscale": [
             [
              0,
              "#0d0887"
             ],
             [
              0.1111111111111111,
              "#46039f"
             ],
             [
              0.2222222222222222,
              "#7201a8"
             ],
             [
              0.3333333333333333,
              "#9c179e"
             ],
             [
              0.4444444444444444,
              "#bd3786"
             ],
             [
              0.5555555555555556,
              "#d8576b"
             ],
             [
              0.6666666666666666,
              "#ed7953"
             ],
             [
              0.7777777777777778,
              "#fb9f3a"
             ],
             [
              0.8888888888888888,
              "#fdca26"
             ],
             [
              1,
              "#f0f921"
             ]
            ],
            "type": "contour"
           }
          ],
          "contourcarpet": [
           {
            "colorbar": {
             "outlinewidth": 0,
             "ticks": ""
            },
            "type": "contourcarpet"
           }
          ],
          "heatmap": [
           {
            "colorbar": {
             "outlinewidth": 0,
             "ticks": ""
            },
            "colorscale": [
             [
              0,
              "#0d0887"
             ],
             [
              0.1111111111111111,
              "#46039f"
             ],
             [
              0.2222222222222222,
              "#7201a8"
             ],
             [
              0.3333333333333333,
              "#9c179e"
             ],
             [
              0.4444444444444444,
              "#bd3786"
             ],
             [
              0.5555555555555556,
              "#d8576b"
             ],
             [
              0.6666666666666666,
              "#ed7953"
             ],
             [
              0.7777777777777778,
              "#fb9f3a"
             ],
             [
              0.8888888888888888,
              "#fdca26"
             ],
             [
              1,
              "#f0f921"
             ]
            ],
            "type": "heatmap"
           }
          ],
          "heatmapgl": [
           {
            "colorbar": {
             "outlinewidth": 0,
             "ticks": ""
            },
            "colorscale": [
             [
              0,
              "#0d0887"
             ],
             [
              0.1111111111111111,
              "#46039f"
             ],
             [
              0.2222222222222222,
              "#7201a8"
             ],
             [
              0.3333333333333333,
              "#9c179e"
             ],
             [
              0.4444444444444444,
              "#bd3786"
             ],
             [
              0.5555555555555556,
              "#d8576b"
             ],
             [
              0.6666666666666666,
              "#ed7953"
             ],
             [
              0.7777777777777778,
              "#fb9f3a"
             ],
             [
              0.8888888888888888,
              "#fdca26"
             ],
             [
              1,
              "#f0f921"
             ]
            ],
            "type": "heatmapgl"
           }
          ],
          "histogram": [
           {
            "marker": {
             "colorbar": {
              "outlinewidth": 0,
              "ticks": ""
             }
            },
            "type": "histogram"
           }
          ],
          "histogram2d": [
           {
            "colorbar": {
             "outlinewidth": 0,
             "ticks": ""
            },
            "colorscale": [
             [
              0,
              "#0d0887"
             ],
             [
              0.1111111111111111,
              "#46039f"
             ],
             [
              0.2222222222222222,
              "#7201a8"
             ],
             [
              0.3333333333333333,
              "#9c179e"
             ],
             [
              0.4444444444444444,
              "#bd3786"
             ],
             [
              0.5555555555555556,
              "#d8576b"
             ],
             [
              0.6666666666666666,
              "#ed7953"
             ],
             [
              0.7777777777777778,
              "#fb9f3a"
             ],
             [
              0.8888888888888888,
              "#fdca26"
             ],
             [
              1,
              "#f0f921"
             ]
            ],
            "type": "histogram2d"
           }
          ],
          "histogram2dcontour": [
           {
            "colorbar": {
             "outlinewidth": 0,
             "ticks": ""
            },
            "colorscale": [
             [
              0,
              "#0d0887"
             ],
             [
              0.1111111111111111,
              "#46039f"
             ],
             [
              0.2222222222222222,
              "#7201a8"
             ],
             [
              0.3333333333333333,
              "#9c179e"
             ],
             [
              0.4444444444444444,
              "#bd3786"
             ],
             [
              0.5555555555555556,
              "#d8576b"
             ],
             [
              0.6666666666666666,
              "#ed7953"
             ],
             [
              0.7777777777777778,
              "#fb9f3a"
             ],
             [
              0.8888888888888888,
              "#fdca26"
             ],
             [
              1,
              "#f0f921"
             ]
            ],
            "type": "histogram2dcontour"
           }
          ],
          "mesh3d": [
           {
            "colorbar": {
             "outlinewidth": 0,
             "ticks": ""
            },
            "type": "mesh3d"
           }
          ],
          "parcoords": [
           {
            "line": {
             "colorbar": {
              "outlinewidth": 0,
              "ticks": ""
             }
            },
            "type": "parcoords"
           }
          ],
          "pie": [
           {
            "automargin": true,
            "type": "pie"
           }
          ],
          "scatter": [
           {
            "marker": {
             "colorbar": {
              "outlinewidth": 0,
              "ticks": ""
             }
            },
            "type": "scatter"
           }
          ],
          "scatter3d": [
           {
            "line": {
             "colorbar": {
              "outlinewidth": 0,
              "ticks": ""
             }
            },
            "marker": {
             "colorbar": {
              "outlinewidth": 0,
              "ticks": ""
             }
            },
            "type": "scatter3d"
           }
          ],
          "scattercarpet": [
           {
            "marker": {
             "colorbar": {
              "outlinewidth": 0,
              "ticks": ""
             }
            },
            "type": "scattercarpet"
           }
          ],
          "scattergeo": [
           {
            "marker": {
             "colorbar": {
              "outlinewidth": 0,
              "ticks": ""
             }
            },
            "type": "scattergeo"
           }
          ],
          "scattergl": [
           {
            "marker": {
             "colorbar": {
              "outlinewidth": 0,
              "ticks": ""
             }
            },
            "type": "scattergl"
           }
          ],
          "scattermapbox": [
           {
            "marker": {
             "colorbar": {
              "outlinewidth": 0,
              "ticks": ""
             }
            },
            "type": "scattermapbox"
           }
          ],
          "scatterpolar": [
           {
            "marker": {
             "colorbar": {
              "outlinewidth": 0,
              "ticks": ""
             }
            },
            "type": "scatterpolar"
           }
          ],
          "scatterpolargl": [
           {
            "marker": {
             "colorbar": {
              "outlinewidth": 0,
              "ticks": ""
             }
            },
            "type": "scatterpolargl"
           }
          ],
          "scatterternary": [
           {
            "marker": {
             "colorbar": {
              "outlinewidth": 0,
              "ticks": ""
             }
            },
            "type": "scatterternary"
           }
          ],
          "surface": [
           {
            "colorbar": {
             "outlinewidth": 0,
             "ticks": ""
            },
            "colorscale": [
             [
              0,
              "#0d0887"
             ],
             [
              0.1111111111111111,
              "#46039f"
             ],
             [
              0.2222222222222222,
              "#7201a8"
             ],
             [
              0.3333333333333333,
              "#9c179e"
             ],
             [
              0.4444444444444444,
              "#bd3786"
             ],
             [
              0.5555555555555556,
              "#d8576b"
             ],
             [
              0.6666666666666666,
              "#ed7953"
             ],
             [
              0.7777777777777778,
              "#fb9f3a"
             ],
             [
              0.8888888888888888,
              "#fdca26"
             ],
             [
              1,
              "#f0f921"
             ]
            ],
            "type": "surface"
           }
          ],
          "table": [
           {
            "cells": {
             "fill": {
              "color": "#EBF0F8"
             },
             "line": {
              "color": "white"
             }
            },
            "header": {
             "fill": {
              "color": "#C8D4E3"
             },
             "line": {
              "color": "white"
             }
            },
            "type": "table"
           }
          ]
         },
         "layout": {
          "annotationdefaults": {
           "arrowcolor": "#2a3f5f",
           "arrowhead": 0,
           "arrowwidth": 1
          },
          "coloraxis": {
           "colorbar": {
            "outlinewidth": 0,
            "ticks": ""
           }
          },
          "colorscale": {
           "diverging": [
            [
             0,
             "#8e0152"
            ],
            [
             0.1,
             "#c51b7d"
            ],
            [
             0.2,
             "#de77ae"
            ],
            [
             0.3,
             "#f1b6da"
            ],
            [
             0.4,
             "#fde0ef"
            ],
            [
             0.5,
             "#f7f7f7"
            ],
            [
             0.6,
             "#e6f5d0"
            ],
            [
             0.7,
             "#b8e186"
            ],
            [
             0.8,
             "#7fbc41"
            ],
            [
             0.9,
             "#4d9221"
            ],
            [
             1,
             "#276419"
            ]
           ],
           "sequential": [
            [
             0,
             "#0d0887"
            ],
            [
             0.1111111111111111,
             "#46039f"
            ],
            [
             0.2222222222222222,
             "#7201a8"
            ],
            [
             0.3333333333333333,
             "#9c179e"
            ],
            [
             0.4444444444444444,
             "#bd3786"
            ],
            [
             0.5555555555555556,
             "#d8576b"
            ],
            [
             0.6666666666666666,
             "#ed7953"
            ],
            [
             0.7777777777777778,
             "#fb9f3a"
            ],
            [
             0.8888888888888888,
             "#fdca26"
            ],
            [
             1,
             "#f0f921"
            ]
           ],
           "sequentialminus": [
            [
             0,
             "#0d0887"
            ],
            [
             0.1111111111111111,
             "#46039f"
            ],
            [
             0.2222222222222222,
             "#7201a8"
            ],
            [
             0.3333333333333333,
             "#9c179e"
            ],
            [
             0.4444444444444444,
             "#bd3786"
            ],
            [
             0.5555555555555556,
             "#d8576b"
            ],
            [
             0.6666666666666666,
             "#ed7953"
            ],
            [
             0.7777777777777778,
             "#fb9f3a"
            ],
            [
             0.8888888888888888,
             "#fdca26"
            ],
            [
             1,
             "#f0f921"
            ]
           ]
          },
          "colorway": [
           "#636efa",
           "#EF553B",
           "#00cc96",
           "#ab63fa",
           "#FFA15A",
           "#19d3f3",
           "#FF6692",
           "#B6E880",
           "#FF97FF",
           "#FECB52"
          ],
          "font": {
           "color": "#2a3f5f"
          },
          "geo": {
           "bgcolor": "white",
           "lakecolor": "white",
           "landcolor": "#E5ECF6",
           "showlakes": true,
           "showland": true,
           "subunitcolor": "white"
          },
          "hoverlabel": {
           "align": "left"
          },
          "hovermode": "closest",
          "mapbox": {
           "style": "light"
          },
          "paper_bgcolor": "white",
          "plot_bgcolor": "#E5ECF6",
          "polar": {
           "angularaxis": {
            "gridcolor": "white",
            "linecolor": "white",
            "ticks": ""
           },
           "bgcolor": "#E5ECF6",
           "radialaxis": {
            "gridcolor": "white",
            "linecolor": "white",
            "ticks": ""
           }
          },
          "scene": {
           "xaxis": {
            "backgroundcolor": "#E5ECF6",
            "gridcolor": "white",
            "gridwidth": 2,
            "linecolor": "white",
            "showbackground": true,
            "ticks": "",
            "zerolinecolor": "white"
           },
           "yaxis": {
            "backgroundcolor": "#E5ECF6",
            "gridcolor": "white",
            "gridwidth": 2,
            "linecolor": "white",
            "showbackground": true,
            "ticks": "",
            "zerolinecolor": "white"
           },
           "zaxis": {
            "backgroundcolor": "#E5ECF6",
            "gridcolor": "white",
            "gridwidth": 2,
            "linecolor": "white",
            "showbackground": true,
            "ticks": "",
            "zerolinecolor": "white"
           }
          },
          "shapedefaults": {
           "line": {
            "color": "#2a3f5f"
           }
          },
          "ternary": {
           "aaxis": {
            "gridcolor": "white",
            "linecolor": "white",
            "ticks": ""
           },
           "baxis": {
            "gridcolor": "white",
            "linecolor": "white",
            "ticks": ""
           },
           "bgcolor": "#E5ECF6",
           "caxis": {
            "gridcolor": "white",
            "linecolor": "white",
            "ticks": ""
           }
          },
          "title": {
           "x": 0.05
          },
          "xaxis": {
           "automargin": true,
           "gridcolor": "white",
           "linecolor": "white",
           "ticks": "",
           "title": {
            "standoff": 15
           },
           "zerolinecolor": "white",
           "zerolinewidth": 2
          },
          "yaxis": {
           "automargin": true,
           "gridcolor": "white",
           "linecolor": "white",
           "ticks": "",
           "title": {
            "standoff": 15
           },
           "zerolinecolor": "white",
           "zerolinewidth": 2
          }
         }
        },
        "title": {
         "text": "Countries with more than 1 million Population"
        }
       }
      },
      "text/html": [
       "<div>\n",
       "        \n",
       "        \n",
       "            <div id=\"903b1ece-96c1-4e09-8b56-a219db6d1af8\" class=\"plotly-graph-div\" style=\"height:525px; width:100%;\"></div>\n",
       "            <script type=\"text/javascript\">\n",
       "                require([\"plotly\"], function(Plotly) {\n",
       "                    window.PLOTLYENV=window.PLOTLYENV || {};\n",
       "                    \n",
       "                if (document.getElementById(\"903b1ece-96c1-4e09-8b56-a219db6d1af8\")) {\n",
       "                    Plotly.newPlot(\n",
       "                        '903b1ece-96c1-4e09-8b56-a219db6d1af8',\n",
       "                        [{\"coloraxis\": \"coloraxis\", \"geo\": \"geo\", \"hovertemplate\": \"<b>%{hovertext}</b><br><br>Country=%{location}<br>Population=%{z}<extra></extra>\", \"hovertext\": [\"China\", \"India\", \"United States\", \"Indonesia\", \"Pakistan\", \"Brazil\", \"Nigeria\", \"Bangladesh\", \"Russia\", \"Mexico\", \"Japan\", \"Ethiopia\", \"Philippines\", \"Egypt\", \"Vietnam\", \"DR Congo\", \"Turkey\", \"Iran\", \"Germany\", \"Thailand\", \"United Kingdom\", \"France\", \"Italy\", \"Tanzania\", \"South Africa\", \"Myanmar\", \"Kenya\", \"South Korea\", \"Colombia\", \"Spain\", \"Uganda\", \"Argentina\", \"Algeria\", \"Sudan\", \"Ukraine\", \"Iraq\", \"Afghanistan\", \"Poland\", \"Canada\", \"Morocco\", \"Saudi Arabia\", \"Uzbekistan\", \"Peru\", \"Angola\", \"Malaysia\", \"Mozambique\", \"Ghana\", \"Yemen\", \"Nepal\", \"Venezuela\", \"Madagascar\", \"Cameroon\", \"C\\u00f4te d'Ivoire\", \"North Korea\", \"Australia\", \"Niger\", \"Taiwan\", \"Sri Lanka\", \"Burkina Faso\", \"Mali\", \"Romania\", \"Malawi\", \"Chile\", \"Kazakhstan\", \"Zambia\", \"Guatemala\", \"Ecuador\", \"Syria\", \"Netherlands\", \"Senegal\", \"Cambodia\", \"Chad\", \"Somalia\", \"Zimbabwe\", \"Guinea\", \"Rwanda\", \"Benin\", \"Burundi\", \"Tunisia\", \"Bolivia\", \"Belgium\", \"Haiti\", \"Cuba\", \"South Sudan\", \"Dominican Republic\", \"Czech Republic (Czechia)\", \"Greece\", \"Jordan\", \"Portugal\", \"Azerbaijan\", \"Sweden\", \"Honduras\", \"United Arab Emirates\", \"Hungary\", \"Tajikistan\", \"Belarus\", \"Austria\", \"Papua New Guinea\", \"Serbia\", \"Israel\", \"Switzerland\", \"Togo\", \"Sierra Leone\", \"Hong Kong\", \"Laos\", \"Paraguay\", \"Bulgaria\", \"Libya\", \"Lebanon\", \"Nicaragua\", \"Kyrgyzstan\", \"El Salvador\", \"Turkmenistan\", \"Singapore\", \"Denmark\", \"Finland\", \"Congo\", \"Slovakia\", \"Norway\", \"Oman\", \"State of Palestine\", \"Costa Rica\", \"Liberia\", \"Ireland\", \"Central African Republic\", \"New Zealand\", \"Mauritania\", \"Panama\", \"Kuwait\", \"Croatia\", \"Moldova\", \"Georgia\", \"Eritrea\", \"Uruguay\", \"Bosnia and Herzegovina\", \"Mongolia\", \"Armenia\", \"Jamaica\", \"Qatar\", \"Albania\", \"Puerto Rico\", \"Lithuania\", \"Namibia\", \"Gambia\", \"Botswana\", \"Gabon\", \"Lesotho\", \"North Macedonia\", \"Slovenia\", \"Guinea-Bissau\", \"Latvia\", \"Bahrain\", \"Equatorial Guinea\", \"Trinidad and Tobago\", \"Estonia\", \"Timor-Leste\", \"Mauritius\", \"Cyprus\", \"Eswatini\"], \"locationmode\": \"country names\", \"locations\": [\"China\", \"India\", \"United States\", \"Indonesia\", \"Pakistan\", \"Brazil\", \"Nigeria\", \"Bangladesh\", \"Russia\", \"Mexico\", \"Japan\", \"Ethiopia\", \"Philippines\", \"Egypt\", \"Vietnam\", \"DR Congo\", \"Turkey\", \"Iran\", \"Germany\", \"Thailand\", \"United Kingdom\", \"France\", \"Italy\", \"Tanzania\", \"South Africa\", \"Myanmar\", \"Kenya\", \"South Korea\", \"Colombia\", \"Spain\", \"Uganda\", \"Argentina\", \"Algeria\", \"Sudan\", \"Ukraine\", \"Iraq\", \"Afghanistan\", \"Poland\", \"Canada\", \"Morocco\", \"Saudi Arabia\", \"Uzbekistan\", \"Peru\", \"Angola\", \"Malaysia\", \"Mozambique\", \"Ghana\", \"Yemen\", \"Nepal\", \"Venezuela\", \"Madagascar\", \"Cameroon\", \"C\\u00f4te d'Ivoire\", \"North Korea\", \"Australia\", \"Niger\", \"Taiwan\", \"Sri Lanka\", \"Burkina Faso\", \"Mali\", \"Romania\", \"Malawi\", \"Chile\", \"Kazakhstan\", \"Zambia\", \"Guatemala\", \"Ecuador\", \"Syria\", \"Netherlands\", \"Senegal\", \"Cambodia\", \"Chad\", \"Somalia\", \"Zimbabwe\", \"Guinea\", \"Rwanda\", \"Benin\", \"Burundi\", \"Tunisia\", \"Bolivia\", \"Belgium\", \"Haiti\", \"Cuba\", \"South Sudan\", \"Dominican Republic\", \"Czech Republic (Czechia)\", \"Greece\", \"Jordan\", \"Portugal\", \"Azerbaijan\", \"Sweden\", \"Honduras\", \"United Arab Emirates\", \"Hungary\", \"Tajikistan\", \"Belarus\", \"Austria\", \"Papua New Guinea\", \"Serbia\", \"Israel\", \"Switzerland\", \"Togo\", \"Sierra Leone\", \"Hong Kong\", \"Laos\", \"Paraguay\", \"Bulgaria\", \"Libya\", \"Lebanon\", \"Nicaragua\", \"Kyrgyzstan\", \"El Salvador\", \"Turkmenistan\", \"Singapore\", \"Denmark\", \"Finland\", \"Congo\", \"Slovakia\", \"Norway\", \"Oman\", \"State of Palestine\", \"Costa Rica\", \"Liberia\", \"Ireland\", \"Central African Republic\", \"New Zealand\", \"Mauritania\", \"Panama\", \"Kuwait\", \"Croatia\", \"Moldova\", \"Georgia\", \"Eritrea\", \"Uruguay\", \"Bosnia and Herzegovina\", \"Mongolia\", \"Armenia\", \"Jamaica\", \"Qatar\", \"Albania\", \"Puerto Rico\", \"Lithuania\", \"Namibia\", \"Gambia\", \"Botswana\", \"Gabon\", \"Lesotho\", \"North Macedonia\", \"Slovenia\", \"Guinea-Bissau\", \"Latvia\", \"Bahrain\", \"Equatorial Guinea\", \"Trinidad and Tobago\", \"Estonia\", \"Timor-Leste\", \"Mauritius\", \"Cyprus\", \"Eswatini\"], \"name\": \"\", \"type\": \"choropleth\", \"z\": [1439323776, 1380004385, 331002651, 273523615, 220892340, 212559417, 206139589, 164689383, 145934462, 128932753, 126476461, 114963588, 109581078, 102334404, 97338579, 89561403, 84339067, 83992949, 83783942, 69799978, 67886011, 65273511, 60461826, 59734218, 59308690, 54409800, 53771296, 51269185, 50882891, 46754778, 45741007, 45195774, 43851044, 43849260, 43733762, 40222493, 38928346, 37846611, 37742154, 36910560, 34813871, 33469203, 32971854, 32866272, 32365999, 31255435, 31072940, 29825964, 29136808, 28435940, 27691018, 26545863, 26378274, 25778816, 25499884, 24206644, 23816775, 21413249, 20903273, 20250833, 19237691, 19129952, 19116201, 18776707, 18383955, 17915568, 17643054, 17500658, 17134872, 16743927, 16718965, 16425864, 15893222, 14862924, 13132795, 12952218, 12123200, 11890784, 11818619, 11673021, 11589623, 11402528, 11326616, 11193725, 10847910, 10708981, 10423054, 10203134, 10196709, 10139177, 10099265, 9904607, 9890402, 9660351, 9537645, 9449323, 9006398, 8947024, 8737371, 8655535, 8654622, 8278724, 7976983, 7496981, 7275560, 7132538, 6948445, 6871292, 6825445, 6624554, 6524195, 6486205, 6031200, 5850342, 5792202, 5540720, 5518087, 5459642, 5421241, 5106626, 5101414, 5094118, 5057681, 4937786, 4829767, 4822233, 4649658, 4314767, 4270571, 4105267, 4033963, 3989167, 3546421, 3473730, 3280819, 3278290, 2963243, 2961167, 2881053, 2877797, 2860853, 2722289, 2540905, 2416668, 2351627, 2225734, 2142249, 2083374, 2078938, 1968001, 1886198, 1701575, 1402985, 1399488, 1326535, 1318445, 1271768, 1207359, 1160164]}],\n",
       "                        {\"coloraxis\": {\"colorbar\": {\"title\": {\"text\": \"Population\"}}, \"colorscale\": [[0.0, \"rgb(247,251,255)\"], [0.125, \"rgb(222,235,247)\"], [0.25, \"rgb(198,219,239)\"], [0.375, \"rgb(158,202,225)\"], [0.5, \"rgb(107,174,214)\"], [0.625, \"rgb(66,146,198)\"], [0.75, \"rgb(33,113,181)\"], [0.875, \"rgb(8,81,156)\"], [1.0, \"rgb(8,48,107)\"]], \"showscale\": true}, \"geo\": {\"center\": {}, \"domain\": {\"x\": [0.0, 1.0], \"y\": [0.0, 1.0]}}, \"legend\": {\"tracegroupgap\": 0}, \"template\": {\"data\": {\"bar\": [{\"error_x\": {\"color\": \"#2a3f5f\"}, \"error_y\": {\"color\": \"#2a3f5f\"}, \"marker\": {\"line\": {\"color\": \"#E5ECF6\", \"width\": 0.5}}, \"type\": \"bar\"}], \"barpolar\": [{\"marker\": {\"line\": {\"color\": \"#E5ECF6\", \"width\": 0.5}}, \"type\": \"barpolar\"}], \"carpet\": [{\"aaxis\": {\"endlinecolor\": \"#2a3f5f\", \"gridcolor\": \"white\", \"linecolor\": \"white\", \"minorgridcolor\": \"white\", \"startlinecolor\": \"#2a3f5f\"}, \"baxis\": {\"endlinecolor\": \"#2a3f5f\", \"gridcolor\": \"white\", \"linecolor\": \"white\", \"minorgridcolor\": \"white\", \"startlinecolor\": \"#2a3f5f\"}, \"type\": \"carpet\"}], \"choropleth\": [{\"colorbar\": {\"outlinewidth\": 0, \"ticks\": \"\"}, \"type\": \"choropleth\"}], \"contour\": [{\"colorbar\": {\"outlinewidth\": 0, \"ticks\": \"\"}, \"colorscale\": [[0.0, \"#0d0887\"], [0.1111111111111111, \"#46039f\"], [0.2222222222222222, \"#7201a8\"], [0.3333333333333333, \"#9c179e\"], [0.4444444444444444, \"#bd3786\"], [0.5555555555555556, \"#d8576b\"], [0.6666666666666666, \"#ed7953\"], [0.7777777777777778, \"#fb9f3a\"], [0.8888888888888888, \"#fdca26\"], [1.0, \"#f0f921\"]], \"type\": \"contour\"}], \"contourcarpet\": [{\"colorbar\": {\"outlinewidth\": 0, \"ticks\": \"\"}, \"type\": \"contourcarpet\"}], \"heatmap\": [{\"colorbar\": {\"outlinewidth\": 0, \"ticks\": \"\"}, \"colorscale\": [[0.0, \"#0d0887\"], [0.1111111111111111, \"#46039f\"], [0.2222222222222222, \"#7201a8\"], [0.3333333333333333, \"#9c179e\"], [0.4444444444444444, \"#bd3786\"], [0.5555555555555556, \"#d8576b\"], [0.6666666666666666, \"#ed7953\"], [0.7777777777777778, \"#fb9f3a\"], [0.8888888888888888, \"#fdca26\"], [1.0, \"#f0f921\"]], \"type\": \"heatmap\"}], \"heatmapgl\": [{\"colorbar\": {\"outlinewidth\": 0, \"ticks\": \"\"}, \"colorscale\": [[0.0, \"#0d0887\"], [0.1111111111111111, \"#46039f\"], [0.2222222222222222, \"#7201a8\"], [0.3333333333333333, \"#9c179e\"], [0.4444444444444444, \"#bd3786\"], [0.5555555555555556, \"#d8576b\"], [0.6666666666666666, \"#ed7953\"], [0.7777777777777778, \"#fb9f3a\"], [0.8888888888888888, \"#fdca26\"], [1.0, \"#f0f921\"]], \"type\": \"heatmapgl\"}], \"histogram\": [{\"marker\": {\"colorbar\": {\"outlinewidth\": 0, \"ticks\": \"\"}}, \"type\": \"histogram\"}], \"histogram2d\": [{\"colorbar\": {\"outlinewidth\": 0, \"ticks\": \"\"}, \"colorscale\": [[0.0, \"#0d0887\"], [0.1111111111111111, \"#46039f\"], [0.2222222222222222, \"#7201a8\"], [0.3333333333333333, \"#9c179e\"], [0.4444444444444444, \"#bd3786\"], [0.5555555555555556, \"#d8576b\"], [0.6666666666666666, \"#ed7953\"], [0.7777777777777778, \"#fb9f3a\"], [0.8888888888888888, \"#fdca26\"], [1.0, \"#f0f921\"]], \"type\": \"histogram2d\"}], \"histogram2dcontour\": [{\"colorbar\": {\"outlinewidth\": 0, \"ticks\": \"\"}, \"colorscale\": [[0.0, \"#0d0887\"], [0.1111111111111111, \"#46039f\"], [0.2222222222222222, \"#7201a8\"], [0.3333333333333333, \"#9c179e\"], [0.4444444444444444, \"#bd3786\"], [0.5555555555555556, \"#d8576b\"], [0.6666666666666666, \"#ed7953\"], [0.7777777777777778, \"#fb9f3a\"], [0.8888888888888888, \"#fdca26\"], [1.0, \"#f0f921\"]], \"type\": \"histogram2dcontour\"}], \"mesh3d\": [{\"colorbar\": {\"outlinewidth\": 0, \"ticks\": \"\"}, \"type\": \"mesh3d\"}], \"parcoords\": [{\"line\": {\"colorbar\": {\"outlinewidth\": 0, \"ticks\": \"\"}}, \"type\": \"parcoords\"}], \"pie\": [{\"automargin\": true, \"type\": \"pie\"}], \"scatter\": [{\"marker\": {\"colorbar\": {\"outlinewidth\": 0, \"ticks\": \"\"}}, \"type\": \"scatter\"}], \"scatter3d\": [{\"line\": {\"colorbar\": {\"outlinewidth\": 0, \"ticks\": \"\"}}, \"marker\": {\"colorbar\": {\"outlinewidth\": 0, \"ticks\": \"\"}}, \"type\": \"scatter3d\"}], \"scattercarpet\": [{\"marker\": {\"colorbar\": {\"outlinewidth\": 0, \"ticks\": \"\"}}, \"type\": \"scattercarpet\"}], \"scattergeo\": [{\"marker\": {\"colorbar\": {\"outlinewidth\": 0, \"ticks\": \"\"}}, \"type\": \"scattergeo\"}], \"scattergl\": [{\"marker\": {\"colorbar\": {\"outlinewidth\": 0, \"ticks\": \"\"}}, \"type\": \"scattergl\"}], \"scattermapbox\": [{\"marker\": {\"colorbar\": {\"outlinewidth\": 0, \"ticks\": \"\"}}, \"type\": \"scattermapbox\"}], \"scatterpolar\": [{\"marker\": {\"colorbar\": {\"outlinewidth\": 0, \"ticks\": \"\"}}, \"type\": \"scatterpolar\"}], \"scatterpolargl\": [{\"marker\": {\"colorbar\": {\"outlinewidth\": 0, \"ticks\": \"\"}}, \"type\": \"scatterpolargl\"}], \"scatterternary\": [{\"marker\": {\"colorbar\": {\"outlinewidth\": 0, \"ticks\": \"\"}}, \"type\": \"scatterternary\"}], \"surface\": [{\"colorbar\": {\"outlinewidth\": 0, \"ticks\": \"\"}, \"colorscale\": [[0.0, \"#0d0887\"], [0.1111111111111111, \"#46039f\"], [0.2222222222222222, \"#7201a8\"], [0.3333333333333333, \"#9c179e\"], [0.4444444444444444, \"#bd3786\"], [0.5555555555555556, \"#d8576b\"], [0.6666666666666666, \"#ed7953\"], [0.7777777777777778, \"#fb9f3a\"], [0.8888888888888888, \"#fdca26\"], [1.0, \"#f0f921\"]], \"type\": \"surface\"}], \"table\": [{\"cells\": {\"fill\": {\"color\": \"#EBF0F8\"}, \"line\": {\"color\": \"white\"}}, \"header\": {\"fill\": {\"color\": \"#C8D4E3\"}, \"line\": {\"color\": \"white\"}}, \"type\": \"table\"}]}, \"layout\": {\"annotationdefaults\": {\"arrowcolor\": \"#2a3f5f\", \"arrowhead\": 0, \"arrowwidth\": 1}, \"coloraxis\": {\"colorbar\": {\"outlinewidth\": 0, \"ticks\": \"\"}}, \"colorscale\": {\"diverging\": [[0, \"#8e0152\"], [0.1, \"#c51b7d\"], [0.2, \"#de77ae\"], [0.3, \"#f1b6da\"], [0.4, \"#fde0ef\"], [0.5, \"#f7f7f7\"], [0.6, \"#e6f5d0\"], [0.7, \"#b8e186\"], [0.8, \"#7fbc41\"], [0.9, \"#4d9221\"], [1, \"#276419\"]], \"sequential\": [[0.0, \"#0d0887\"], [0.1111111111111111, \"#46039f\"], [0.2222222222222222, \"#7201a8\"], [0.3333333333333333, \"#9c179e\"], [0.4444444444444444, \"#bd3786\"], [0.5555555555555556, \"#d8576b\"], [0.6666666666666666, \"#ed7953\"], [0.7777777777777778, \"#fb9f3a\"], [0.8888888888888888, \"#fdca26\"], [1.0, \"#f0f921\"]], \"sequentialminus\": [[0.0, \"#0d0887\"], [0.1111111111111111, \"#46039f\"], [0.2222222222222222, \"#7201a8\"], [0.3333333333333333, \"#9c179e\"], [0.4444444444444444, \"#bd3786\"], [0.5555555555555556, \"#d8576b\"], [0.6666666666666666, \"#ed7953\"], [0.7777777777777778, \"#fb9f3a\"], [0.8888888888888888, \"#fdca26\"], [1.0, \"#f0f921\"]]}, \"colorway\": [\"#636efa\", \"#EF553B\", \"#00cc96\", \"#ab63fa\", \"#FFA15A\", \"#19d3f3\", \"#FF6692\", \"#B6E880\", \"#FF97FF\", \"#FECB52\"], \"font\": {\"color\": \"#2a3f5f\"}, \"geo\": {\"bgcolor\": \"white\", \"lakecolor\": \"white\", \"landcolor\": \"#E5ECF6\", \"showlakes\": true, \"showland\": true, \"subunitcolor\": \"white\"}, \"hoverlabel\": {\"align\": \"left\"}, \"hovermode\": \"closest\", \"mapbox\": {\"style\": \"light\"}, \"paper_bgcolor\": \"white\", \"plot_bgcolor\": \"#E5ECF6\", \"polar\": {\"angularaxis\": {\"gridcolor\": \"white\", \"linecolor\": \"white\", \"ticks\": \"\"}, \"bgcolor\": \"#E5ECF6\", \"radialaxis\": {\"gridcolor\": \"white\", \"linecolor\": \"white\", \"ticks\": \"\"}}, \"scene\": {\"xaxis\": {\"backgroundcolor\": \"#E5ECF6\", \"gridcolor\": \"white\", \"gridwidth\": 2, \"linecolor\": \"white\", \"showbackground\": true, \"ticks\": \"\", \"zerolinecolor\": \"white\"}, \"yaxis\": {\"backgroundcolor\": \"#E5ECF6\", \"gridcolor\": \"white\", \"gridwidth\": 2, \"linecolor\": \"white\", \"showbackground\": true, \"ticks\": \"\", \"zerolinecolor\": \"white\"}, \"zaxis\": {\"backgroundcolor\": \"#E5ECF6\", \"gridcolor\": \"white\", \"gridwidth\": 2, \"linecolor\": \"white\", \"showbackground\": true, \"ticks\": \"\", \"zerolinecolor\": \"white\"}}, \"shapedefaults\": {\"line\": {\"color\": \"#2a3f5f\"}}, \"ternary\": {\"aaxis\": {\"gridcolor\": \"white\", \"linecolor\": \"white\", \"ticks\": \"\"}, \"baxis\": {\"gridcolor\": \"white\", \"linecolor\": \"white\", \"ticks\": \"\"}, \"bgcolor\": \"#E5ECF6\", \"caxis\": {\"gridcolor\": \"white\", \"linecolor\": \"white\", \"ticks\": \"\"}}, \"title\": {\"x\": 0.05}, \"xaxis\": {\"automargin\": true, \"gridcolor\": \"white\", \"linecolor\": \"white\", \"ticks\": \"\", \"title\": {\"standoff\": 15}, \"zerolinecolor\": \"white\", \"zerolinewidth\": 2}, \"yaxis\": {\"automargin\": true, \"gridcolor\": \"white\", \"linecolor\": \"white\", \"ticks\": \"\", \"title\": {\"standoff\": 15}, \"zerolinecolor\": \"white\", \"zerolinewidth\": 2}}}, \"title\": {\"text\": \"Countries with more than 1 million Population\"}},\n",
       "                        {\"responsive\": true}\n",
       "                    ).then(function(){\n",
       "                            \n",
       "var gd = document.getElementById('903b1ece-96c1-4e09-8b56-a219db6d1af8');\n",
       "var x = new MutationObserver(function (mutations, observer) {{\n",
       "        var display = window.getComputedStyle(gd).display;\n",
       "        if (!display || display === 'none') {{\n",
       "            console.log([gd, 'removed!']);\n",
       "            Plotly.purge(gd);\n",
       "            observer.disconnect();\n",
       "        }}\n",
       "}});\n",
       "\n",
       "// Listen for the removal of the full notebook cells\n",
       "var notebookContainer = gd.closest('#notebook-container');\n",
       "if (notebookContainer) {{\n",
       "    x.observe(notebookContainer, {childList: true});\n",
       "}}\n",
       "\n",
       "// Listen for the clearing of the current output cell\n",
       "var outputEl = gd.closest('.output');\n",
       "if (outputEl) {{\n",
       "    x.observe(outputEl, {childList: true});\n",
       "}}\n",
       "\n",
       "                        })\n",
       "                };\n",
       "                });\n",
       "            </script>\n",
       "        </div>"
      ]
     },
     "metadata": {},
     "output_type": "display_data"
    }
   ],
   "source": [
    "fig = px.choropleth(population_more_than_one_million, locations=\"Country\", \n",
    "                    locationmode='country names', color=\"Population\", \n",
    "                    hover_name=\"Country\",\n",
    "                    color_continuous_scale=\"blues\", \n",
    "                    title='Countries with more than 1 million Population')\n",
    "fig.update(layout_coloraxis_showscale=True)\n",
    "fig.show()"
   ]
  },
  {
   "cell_type": "markdown",
   "metadata": {},
   "source": [
    "## Number of Countries with Population more than 1 Billion."
   ]
  },
  {
   "cell_type": "code",
   "execution_count": 52,
   "metadata": {
    "ExecuteTime": {
     "end_time": "2020-08-17T08:55:42.472243Z",
     "start_time": "2020-08-17T08:55:42.465932Z"
    }
   },
   "outputs": [],
   "source": [
    "population_more_than_one_billion = population[(population['Population'] >= 1000000000) & (population['Year']==2020)]"
   ]
  },
  {
   "cell_type": "code",
   "execution_count": 55,
   "metadata": {
    "ExecuteTime": {
     "end_time": "2020-08-17T08:55:54.163316Z",
     "start_time": "2020-08-17T08:55:54.157588Z"
    }
   },
   "outputs": [
    {
     "name": "stdout",
     "output_type": "stream",
     "text": [
      "There are 2 countries in the world with more than 1 Billion population.\n"
     ]
    }
   ],
   "source": [
    "number_of_countries = population_more_than_one_billion.shape[0]\n",
    "print(\"There are {} countries in the world with more than 1 Billion population.\".format(number_of_countries))"
   ]
  },
  {
   "cell_type": "code",
   "execution_count": 54,
   "metadata": {
    "ExecuteTime": {
     "end_time": "2020-08-17T08:55:51.406860Z",
     "start_time": "2020-08-17T08:55:51.336127Z"
    }
   },
   "outputs": [
    {
     "data": {
      "application/vnd.plotly.v1+json": {
       "config": {
        "plotlyServerURL": "https://plot.ly"
       },
       "data": [
        {
         "coloraxis": "coloraxis",
         "geo": "geo",
         "hovertemplate": "<b>%{hovertext}</b><br><br>Country=%{location}<br>Population=%{z}<extra></extra>",
         "hovertext": [
          "China",
          "India"
         ],
         "locationmode": "country names",
         "locations": [
          "China",
          "India"
         ],
         "name": "",
         "type": "choropleth",
         "z": [
          1439323776,
          1380004385
         ]
        }
       ],
       "layout": {
        "coloraxis": {
         "colorbar": {
          "title": {
           "text": "Population"
          }
         },
         "colorscale": [
          [
           0,
           "rgb(255,245,240)"
          ],
          [
           0.125,
           "rgb(254,224,210)"
          ],
          [
           0.25,
           "rgb(252,187,161)"
          ],
          [
           0.375,
           "rgb(252,146,114)"
          ],
          [
           0.5,
           "rgb(251,106,74)"
          ],
          [
           0.625,
           "rgb(239,59,44)"
          ],
          [
           0.75,
           "rgb(203,24,29)"
          ],
          [
           0.875,
           "rgb(165,15,21)"
          ],
          [
           1,
           "rgb(103,0,13)"
          ]
         ],
         "showscale": true
        },
        "geo": {
         "center": {},
         "domain": {
          "x": [
           0,
           1
          ],
          "y": [
           0,
           1
          ]
         }
        },
        "legend": {
         "tracegroupgap": 0
        },
        "template": {
         "data": {
          "bar": [
           {
            "error_x": {
             "color": "#2a3f5f"
            },
            "error_y": {
             "color": "#2a3f5f"
            },
            "marker": {
             "line": {
              "color": "#E5ECF6",
              "width": 0.5
             }
            },
            "type": "bar"
           }
          ],
          "barpolar": [
           {
            "marker": {
             "line": {
              "color": "#E5ECF6",
              "width": 0.5
             }
            },
            "type": "barpolar"
           }
          ],
          "carpet": [
           {
            "aaxis": {
             "endlinecolor": "#2a3f5f",
             "gridcolor": "white",
             "linecolor": "white",
             "minorgridcolor": "white",
             "startlinecolor": "#2a3f5f"
            },
            "baxis": {
             "endlinecolor": "#2a3f5f",
             "gridcolor": "white",
             "linecolor": "white",
             "minorgridcolor": "white",
             "startlinecolor": "#2a3f5f"
            },
            "type": "carpet"
           }
          ],
          "choropleth": [
           {
            "colorbar": {
             "outlinewidth": 0,
             "ticks": ""
            },
            "type": "choropleth"
           }
          ],
          "contour": [
           {
            "colorbar": {
             "outlinewidth": 0,
             "ticks": ""
            },
            "colorscale": [
             [
              0,
              "#0d0887"
             ],
             [
              0.1111111111111111,
              "#46039f"
             ],
             [
              0.2222222222222222,
              "#7201a8"
             ],
             [
              0.3333333333333333,
              "#9c179e"
             ],
             [
              0.4444444444444444,
              "#bd3786"
             ],
             [
              0.5555555555555556,
              "#d8576b"
             ],
             [
              0.6666666666666666,
              "#ed7953"
             ],
             [
              0.7777777777777778,
              "#fb9f3a"
             ],
             [
              0.8888888888888888,
              "#fdca26"
             ],
             [
              1,
              "#f0f921"
             ]
            ],
            "type": "contour"
           }
          ],
          "contourcarpet": [
           {
            "colorbar": {
             "outlinewidth": 0,
             "ticks": ""
            },
            "type": "contourcarpet"
           }
          ],
          "heatmap": [
           {
            "colorbar": {
             "outlinewidth": 0,
             "ticks": ""
            },
            "colorscale": [
             [
              0,
              "#0d0887"
             ],
             [
              0.1111111111111111,
              "#46039f"
             ],
             [
              0.2222222222222222,
              "#7201a8"
             ],
             [
              0.3333333333333333,
              "#9c179e"
             ],
             [
              0.4444444444444444,
              "#bd3786"
             ],
             [
              0.5555555555555556,
              "#d8576b"
             ],
             [
              0.6666666666666666,
              "#ed7953"
             ],
             [
              0.7777777777777778,
              "#fb9f3a"
             ],
             [
              0.8888888888888888,
              "#fdca26"
             ],
             [
              1,
              "#f0f921"
             ]
            ],
            "type": "heatmap"
           }
          ],
          "heatmapgl": [
           {
            "colorbar": {
             "outlinewidth": 0,
             "ticks": ""
            },
            "colorscale": [
             [
              0,
              "#0d0887"
             ],
             [
              0.1111111111111111,
              "#46039f"
             ],
             [
              0.2222222222222222,
              "#7201a8"
             ],
             [
              0.3333333333333333,
              "#9c179e"
             ],
             [
              0.4444444444444444,
              "#bd3786"
             ],
             [
              0.5555555555555556,
              "#d8576b"
             ],
             [
              0.6666666666666666,
              "#ed7953"
             ],
             [
              0.7777777777777778,
              "#fb9f3a"
             ],
             [
              0.8888888888888888,
              "#fdca26"
             ],
             [
              1,
              "#f0f921"
             ]
            ],
            "type": "heatmapgl"
           }
          ],
          "histogram": [
           {
            "marker": {
             "colorbar": {
              "outlinewidth": 0,
              "ticks": ""
             }
            },
            "type": "histogram"
           }
          ],
          "histogram2d": [
           {
            "colorbar": {
             "outlinewidth": 0,
             "ticks": ""
            },
            "colorscale": [
             [
              0,
              "#0d0887"
             ],
             [
              0.1111111111111111,
              "#46039f"
             ],
             [
              0.2222222222222222,
              "#7201a8"
             ],
             [
              0.3333333333333333,
              "#9c179e"
             ],
             [
              0.4444444444444444,
              "#bd3786"
             ],
             [
              0.5555555555555556,
              "#d8576b"
             ],
             [
              0.6666666666666666,
              "#ed7953"
             ],
             [
              0.7777777777777778,
              "#fb9f3a"
             ],
             [
              0.8888888888888888,
              "#fdca26"
             ],
             [
              1,
              "#f0f921"
             ]
            ],
            "type": "histogram2d"
           }
          ],
          "histogram2dcontour": [
           {
            "colorbar": {
             "outlinewidth": 0,
             "ticks": ""
            },
            "colorscale": [
             [
              0,
              "#0d0887"
             ],
             [
              0.1111111111111111,
              "#46039f"
             ],
             [
              0.2222222222222222,
              "#7201a8"
             ],
             [
              0.3333333333333333,
              "#9c179e"
             ],
             [
              0.4444444444444444,
              "#bd3786"
             ],
             [
              0.5555555555555556,
              "#d8576b"
             ],
             [
              0.6666666666666666,
              "#ed7953"
             ],
             [
              0.7777777777777778,
              "#fb9f3a"
             ],
             [
              0.8888888888888888,
              "#fdca26"
             ],
             [
              1,
              "#f0f921"
             ]
            ],
            "type": "histogram2dcontour"
           }
          ],
          "mesh3d": [
           {
            "colorbar": {
             "outlinewidth": 0,
             "ticks": ""
            },
            "type": "mesh3d"
           }
          ],
          "parcoords": [
           {
            "line": {
             "colorbar": {
              "outlinewidth": 0,
              "ticks": ""
             }
            },
            "type": "parcoords"
           }
          ],
          "pie": [
           {
            "automargin": true,
            "type": "pie"
           }
          ],
          "scatter": [
           {
            "marker": {
             "colorbar": {
              "outlinewidth": 0,
              "ticks": ""
             }
            },
            "type": "scatter"
           }
          ],
          "scatter3d": [
           {
            "line": {
             "colorbar": {
              "outlinewidth": 0,
              "ticks": ""
             }
            },
            "marker": {
             "colorbar": {
              "outlinewidth": 0,
              "ticks": ""
             }
            },
            "type": "scatter3d"
           }
          ],
          "scattercarpet": [
           {
            "marker": {
             "colorbar": {
              "outlinewidth": 0,
              "ticks": ""
             }
            },
            "type": "scattercarpet"
           }
          ],
          "scattergeo": [
           {
            "marker": {
             "colorbar": {
              "outlinewidth": 0,
              "ticks": ""
             }
            },
            "type": "scattergeo"
           }
          ],
          "scattergl": [
           {
            "marker": {
             "colorbar": {
              "outlinewidth": 0,
              "ticks": ""
             }
            },
            "type": "scattergl"
           }
          ],
          "scattermapbox": [
           {
            "marker": {
             "colorbar": {
              "outlinewidth": 0,
              "ticks": ""
             }
            },
            "type": "scattermapbox"
           }
          ],
          "scatterpolar": [
           {
            "marker": {
             "colorbar": {
              "outlinewidth": 0,
              "ticks": ""
             }
            },
            "type": "scatterpolar"
           }
          ],
          "scatterpolargl": [
           {
            "marker": {
             "colorbar": {
              "outlinewidth": 0,
              "ticks": ""
             }
            },
            "type": "scatterpolargl"
           }
          ],
          "scatterternary": [
           {
            "marker": {
             "colorbar": {
              "outlinewidth": 0,
              "ticks": ""
             }
            },
            "type": "scatterternary"
           }
          ],
          "surface": [
           {
            "colorbar": {
             "outlinewidth": 0,
             "ticks": ""
            },
            "colorscale": [
             [
              0,
              "#0d0887"
             ],
             [
              0.1111111111111111,
              "#46039f"
             ],
             [
              0.2222222222222222,
              "#7201a8"
             ],
             [
              0.3333333333333333,
              "#9c179e"
             ],
             [
              0.4444444444444444,
              "#bd3786"
             ],
             [
              0.5555555555555556,
              "#d8576b"
             ],
             [
              0.6666666666666666,
              "#ed7953"
             ],
             [
              0.7777777777777778,
              "#fb9f3a"
             ],
             [
              0.8888888888888888,
              "#fdca26"
             ],
             [
              1,
              "#f0f921"
             ]
            ],
            "type": "surface"
           }
          ],
          "table": [
           {
            "cells": {
             "fill": {
              "color": "#EBF0F8"
             },
             "line": {
              "color": "white"
             }
            },
            "header": {
             "fill": {
              "color": "#C8D4E3"
             },
             "line": {
              "color": "white"
             }
            },
            "type": "table"
           }
          ]
         },
         "layout": {
          "annotationdefaults": {
           "arrowcolor": "#2a3f5f",
           "arrowhead": 0,
           "arrowwidth": 1
          },
          "coloraxis": {
           "colorbar": {
            "outlinewidth": 0,
            "ticks": ""
           }
          },
          "colorscale": {
           "diverging": [
            [
             0,
             "#8e0152"
            ],
            [
             0.1,
             "#c51b7d"
            ],
            [
             0.2,
             "#de77ae"
            ],
            [
             0.3,
             "#f1b6da"
            ],
            [
             0.4,
             "#fde0ef"
            ],
            [
             0.5,
             "#f7f7f7"
            ],
            [
             0.6,
             "#e6f5d0"
            ],
            [
             0.7,
             "#b8e186"
            ],
            [
             0.8,
             "#7fbc41"
            ],
            [
             0.9,
             "#4d9221"
            ],
            [
             1,
             "#276419"
            ]
           ],
           "sequential": [
            [
             0,
             "#0d0887"
            ],
            [
             0.1111111111111111,
             "#46039f"
            ],
            [
             0.2222222222222222,
             "#7201a8"
            ],
            [
             0.3333333333333333,
             "#9c179e"
            ],
            [
             0.4444444444444444,
             "#bd3786"
            ],
            [
             0.5555555555555556,
             "#d8576b"
            ],
            [
             0.6666666666666666,
             "#ed7953"
            ],
            [
             0.7777777777777778,
             "#fb9f3a"
            ],
            [
             0.8888888888888888,
             "#fdca26"
            ],
            [
             1,
             "#f0f921"
            ]
           ],
           "sequentialminus": [
            [
             0,
             "#0d0887"
            ],
            [
             0.1111111111111111,
             "#46039f"
            ],
            [
             0.2222222222222222,
             "#7201a8"
            ],
            [
             0.3333333333333333,
             "#9c179e"
            ],
            [
             0.4444444444444444,
             "#bd3786"
            ],
            [
             0.5555555555555556,
             "#d8576b"
            ],
            [
             0.6666666666666666,
             "#ed7953"
            ],
            [
             0.7777777777777778,
             "#fb9f3a"
            ],
            [
             0.8888888888888888,
             "#fdca26"
            ],
            [
             1,
             "#f0f921"
            ]
           ]
          },
          "colorway": [
           "#636efa",
           "#EF553B",
           "#00cc96",
           "#ab63fa",
           "#FFA15A",
           "#19d3f3",
           "#FF6692",
           "#B6E880",
           "#FF97FF",
           "#FECB52"
          ],
          "font": {
           "color": "#2a3f5f"
          },
          "geo": {
           "bgcolor": "white",
           "lakecolor": "white",
           "landcolor": "#E5ECF6",
           "showlakes": true,
           "showland": true,
           "subunitcolor": "white"
          },
          "hoverlabel": {
           "align": "left"
          },
          "hovermode": "closest",
          "mapbox": {
           "style": "light"
          },
          "paper_bgcolor": "white",
          "plot_bgcolor": "#E5ECF6",
          "polar": {
           "angularaxis": {
            "gridcolor": "white",
            "linecolor": "white",
            "ticks": ""
           },
           "bgcolor": "#E5ECF6",
           "radialaxis": {
            "gridcolor": "white",
            "linecolor": "white",
            "ticks": ""
           }
          },
          "scene": {
           "xaxis": {
            "backgroundcolor": "#E5ECF6",
            "gridcolor": "white",
            "gridwidth": 2,
            "linecolor": "white",
            "showbackground": true,
            "ticks": "",
            "zerolinecolor": "white"
           },
           "yaxis": {
            "backgroundcolor": "#E5ECF6",
            "gridcolor": "white",
            "gridwidth": 2,
            "linecolor": "white",
            "showbackground": true,
            "ticks": "",
            "zerolinecolor": "white"
           },
           "zaxis": {
            "backgroundcolor": "#E5ECF6",
            "gridcolor": "white",
            "gridwidth": 2,
            "linecolor": "white",
            "showbackground": true,
            "ticks": "",
            "zerolinecolor": "white"
           }
          },
          "shapedefaults": {
           "line": {
            "color": "#2a3f5f"
           }
          },
          "ternary": {
           "aaxis": {
            "gridcolor": "white",
            "linecolor": "white",
            "ticks": ""
           },
           "baxis": {
            "gridcolor": "white",
            "linecolor": "white",
            "ticks": ""
           },
           "bgcolor": "#E5ECF6",
           "caxis": {
            "gridcolor": "white",
            "linecolor": "white",
            "ticks": ""
           }
          },
          "title": {
           "x": 0.05
          },
          "xaxis": {
           "automargin": true,
           "gridcolor": "white",
           "linecolor": "white",
           "ticks": "",
           "title": {
            "standoff": 15
           },
           "zerolinecolor": "white",
           "zerolinewidth": 2
          },
          "yaxis": {
           "automargin": true,
           "gridcolor": "white",
           "linecolor": "white",
           "ticks": "",
           "title": {
            "standoff": 15
           },
           "zerolinecolor": "white",
           "zerolinewidth": 2
          }
         }
        },
        "title": {
         "text": "Countries with more than 1 billion Population"
        }
       }
      },
      "text/html": [
       "<div>\n",
       "        \n",
       "        \n",
       "            <div id=\"00f0f237-0e8b-4591-9f21-69a6c4d0a72a\" class=\"plotly-graph-div\" style=\"height:525px; width:100%;\"></div>\n",
       "            <script type=\"text/javascript\">\n",
       "                require([\"plotly\"], function(Plotly) {\n",
       "                    window.PLOTLYENV=window.PLOTLYENV || {};\n",
       "                    \n",
       "                if (document.getElementById(\"00f0f237-0e8b-4591-9f21-69a6c4d0a72a\")) {\n",
       "                    Plotly.newPlot(\n",
       "                        '00f0f237-0e8b-4591-9f21-69a6c4d0a72a',\n",
       "                        [{\"coloraxis\": \"coloraxis\", \"geo\": \"geo\", \"hovertemplate\": \"<b>%{hovertext}</b><br><br>Country=%{location}<br>Population=%{z}<extra></extra>\", \"hovertext\": [\"China\", \"India\"], \"locationmode\": \"country names\", \"locations\": [\"China\", \"India\"], \"name\": \"\", \"type\": \"choropleth\", \"z\": [1439323776, 1380004385]}],\n",
       "                        {\"coloraxis\": {\"colorbar\": {\"title\": {\"text\": \"Population\"}}, \"colorscale\": [[0.0, \"rgb(255,245,240)\"], [0.125, \"rgb(254,224,210)\"], [0.25, \"rgb(252,187,161)\"], [0.375, \"rgb(252,146,114)\"], [0.5, \"rgb(251,106,74)\"], [0.625, \"rgb(239,59,44)\"], [0.75, \"rgb(203,24,29)\"], [0.875, \"rgb(165,15,21)\"], [1.0, \"rgb(103,0,13)\"]], \"showscale\": true}, \"geo\": {\"center\": {}, \"domain\": {\"x\": [0.0, 1.0], \"y\": [0.0, 1.0]}}, \"legend\": {\"tracegroupgap\": 0}, \"template\": {\"data\": {\"bar\": [{\"error_x\": {\"color\": \"#2a3f5f\"}, \"error_y\": {\"color\": \"#2a3f5f\"}, \"marker\": {\"line\": {\"color\": \"#E5ECF6\", \"width\": 0.5}}, \"type\": \"bar\"}], \"barpolar\": [{\"marker\": {\"line\": {\"color\": \"#E5ECF6\", \"width\": 0.5}}, \"type\": \"barpolar\"}], \"carpet\": [{\"aaxis\": {\"endlinecolor\": \"#2a3f5f\", \"gridcolor\": \"white\", \"linecolor\": \"white\", \"minorgridcolor\": \"white\", \"startlinecolor\": \"#2a3f5f\"}, \"baxis\": {\"endlinecolor\": \"#2a3f5f\", \"gridcolor\": \"white\", \"linecolor\": \"white\", \"minorgridcolor\": \"white\", \"startlinecolor\": \"#2a3f5f\"}, \"type\": \"carpet\"}], \"choropleth\": [{\"colorbar\": {\"outlinewidth\": 0, \"ticks\": \"\"}, \"type\": \"choropleth\"}], \"contour\": [{\"colorbar\": {\"outlinewidth\": 0, \"ticks\": \"\"}, \"colorscale\": [[0.0, \"#0d0887\"], [0.1111111111111111, \"#46039f\"], [0.2222222222222222, \"#7201a8\"], [0.3333333333333333, \"#9c179e\"], [0.4444444444444444, \"#bd3786\"], [0.5555555555555556, \"#d8576b\"], [0.6666666666666666, \"#ed7953\"], [0.7777777777777778, \"#fb9f3a\"], [0.8888888888888888, \"#fdca26\"], [1.0, \"#f0f921\"]], \"type\": \"contour\"}], \"contourcarpet\": [{\"colorbar\": {\"outlinewidth\": 0, \"ticks\": \"\"}, \"type\": \"contourcarpet\"}], \"heatmap\": [{\"colorbar\": {\"outlinewidth\": 0, \"ticks\": \"\"}, \"colorscale\": [[0.0, \"#0d0887\"], [0.1111111111111111, \"#46039f\"], [0.2222222222222222, \"#7201a8\"], [0.3333333333333333, \"#9c179e\"], [0.4444444444444444, \"#bd3786\"], [0.5555555555555556, \"#d8576b\"], [0.6666666666666666, \"#ed7953\"], [0.7777777777777778, \"#fb9f3a\"], [0.8888888888888888, \"#fdca26\"], [1.0, \"#f0f921\"]], \"type\": \"heatmap\"}], \"heatmapgl\": [{\"colorbar\": {\"outlinewidth\": 0, \"ticks\": \"\"}, \"colorscale\": [[0.0, \"#0d0887\"], [0.1111111111111111, \"#46039f\"], [0.2222222222222222, \"#7201a8\"], [0.3333333333333333, \"#9c179e\"], [0.4444444444444444, \"#bd3786\"], [0.5555555555555556, \"#d8576b\"], [0.6666666666666666, \"#ed7953\"], [0.7777777777777778, \"#fb9f3a\"], [0.8888888888888888, \"#fdca26\"], [1.0, \"#f0f921\"]], \"type\": \"heatmapgl\"}], \"histogram\": [{\"marker\": {\"colorbar\": {\"outlinewidth\": 0, \"ticks\": \"\"}}, \"type\": \"histogram\"}], \"histogram2d\": [{\"colorbar\": {\"outlinewidth\": 0, \"ticks\": \"\"}, \"colorscale\": [[0.0, \"#0d0887\"], [0.1111111111111111, \"#46039f\"], [0.2222222222222222, \"#7201a8\"], [0.3333333333333333, \"#9c179e\"], [0.4444444444444444, \"#bd3786\"], [0.5555555555555556, \"#d8576b\"], [0.6666666666666666, \"#ed7953\"], [0.7777777777777778, \"#fb9f3a\"], [0.8888888888888888, \"#fdca26\"], [1.0, \"#f0f921\"]], \"type\": \"histogram2d\"}], \"histogram2dcontour\": [{\"colorbar\": {\"outlinewidth\": 0, \"ticks\": \"\"}, \"colorscale\": [[0.0, \"#0d0887\"], [0.1111111111111111, \"#46039f\"], [0.2222222222222222, \"#7201a8\"], [0.3333333333333333, \"#9c179e\"], [0.4444444444444444, \"#bd3786\"], [0.5555555555555556, \"#d8576b\"], [0.6666666666666666, \"#ed7953\"], [0.7777777777777778, \"#fb9f3a\"], [0.8888888888888888, \"#fdca26\"], [1.0, \"#f0f921\"]], \"type\": \"histogram2dcontour\"}], \"mesh3d\": [{\"colorbar\": {\"outlinewidth\": 0, \"ticks\": \"\"}, \"type\": \"mesh3d\"}], \"parcoords\": [{\"line\": {\"colorbar\": {\"outlinewidth\": 0, \"ticks\": \"\"}}, \"type\": \"parcoords\"}], \"pie\": [{\"automargin\": true, \"type\": \"pie\"}], \"scatter\": [{\"marker\": {\"colorbar\": {\"outlinewidth\": 0, \"ticks\": \"\"}}, \"type\": \"scatter\"}], \"scatter3d\": [{\"line\": {\"colorbar\": {\"outlinewidth\": 0, \"ticks\": \"\"}}, \"marker\": {\"colorbar\": {\"outlinewidth\": 0, \"ticks\": \"\"}}, \"type\": \"scatter3d\"}], \"scattercarpet\": [{\"marker\": {\"colorbar\": {\"outlinewidth\": 0, \"ticks\": \"\"}}, \"type\": \"scattercarpet\"}], \"scattergeo\": [{\"marker\": {\"colorbar\": {\"outlinewidth\": 0, \"ticks\": \"\"}}, \"type\": \"scattergeo\"}], \"scattergl\": [{\"marker\": {\"colorbar\": {\"outlinewidth\": 0, \"ticks\": \"\"}}, \"type\": \"scattergl\"}], \"scattermapbox\": [{\"marker\": {\"colorbar\": {\"outlinewidth\": 0, \"ticks\": \"\"}}, \"type\": \"scattermapbox\"}], \"scatterpolar\": [{\"marker\": {\"colorbar\": {\"outlinewidth\": 0, \"ticks\": \"\"}}, \"type\": \"scatterpolar\"}], \"scatterpolargl\": [{\"marker\": {\"colorbar\": {\"outlinewidth\": 0, \"ticks\": \"\"}}, \"type\": \"scatterpolargl\"}], \"scatterternary\": [{\"marker\": {\"colorbar\": {\"outlinewidth\": 0, \"ticks\": \"\"}}, \"type\": \"scatterternary\"}], \"surface\": [{\"colorbar\": {\"outlinewidth\": 0, \"ticks\": \"\"}, \"colorscale\": [[0.0, \"#0d0887\"], [0.1111111111111111, \"#46039f\"], [0.2222222222222222, \"#7201a8\"], [0.3333333333333333, \"#9c179e\"], [0.4444444444444444, \"#bd3786\"], [0.5555555555555556, \"#d8576b\"], [0.6666666666666666, \"#ed7953\"], [0.7777777777777778, \"#fb9f3a\"], [0.8888888888888888, \"#fdca26\"], [1.0, \"#f0f921\"]], \"type\": \"surface\"}], \"table\": [{\"cells\": {\"fill\": {\"color\": \"#EBF0F8\"}, \"line\": {\"color\": \"white\"}}, \"header\": {\"fill\": {\"color\": \"#C8D4E3\"}, \"line\": {\"color\": \"white\"}}, \"type\": \"table\"}]}, \"layout\": {\"annotationdefaults\": {\"arrowcolor\": \"#2a3f5f\", \"arrowhead\": 0, \"arrowwidth\": 1}, \"coloraxis\": {\"colorbar\": {\"outlinewidth\": 0, \"ticks\": \"\"}}, \"colorscale\": {\"diverging\": [[0, \"#8e0152\"], [0.1, \"#c51b7d\"], [0.2, \"#de77ae\"], [0.3, \"#f1b6da\"], [0.4, \"#fde0ef\"], [0.5, \"#f7f7f7\"], [0.6, \"#e6f5d0\"], [0.7, \"#b8e186\"], [0.8, \"#7fbc41\"], [0.9, \"#4d9221\"], [1, \"#276419\"]], \"sequential\": [[0.0, \"#0d0887\"], [0.1111111111111111, \"#46039f\"], [0.2222222222222222, \"#7201a8\"], [0.3333333333333333, \"#9c179e\"], [0.4444444444444444, \"#bd3786\"], [0.5555555555555556, \"#d8576b\"], [0.6666666666666666, \"#ed7953\"], [0.7777777777777778, \"#fb9f3a\"], [0.8888888888888888, \"#fdca26\"], [1.0, \"#f0f921\"]], \"sequentialminus\": [[0.0, \"#0d0887\"], [0.1111111111111111, \"#46039f\"], [0.2222222222222222, \"#7201a8\"], [0.3333333333333333, \"#9c179e\"], [0.4444444444444444, \"#bd3786\"], [0.5555555555555556, \"#d8576b\"], [0.6666666666666666, \"#ed7953\"], [0.7777777777777778, \"#fb9f3a\"], [0.8888888888888888, \"#fdca26\"], [1.0, \"#f0f921\"]]}, \"colorway\": [\"#636efa\", \"#EF553B\", \"#00cc96\", \"#ab63fa\", \"#FFA15A\", \"#19d3f3\", \"#FF6692\", \"#B6E880\", \"#FF97FF\", \"#FECB52\"], \"font\": {\"color\": \"#2a3f5f\"}, \"geo\": {\"bgcolor\": \"white\", \"lakecolor\": \"white\", \"landcolor\": \"#E5ECF6\", \"showlakes\": true, \"showland\": true, \"subunitcolor\": \"white\"}, \"hoverlabel\": {\"align\": \"left\"}, \"hovermode\": \"closest\", \"mapbox\": {\"style\": \"light\"}, \"paper_bgcolor\": \"white\", \"plot_bgcolor\": \"#E5ECF6\", \"polar\": {\"angularaxis\": {\"gridcolor\": \"white\", \"linecolor\": \"white\", \"ticks\": \"\"}, \"bgcolor\": \"#E5ECF6\", \"radialaxis\": {\"gridcolor\": \"white\", \"linecolor\": \"white\", \"ticks\": \"\"}}, \"scene\": {\"xaxis\": {\"backgroundcolor\": \"#E5ECF6\", \"gridcolor\": \"white\", \"gridwidth\": 2, \"linecolor\": \"white\", \"showbackground\": true, \"ticks\": \"\", \"zerolinecolor\": \"white\"}, \"yaxis\": {\"backgroundcolor\": \"#E5ECF6\", \"gridcolor\": \"white\", \"gridwidth\": 2, \"linecolor\": \"white\", \"showbackground\": true, \"ticks\": \"\", \"zerolinecolor\": \"white\"}, \"zaxis\": {\"backgroundcolor\": \"#E5ECF6\", \"gridcolor\": \"white\", \"gridwidth\": 2, \"linecolor\": \"white\", \"showbackground\": true, \"ticks\": \"\", \"zerolinecolor\": \"white\"}}, \"shapedefaults\": {\"line\": {\"color\": \"#2a3f5f\"}}, \"ternary\": {\"aaxis\": {\"gridcolor\": \"white\", \"linecolor\": \"white\", \"ticks\": \"\"}, \"baxis\": {\"gridcolor\": \"white\", \"linecolor\": \"white\", \"ticks\": \"\"}, \"bgcolor\": \"#E5ECF6\", \"caxis\": {\"gridcolor\": \"white\", \"linecolor\": \"white\", \"ticks\": \"\"}}, \"title\": {\"x\": 0.05}, \"xaxis\": {\"automargin\": true, \"gridcolor\": \"white\", \"linecolor\": \"white\", \"ticks\": \"\", \"title\": {\"standoff\": 15}, \"zerolinecolor\": \"white\", \"zerolinewidth\": 2}, \"yaxis\": {\"automargin\": true, \"gridcolor\": \"white\", \"linecolor\": \"white\", \"ticks\": \"\", \"title\": {\"standoff\": 15}, \"zerolinecolor\": \"white\", \"zerolinewidth\": 2}}}, \"title\": {\"text\": \"Countries with more than 1 billion Population\"}},\n",
       "                        {\"responsive\": true}\n",
       "                    ).then(function(){\n",
       "                            \n",
       "var gd = document.getElementById('00f0f237-0e8b-4591-9f21-69a6c4d0a72a');\n",
       "var x = new MutationObserver(function (mutations, observer) {{\n",
       "        var display = window.getComputedStyle(gd).display;\n",
       "        if (!display || display === 'none') {{\n",
       "            console.log([gd, 'removed!']);\n",
       "            Plotly.purge(gd);\n",
       "            observer.disconnect();\n",
       "        }}\n",
       "}});\n",
       "\n",
       "// Listen for the removal of the full notebook cells\n",
       "var notebookContainer = gd.closest('#notebook-container');\n",
       "if (notebookContainer) {{\n",
       "    x.observe(notebookContainer, {childList: true});\n",
       "}}\n",
       "\n",
       "// Listen for the clearing of the current output cell\n",
       "var outputEl = gd.closest('.output');\n",
       "if (outputEl) {{\n",
       "    x.observe(outputEl, {childList: true});\n",
       "}}\n",
       "\n",
       "                        })\n",
       "                };\n",
       "                });\n",
       "            </script>\n",
       "        </div>"
      ]
     },
     "metadata": {},
     "output_type": "display_data"
    }
   ],
   "source": [
    "fig = px.choropleth(population_more_than_one_billion, locations=\"Country\", \n",
    "                    locationmode='country names', color=\"Population\", \n",
    "                    hover_name=\"Country\",\n",
    "                    color_continuous_scale=\"reds\", \n",
    "                    title='Countries with more than 1 billion Population')\n",
    "fig.update(layout_coloraxis_showscale=True)\n",
    "fig.show()"
   ]
  }
 ],
 "metadata": {
  "kernelspec": {
   "display_name": "Python 3",
   "language": "python",
   "name": "python3"
  },
  "language_info": {
   "codemirror_mode": {
    "name": "ipython",
    "version": 3
   },
   "file_extension": ".py",
   "mimetype": "text/x-python",
   "name": "python",
   "nbconvert_exporter": "python",
   "pygments_lexer": "ipython3",
   "version": "3.8.4"
  },
  "latex_envs": {
   "LaTeX_envs_menu_present": true,
   "autoclose": false,
   "autocomplete": true,
   "bibliofile": "biblio.bib",
   "cite_by": "apalike",
   "current_citInitial": 1,
   "eqLabelWithNumbers": true,
   "eqNumInitial": 1,
   "hotkeys": {
    "equation": "Ctrl-E",
    "itemize": "Ctrl-I"
   },
   "labels_anchors": false,
   "latex_user_defs": false,
   "report_style_numbering": false,
   "user_envs_cfg": false
  },
  "toc": {
   "base_numbering": 1,
   "nav_menu": {},
   "number_sections": true,
   "sideBar": true,
   "skip_h1_title": false,
   "title_cell": "Table of Contents",
   "title_sidebar": "Contents",
   "toc_cell": false,
   "toc_position": {},
   "toc_section_display": true,
   "toc_window_display": false
  },
  "varInspector": {
   "cols": {
    "lenName": 16,
    "lenType": 16,
    "lenVar": 40
   },
   "kernels_config": {
    "python": {
     "delete_cmd_postfix": "",
     "delete_cmd_prefix": "del ",
     "library": "var_list.py",
     "varRefreshCmd": "print(var_dic_list())"
    },
    "r": {
     "delete_cmd_postfix": ") ",
     "delete_cmd_prefix": "rm(",
     "library": "var_list.r",
     "varRefreshCmd": "cat(var_dic_list()) "
    }
   },
   "types_to_exclude": [
    "module",
    "function",
    "builtin_function_or_method",
    "instance",
    "_Feature"
   ],
   "window_display": false
  }
 },
 "nbformat": 4,
 "nbformat_minor": 4
}
