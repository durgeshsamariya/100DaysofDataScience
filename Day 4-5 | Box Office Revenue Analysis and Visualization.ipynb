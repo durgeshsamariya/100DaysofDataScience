{
 "cells": [
  {
   "cell_type": "markdown",
   "metadata": {},
   "source": [
    "# Box Office Revenue Analysis and Visualization"
   ]
  },
  {
   "cell_type": "markdown",
   "metadata": {},
   "source": [
    "# Day 4, 5 of 100 Days of Data Science\n",
    "\n",
    "Checkout my Kaggle [kernel](https://www.kaggle.com/themlphdstudent/box-office-revenue-analysis-and-visualization)."
   ]
  },
  {
   "cell_type": "markdown",
   "metadata": {
    "ExecuteTime": {
     "end_time": "2020-08-18T05:35:24.088943Z",
     "start_time": "2020-08-18T05:35:24.053671Z"
    }
   },
   "source": [
    "![](https://news.tfw2005.com/wp-content/uploads/sites/10/2018/12/boxofficeearnings-Transformers-Bumblebee.jpg)\n",
    "\n",
    "<center>Source: https://news.tfw2005.com/wp-content/uploads/sites/10/2018/12/boxofficeearnings-Transformers-Bumblebee.jpg</center>"
   ]
  },
  {
   "cell_type": "markdown",
   "metadata": {
    "ExecuteTime": {
     "end_time": "2020-08-18T05:35:48.131435Z",
     "start_time": "2020-08-18T05:35:48.111321Z"
    }
   },
   "source": [
    "#### About Dataset:\n",
    "id: Integer unique id of each movie\n",
    "\n",
    "belongs_to_collection: Contains the TMDB Id, Name, Movie Poster and Backdrop URL of a movie in JSON format.\n",
    "\n",
    "budget: Budget of a movie in dollars. Some row contains 0 values which mean unknown.\n",
    "\n",
    "genres: Contains all the Genres Name & TMDB Id in JSON Format.\n",
    "\n",
    "homepage: Contains the official URL of a movie.\n",
    "\n",
    "imdb_id: IMDB id of a movie (string).\n",
    "\n",
    "original_language: Two digit code of the original language, in which the movie was made.\n",
    "\n",
    "original_title: The original title of a movie in original_language.\n",
    "\n",
    "overview: Brief description of the movie.\n",
    "\n",
    "popularity: Popularity of the movie.\n",
    "\n",
    "poster_path: Poster path of a movie. You can see full poster image by adding url after this link --> https://image.tmdb.org/t/p/original/\n",
    "\n",
    "production_companies: All production company name and TMDB id in JSON format of a movie.\n",
    "\n",
    "production_countries: Two digit code and full name of the production company in JSON format.\n",
    "\n",
    "release_date: Release date of a movie in mm/dd/yy format.\n",
    "\n",
    "runtime: Total runtime of a movie in minutes (Integer).\n",
    "\n",
    "spoken_languages: Two digit code and full name of the spoken language.\n",
    "\n",
    "status: Is the movie released or rumored?\n",
    "\n",
    "tagline: Tagline of a movie\n",
    "\n",
    "title: English title of a movie\n",
    "\n",
    "Keywords: TMDB Id and name of all the keywords in JSON format.\n",
    "\n",
    "cast: All cast TMDB id, name, character name, gender (1 = Female, 2 = Male) in JSON format\n",
    "\n",
    "crew: Name, TMDB id, profile path of various kind of crew members job like Director, Writer, Art, Sound etc.\n",
    "\n",
    "revenue: Total revenue earned by a movie in dollars."
   ]
  },
  {
   "cell_type": "markdown",
   "metadata": {},
   "source": [
    "## Import required libraries"
   ]
  },
  {
   "cell_type": "code",
   "execution_count": 1,
   "metadata": {
    "ExecuteTime": {
     "end_time": "2020-08-19T14:01:37.463196Z",
     "start_time": "2020-08-19T14:01:33.230363Z"
    }
   },
   "outputs": [],
   "source": [
    "import pandas as pd\n",
    "import numpy as np\n",
    "\n",
    "# for visualizations\n",
    "import matplotlib.pyplot as plt\n",
    "import seaborn as sns\n",
    "%matplotlib inline\n",
    "plt.style.use('dark_background')"
   ]
  },
  {
   "cell_type": "markdown",
   "metadata": {
    "ExecuteTime": {
     "end_time": "2020-08-18T05:36:10.388862Z",
     "start_time": "2020-08-18T05:36:10.382583Z"
    }
   },
   "source": [
    "## Data Loading and Exploration\n",
    "Let's add only train data for now because my main goal for this notebook is to perform data analysis task and not a submisison.\n",
    "\n",
    "\n",
    "\n",
    "\n",
    "\n"
   ]
  },
  {
   "cell_type": "code",
   "execution_count": 2,
   "metadata": {
    "ExecuteTime": {
     "end_time": "2020-08-19T14:01:38.062734Z",
     "start_time": "2020-08-19T14:01:37.481961Z"
    }
   },
   "outputs": [
    {
     "name": "stdout",
     "output_type": "stream",
     "text": [
      "CPU times: user 327 ms, sys: 68.9 ms, total: 396 ms\n",
      "Wall time: 572 ms\n"
     ]
    }
   ],
   "source": [
    "%time train = pd.read_csv('./resources/data/tmdb-box-office-prediction/train.csv')"
   ]
  },
  {
   "cell_type": "markdown",
   "metadata": {},
   "source": [
    "Let's have a look at sample data."
   ]
  },
  {
   "cell_type": "code",
   "execution_count": 3,
   "metadata": {
    "ExecuteTime": {
     "end_time": "2020-08-19T14:01:38.359595Z",
     "start_time": "2020-08-19T14:01:38.088284Z"
    }
   },
   "outputs": [
    {
     "data": {
      "text/html": [
       "<div>\n",
       "<style scoped>\n",
       "    .dataframe tbody tr th:only-of-type {\n",
       "        vertical-align: middle;\n",
       "    }\n",
       "\n",
       "    .dataframe tbody tr th {\n",
       "        vertical-align: top;\n",
       "    }\n",
       "\n",
       "    .dataframe thead th {\n",
       "        text-align: right;\n",
       "    }\n",
       "</style>\n",
       "<table border=\"1\" class=\"dataframe\">\n",
       "  <thead>\n",
       "    <tr style=\"text-align: right;\">\n",
       "      <th></th>\n",
       "      <th>id</th>\n",
       "      <th>belongs_to_collection</th>\n",
       "      <th>budget</th>\n",
       "      <th>genres</th>\n",
       "      <th>homepage</th>\n",
       "      <th>imdb_id</th>\n",
       "      <th>original_language</th>\n",
       "      <th>original_title</th>\n",
       "      <th>overview</th>\n",
       "      <th>popularity</th>\n",
       "      <th>...</th>\n",
       "      <th>release_date</th>\n",
       "      <th>runtime</th>\n",
       "      <th>spoken_languages</th>\n",
       "      <th>status</th>\n",
       "      <th>tagline</th>\n",
       "      <th>title</th>\n",
       "      <th>Keywords</th>\n",
       "      <th>cast</th>\n",
       "      <th>crew</th>\n",
       "      <th>revenue</th>\n",
       "    </tr>\n",
       "  </thead>\n",
       "  <tbody>\n",
       "    <tr>\n",
       "      <th>0</th>\n",
       "      <td>1</td>\n",
       "      <td>[{'id': 313576, 'name': 'Hot Tub Time Machine ...</td>\n",
       "      <td>14000000</td>\n",
       "      <td>[{'id': 35, 'name': 'Comedy'}]</td>\n",
       "      <td>NaN</td>\n",
       "      <td>tt2637294</td>\n",
       "      <td>en</td>\n",
       "      <td>Hot Tub Time Machine 2</td>\n",
       "      <td>When Lou, who has become the \"father of the In...</td>\n",
       "      <td>6.575393</td>\n",
       "      <td>...</td>\n",
       "      <td>2/20/15</td>\n",
       "      <td>93.0</td>\n",
       "      <td>[{'iso_639_1': 'en', 'name': 'English'}]</td>\n",
       "      <td>Released</td>\n",
       "      <td>The Laws of Space and Time are About to be Vio...</td>\n",
       "      <td>Hot Tub Time Machine 2</td>\n",
       "      <td>[{'id': 4379, 'name': 'time travel'}, {'id': 9...</td>\n",
       "      <td>[{'cast_id': 4, 'character': 'Lou', 'credit_id...</td>\n",
       "      <td>[{'credit_id': '59ac067c92514107af02c8c8', 'de...</td>\n",
       "      <td>12314651</td>\n",
       "    </tr>\n",
       "    <tr>\n",
       "      <th>1</th>\n",
       "      <td>2</td>\n",
       "      <td>[{'id': 107674, 'name': 'The Princess Diaries ...</td>\n",
       "      <td>40000000</td>\n",
       "      <td>[{'id': 35, 'name': 'Comedy'}, {'id': 18, 'nam...</td>\n",
       "      <td>NaN</td>\n",
       "      <td>tt0368933</td>\n",
       "      <td>en</td>\n",
       "      <td>The Princess Diaries 2: Royal Engagement</td>\n",
       "      <td>Mia Thermopolis is now a college graduate and ...</td>\n",
       "      <td>8.248895</td>\n",
       "      <td>...</td>\n",
       "      <td>8/6/04</td>\n",
       "      <td>113.0</td>\n",
       "      <td>[{'iso_639_1': 'en', 'name': 'English'}]</td>\n",
       "      <td>Released</td>\n",
       "      <td>It can take a lifetime to find true love; she'...</td>\n",
       "      <td>The Princess Diaries 2: Royal Engagement</td>\n",
       "      <td>[{'id': 2505, 'name': 'coronation'}, {'id': 42...</td>\n",
       "      <td>[{'cast_id': 1, 'character': 'Mia Thermopolis'...</td>\n",
       "      <td>[{'credit_id': '52fe43fe9251416c7502563d', 'de...</td>\n",
       "      <td>95149435</td>\n",
       "    </tr>\n",
       "    <tr>\n",
       "      <th>2</th>\n",
       "      <td>3</td>\n",
       "      <td>NaN</td>\n",
       "      <td>3300000</td>\n",
       "      <td>[{'id': 18, 'name': 'Drama'}]</td>\n",
       "      <td>http://sonyclassics.com/whiplash/</td>\n",
       "      <td>tt2582802</td>\n",
       "      <td>en</td>\n",
       "      <td>Whiplash</td>\n",
       "      <td>Under the direction of a ruthless instructor, ...</td>\n",
       "      <td>64.299990</td>\n",
       "      <td>...</td>\n",
       "      <td>10/10/14</td>\n",
       "      <td>105.0</td>\n",
       "      <td>[{'iso_639_1': 'en', 'name': 'English'}]</td>\n",
       "      <td>Released</td>\n",
       "      <td>The road to greatness can take you to the edge.</td>\n",
       "      <td>Whiplash</td>\n",
       "      <td>[{'id': 1416, 'name': 'jazz'}, {'id': 1523, 'n...</td>\n",
       "      <td>[{'cast_id': 5, 'character': 'Andrew Neimann',...</td>\n",
       "      <td>[{'credit_id': '54d5356ec3a3683ba0000039', 'de...</td>\n",
       "      <td>13092000</td>\n",
       "    </tr>\n",
       "    <tr>\n",
       "      <th>3</th>\n",
       "      <td>4</td>\n",
       "      <td>NaN</td>\n",
       "      <td>1200000</td>\n",
       "      <td>[{'id': 53, 'name': 'Thriller'}, {'id': 18, 'n...</td>\n",
       "      <td>http://kahaanithefilm.com/</td>\n",
       "      <td>tt1821480</td>\n",
       "      <td>hi</td>\n",
       "      <td>Kahaani</td>\n",
       "      <td>Vidya Bagchi (Vidya Balan) arrives in Kolkata ...</td>\n",
       "      <td>3.174936</td>\n",
       "      <td>...</td>\n",
       "      <td>3/9/12</td>\n",
       "      <td>122.0</td>\n",
       "      <td>[{'iso_639_1': 'en', 'name': 'English'}, {'iso...</td>\n",
       "      <td>Released</td>\n",
       "      <td>NaN</td>\n",
       "      <td>Kahaani</td>\n",
       "      <td>[{'id': 10092, 'name': 'mystery'}, {'id': 1054...</td>\n",
       "      <td>[{'cast_id': 1, 'character': 'Vidya Bagchi', '...</td>\n",
       "      <td>[{'credit_id': '52fe48779251416c9108d6eb', 'de...</td>\n",
       "      <td>16000000</td>\n",
       "    </tr>\n",
       "    <tr>\n",
       "      <th>4</th>\n",
       "      <td>5</td>\n",
       "      <td>NaN</td>\n",
       "      <td>0</td>\n",
       "      <td>[{'id': 28, 'name': 'Action'}, {'id': 53, 'nam...</td>\n",
       "      <td>NaN</td>\n",
       "      <td>tt1380152</td>\n",
       "      <td>ko</td>\n",
       "      <td>마린보이</td>\n",
       "      <td>Marine Boy is the story of a former national s...</td>\n",
       "      <td>1.148070</td>\n",
       "      <td>...</td>\n",
       "      <td>2/5/09</td>\n",
       "      <td>118.0</td>\n",
       "      <td>[{'iso_639_1': 'ko', 'name': '한국어/조선말'}]</td>\n",
       "      <td>Released</td>\n",
       "      <td>NaN</td>\n",
       "      <td>Marine Boy</td>\n",
       "      <td>NaN</td>\n",
       "      <td>[{'cast_id': 3, 'character': 'Chun-soo', 'cred...</td>\n",
       "      <td>[{'credit_id': '52fe464b9251416c75073b43', 'de...</td>\n",
       "      <td>3923970</td>\n",
       "    </tr>\n",
       "    <tr>\n",
       "      <th>5</th>\n",
       "      <td>6</td>\n",
       "      <td>NaN</td>\n",
       "      <td>8000000</td>\n",
       "      <td>[{'id': 16, 'name': 'Animation'}, {'id': 12, '...</td>\n",
       "      <td>NaN</td>\n",
       "      <td>tt0093743</td>\n",
       "      <td>en</td>\n",
       "      <td>Pinocchio and the Emperor of the Night</td>\n",
       "      <td>Pinocchio and his friends, a glow worm and a m...</td>\n",
       "      <td>0.743274</td>\n",
       "      <td>...</td>\n",
       "      <td>8/6/87</td>\n",
       "      <td>83.0</td>\n",
       "      <td>[{'iso_639_1': 'en', 'name': 'English'}]</td>\n",
       "      <td>Released</td>\n",
       "      <td>NaN</td>\n",
       "      <td>Pinocchio and the Emperor of the Night</td>\n",
       "      <td>NaN</td>\n",
       "      <td>[{'cast_id': 6, 'character': 'Pinocchio (voice...</td>\n",
       "      <td>[{'credit_id': '52fe46f49251416c9106558b', 'de...</td>\n",
       "      <td>3261638</td>\n",
       "    </tr>\n",
       "    <tr>\n",
       "      <th>6</th>\n",
       "      <td>7</td>\n",
       "      <td>NaN</td>\n",
       "      <td>14000000</td>\n",
       "      <td>[{'id': 27, 'name': 'Horror'}, {'id': 53, 'nam...</td>\n",
       "      <td>http://www.thepossessionmovie.com/</td>\n",
       "      <td>tt0431021</td>\n",
       "      <td>en</td>\n",
       "      <td>The Possession</td>\n",
       "      <td>A young girl buys an antique box at a yard sal...</td>\n",
       "      <td>7.286477</td>\n",
       "      <td>...</td>\n",
       "      <td>8/30/12</td>\n",
       "      <td>92.0</td>\n",
       "      <td>[{'iso_639_1': 'en', 'name': 'English'}]</td>\n",
       "      <td>Released</td>\n",
       "      <td>Fear The Demon That Doesn't Fear God</td>\n",
       "      <td>The Possession</td>\n",
       "      <td>NaN</td>\n",
       "      <td>[{'cast_id': 23, 'character': 'Clyde', 'credit...</td>\n",
       "      <td>[{'credit_id': '52fe4981c3a368484e12ee29', 'de...</td>\n",
       "      <td>85446075</td>\n",
       "    </tr>\n",
       "    <tr>\n",
       "      <th>7</th>\n",
       "      <td>8</td>\n",
       "      <td>NaN</td>\n",
       "      <td>0</td>\n",
       "      <td>[{'id': 99, 'name': 'Documentary'}]</td>\n",
       "      <td>NaN</td>\n",
       "      <td>tt0391024</td>\n",
       "      <td>en</td>\n",
       "      <td>Control Room</td>\n",
       "      <td>A chronicle which provides a rare window into ...</td>\n",
       "      <td>1.949044</td>\n",
       "      <td>...</td>\n",
       "      <td>1/15/04</td>\n",
       "      <td>84.0</td>\n",
       "      <td>[{'iso_639_1': 'ar', 'name': 'العربية'}, {'iso...</td>\n",
       "      <td>Released</td>\n",
       "      <td>Different channels. Different truths.</td>\n",
       "      <td>Control Room</td>\n",
       "      <td>[{'id': 917, 'name': 'journalism'}, {'id': 163...</td>\n",
       "      <td>[{'cast_id': 2, 'character': 'Himself', 'credi...</td>\n",
       "      <td>[{'credit_id': '52fe47a69251416c750a0daf', 'de...</td>\n",
       "      <td>2586511</td>\n",
       "    </tr>\n",
       "    <tr>\n",
       "      <th>8</th>\n",
       "      <td>9</td>\n",
       "      <td>[{'id': 256377, 'name': 'The Muppet Collection...</td>\n",
       "      <td>0</td>\n",
       "      <td>[{'id': 28, 'name': 'Action'}, {'id': 35, 'nam...</td>\n",
       "      <td>NaN</td>\n",
       "      <td>tt0117110</td>\n",
       "      <td>en</td>\n",
       "      <td>Muppet Treasure Island</td>\n",
       "      <td>After telling the story of Flint's last journe...</td>\n",
       "      <td>6.902423</td>\n",
       "      <td>...</td>\n",
       "      <td>2/16/96</td>\n",
       "      <td>100.0</td>\n",
       "      <td>[{'iso_639_1': 'en', 'name': 'English'}]</td>\n",
       "      <td>Released</td>\n",
       "      <td>Set sail for Muppet mayhem!</td>\n",
       "      <td>Muppet Treasure Island</td>\n",
       "      <td>[{'id': 2041, 'name': 'island'}, {'id': 4418, ...</td>\n",
       "      <td>[{'cast_id': 1, 'character': 'Long John Silver...</td>\n",
       "      <td>[{'credit_id': '52fe43c89251416c7501deb3', 'de...</td>\n",
       "      <td>34327391</td>\n",
       "    </tr>\n",
       "    <tr>\n",
       "      <th>9</th>\n",
       "      <td>10</td>\n",
       "      <td>NaN</td>\n",
       "      <td>6000000</td>\n",
       "      <td>[{'id': 35, 'name': 'Comedy'}, {'id': 10402, '...</td>\n",
       "      <td>NaN</td>\n",
       "      <td>tt0310281</td>\n",
       "      <td>en</td>\n",
       "      <td>A Mighty Wind</td>\n",
       "      <td>In \"A Mighty Wind\", director Christopher Guest...</td>\n",
       "      <td>4.672036</td>\n",
       "      <td>...</td>\n",
       "      <td>4/16/03</td>\n",
       "      <td>91.0</td>\n",
       "      <td>[{'iso_639_1': 'en', 'name': 'English'}]</td>\n",
       "      <td>Released</td>\n",
       "      <td>Back together for the first time, again.</td>\n",
       "      <td>A Mighty Wind</td>\n",
       "      <td>[{'id': 11800, 'name': 'mockumentary'}, {'id':...</td>\n",
       "      <td>[{'cast_id': 24, 'character': 'Jonathan Steinb...</td>\n",
       "      <td>[{'credit_id': '52fe45609251416c750545b3', 'de...</td>\n",
       "      <td>18750246</td>\n",
       "    </tr>\n",
       "  </tbody>\n",
       "</table>\n",
       "<p>10 rows × 23 columns</p>\n",
       "</div>"
      ],
      "text/plain": [
       "   id                              belongs_to_collection    budget  \\\n",
       "0   1  [{'id': 313576, 'name': 'Hot Tub Time Machine ...  14000000   \n",
       "1   2  [{'id': 107674, 'name': 'The Princess Diaries ...  40000000   \n",
       "2   3                                                NaN   3300000   \n",
       "3   4                                                NaN   1200000   \n",
       "4   5                                                NaN         0   \n",
       "5   6                                                NaN   8000000   \n",
       "6   7                                                NaN  14000000   \n",
       "7   8                                                NaN         0   \n",
       "8   9  [{'id': 256377, 'name': 'The Muppet Collection...         0   \n",
       "9  10                                                NaN   6000000   \n",
       "\n",
       "                                              genres  \\\n",
       "0                     [{'id': 35, 'name': 'Comedy'}]   \n",
       "1  [{'id': 35, 'name': 'Comedy'}, {'id': 18, 'nam...   \n",
       "2                      [{'id': 18, 'name': 'Drama'}]   \n",
       "3  [{'id': 53, 'name': 'Thriller'}, {'id': 18, 'n...   \n",
       "4  [{'id': 28, 'name': 'Action'}, {'id': 53, 'nam...   \n",
       "5  [{'id': 16, 'name': 'Animation'}, {'id': 12, '...   \n",
       "6  [{'id': 27, 'name': 'Horror'}, {'id': 53, 'nam...   \n",
       "7                [{'id': 99, 'name': 'Documentary'}]   \n",
       "8  [{'id': 28, 'name': 'Action'}, {'id': 35, 'nam...   \n",
       "9  [{'id': 35, 'name': 'Comedy'}, {'id': 10402, '...   \n",
       "\n",
       "                             homepage    imdb_id original_language  \\\n",
       "0                                 NaN  tt2637294                en   \n",
       "1                                 NaN  tt0368933                en   \n",
       "2   http://sonyclassics.com/whiplash/  tt2582802                en   \n",
       "3          http://kahaanithefilm.com/  tt1821480                hi   \n",
       "4                                 NaN  tt1380152                ko   \n",
       "5                                 NaN  tt0093743                en   \n",
       "6  http://www.thepossessionmovie.com/  tt0431021                en   \n",
       "7                                 NaN  tt0391024                en   \n",
       "8                                 NaN  tt0117110                en   \n",
       "9                                 NaN  tt0310281                en   \n",
       "\n",
       "                             original_title  \\\n",
       "0                    Hot Tub Time Machine 2   \n",
       "1  The Princess Diaries 2: Royal Engagement   \n",
       "2                                  Whiplash   \n",
       "3                                   Kahaani   \n",
       "4                                      마린보이   \n",
       "5    Pinocchio and the Emperor of the Night   \n",
       "6                            The Possession   \n",
       "7                              Control Room   \n",
       "8                    Muppet Treasure Island   \n",
       "9                             A Mighty Wind   \n",
       "\n",
       "                                            overview  popularity  ...  \\\n",
       "0  When Lou, who has become the \"father of the In...    6.575393  ...   \n",
       "1  Mia Thermopolis is now a college graduate and ...    8.248895  ...   \n",
       "2  Under the direction of a ruthless instructor, ...   64.299990  ...   \n",
       "3  Vidya Bagchi (Vidya Balan) arrives in Kolkata ...    3.174936  ...   \n",
       "4  Marine Boy is the story of a former national s...    1.148070  ...   \n",
       "5  Pinocchio and his friends, a glow worm and a m...    0.743274  ...   \n",
       "6  A young girl buys an antique box at a yard sal...    7.286477  ...   \n",
       "7  A chronicle which provides a rare window into ...    1.949044  ...   \n",
       "8  After telling the story of Flint's last journe...    6.902423  ...   \n",
       "9  In \"A Mighty Wind\", director Christopher Guest...    4.672036  ...   \n",
       "\n",
       "  release_date runtime                                   spoken_languages  \\\n",
       "0      2/20/15    93.0           [{'iso_639_1': 'en', 'name': 'English'}]   \n",
       "1       8/6/04   113.0           [{'iso_639_1': 'en', 'name': 'English'}]   \n",
       "2     10/10/14   105.0           [{'iso_639_1': 'en', 'name': 'English'}]   \n",
       "3       3/9/12   122.0  [{'iso_639_1': 'en', 'name': 'English'}, {'iso...   \n",
       "4       2/5/09   118.0           [{'iso_639_1': 'ko', 'name': '한국어/조선말'}]   \n",
       "5       8/6/87    83.0           [{'iso_639_1': 'en', 'name': 'English'}]   \n",
       "6      8/30/12    92.0           [{'iso_639_1': 'en', 'name': 'English'}]   \n",
       "7      1/15/04    84.0  [{'iso_639_1': 'ar', 'name': 'العربية'}, {'iso...   \n",
       "8      2/16/96   100.0           [{'iso_639_1': 'en', 'name': 'English'}]   \n",
       "9      4/16/03    91.0           [{'iso_639_1': 'en', 'name': 'English'}]   \n",
       "\n",
       "     status                                            tagline  \\\n",
       "0  Released  The Laws of Space and Time are About to be Vio...   \n",
       "1  Released  It can take a lifetime to find true love; she'...   \n",
       "2  Released    The road to greatness can take you to the edge.   \n",
       "3  Released                                                NaN   \n",
       "4  Released                                                NaN   \n",
       "5  Released                                                NaN   \n",
       "6  Released               Fear The Demon That Doesn't Fear God   \n",
       "7  Released              Different channels. Different truths.   \n",
       "8  Released                        Set sail for Muppet mayhem!   \n",
       "9  Released           Back together for the first time, again.   \n",
       "\n",
       "                                      title  \\\n",
       "0                    Hot Tub Time Machine 2   \n",
       "1  The Princess Diaries 2: Royal Engagement   \n",
       "2                                  Whiplash   \n",
       "3                                   Kahaani   \n",
       "4                                Marine Boy   \n",
       "5    Pinocchio and the Emperor of the Night   \n",
       "6                            The Possession   \n",
       "7                              Control Room   \n",
       "8                    Muppet Treasure Island   \n",
       "9                             A Mighty Wind   \n",
       "\n",
       "                                            Keywords  \\\n",
       "0  [{'id': 4379, 'name': 'time travel'}, {'id': 9...   \n",
       "1  [{'id': 2505, 'name': 'coronation'}, {'id': 42...   \n",
       "2  [{'id': 1416, 'name': 'jazz'}, {'id': 1523, 'n...   \n",
       "3  [{'id': 10092, 'name': 'mystery'}, {'id': 1054...   \n",
       "4                                                NaN   \n",
       "5                                                NaN   \n",
       "6                                                NaN   \n",
       "7  [{'id': 917, 'name': 'journalism'}, {'id': 163...   \n",
       "8  [{'id': 2041, 'name': 'island'}, {'id': 4418, ...   \n",
       "9  [{'id': 11800, 'name': 'mockumentary'}, {'id':...   \n",
       "\n",
       "                                                cast  \\\n",
       "0  [{'cast_id': 4, 'character': 'Lou', 'credit_id...   \n",
       "1  [{'cast_id': 1, 'character': 'Mia Thermopolis'...   \n",
       "2  [{'cast_id': 5, 'character': 'Andrew Neimann',...   \n",
       "3  [{'cast_id': 1, 'character': 'Vidya Bagchi', '...   \n",
       "4  [{'cast_id': 3, 'character': 'Chun-soo', 'cred...   \n",
       "5  [{'cast_id': 6, 'character': 'Pinocchio (voice...   \n",
       "6  [{'cast_id': 23, 'character': 'Clyde', 'credit...   \n",
       "7  [{'cast_id': 2, 'character': 'Himself', 'credi...   \n",
       "8  [{'cast_id': 1, 'character': 'Long John Silver...   \n",
       "9  [{'cast_id': 24, 'character': 'Jonathan Steinb...   \n",
       "\n",
       "                                                crew   revenue  \n",
       "0  [{'credit_id': '59ac067c92514107af02c8c8', 'de...  12314651  \n",
       "1  [{'credit_id': '52fe43fe9251416c7502563d', 'de...  95149435  \n",
       "2  [{'credit_id': '54d5356ec3a3683ba0000039', 'de...  13092000  \n",
       "3  [{'credit_id': '52fe48779251416c9108d6eb', 'de...  16000000  \n",
       "4  [{'credit_id': '52fe464b9251416c75073b43', 'de...   3923970  \n",
       "5  [{'credit_id': '52fe46f49251416c9106558b', 'de...   3261638  \n",
       "6  [{'credit_id': '52fe4981c3a368484e12ee29', 'de...  85446075  \n",
       "7  [{'credit_id': '52fe47a69251416c750a0daf', 'de...   2586511  \n",
       "8  [{'credit_id': '52fe43c89251416c7501deb3', 'de...  34327391  \n",
       "9  [{'credit_id': '52fe45609251416c750545b3', 'de...  18750246  \n",
       "\n",
       "[10 rows x 23 columns]"
      ]
     },
     "execution_count": 3,
     "metadata": {},
     "output_type": "execute_result"
    }
   ],
   "source": [
    "train.head(n=10)"
   ]
  },
  {
   "cell_type": "markdown",
   "metadata": {},
   "source": [
    "As we can see that some features have dictiories. I am droping all such columns for now."
   ]
  },
  {
   "cell_type": "code",
   "execution_count": 4,
   "metadata": {
    "ExecuteTime": {
     "end_time": "2020-08-19T14:01:38.455480Z",
     "start_time": "2020-08-19T14:01:38.433204Z"
    }
   },
   "outputs": [],
   "source": [
    "train = train.drop(['belongs_to_collection', 'genres', 'crew', 'cast', 'Keywords', \n",
    "                  'spoken_languages', 'production_companies', 'production_countries', 'tagline','overview','homepage'], axis=1)"
   ]
  },
  {
   "cell_type": "markdown",
   "metadata": {},
   "source": [
    "Lets have some statastics of data."
   ]
  },
  {
   "cell_type": "code",
   "execution_count": 5,
   "metadata": {
    "ExecuteTime": {
     "end_time": "2020-08-19T14:01:38.511915Z",
     "start_time": "2020-08-19T14:01:38.467544Z"
    }
   },
   "outputs": [
    {
     "name": "stdout",
     "output_type": "stream",
     "text": [
      "Shape of data is \n"
     ]
    },
    {
     "data": {
      "text/plain": [
       "(3000, 12)"
      ]
     },
     "execution_count": 5,
     "metadata": {},
     "output_type": "execute_result"
    }
   ],
   "source": [
    "print(\"Shape of data is \")\n",
    "train.shape"
   ]
  },
  {
   "cell_type": "code",
   "execution_count": 6,
   "metadata": {
    "ExecuteTime": {
     "end_time": "2020-08-19T14:01:38.546402Z",
     "start_time": "2020-08-19T14:01:38.519225Z"
    }
   },
   "outputs": [
    {
     "name": "stdout",
     "output_type": "stream",
     "text": [
      "<class 'pandas.core.frame.DataFrame'>\n",
      "RangeIndex: 3000 entries, 0 to 2999\n",
      "Data columns (total 12 columns):\n",
      " #   Column             Non-Null Count  Dtype  \n",
      "---  ------             --------------  -----  \n",
      " 0   id                 3000 non-null   int64  \n",
      " 1   budget             3000 non-null   int64  \n",
      " 2   imdb_id            3000 non-null   object \n",
      " 3   original_language  3000 non-null   object \n",
      " 4   original_title     3000 non-null   object \n",
      " 5   popularity         3000 non-null   float64\n",
      " 6   poster_path        2999 non-null   object \n",
      " 7   release_date       3000 non-null   object \n",
      " 8   runtime            2998 non-null   float64\n",
      " 9   status             3000 non-null   object \n",
      " 10  title              3000 non-null   object \n",
      " 11  revenue            3000 non-null   int64  \n",
      "dtypes: float64(2), int64(3), object(7)\n",
      "memory usage: 281.4+ KB\n"
     ]
    }
   ],
   "source": [
    "train.info()"
   ]
  },
  {
   "cell_type": "code",
   "execution_count": 7,
   "metadata": {
    "ExecuteTime": {
     "end_time": "2020-08-19T14:01:38.685228Z",
     "start_time": "2020-08-19T14:01:38.565234Z"
    }
   },
   "outputs": [
    {
     "data": {
      "text/html": [
       "<div>\n",
       "<style scoped>\n",
       "    .dataframe tbody tr th:only-of-type {\n",
       "        vertical-align: middle;\n",
       "    }\n",
       "\n",
       "    .dataframe tbody tr th {\n",
       "        vertical-align: top;\n",
       "    }\n",
       "\n",
       "    .dataframe thead th {\n",
       "        text-align: right;\n",
       "    }\n",
       "</style>\n",
       "<table border=\"1\" class=\"dataframe\">\n",
       "  <thead>\n",
       "    <tr style=\"text-align: right;\">\n",
       "      <th></th>\n",
       "      <th>id</th>\n",
       "      <th>budget</th>\n",
       "      <th>popularity</th>\n",
       "      <th>runtime</th>\n",
       "      <th>revenue</th>\n",
       "    </tr>\n",
       "  </thead>\n",
       "  <tbody>\n",
       "    <tr>\n",
       "      <th>count</th>\n",
       "      <td>3000.000000</td>\n",
       "      <td>3.000000e+03</td>\n",
       "      <td>3000.000000</td>\n",
       "      <td>2998.000000</td>\n",
       "      <td>3.000000e+03</td>\n",
       "    </tr>\n",
       "    <tr>\n",
       "      <th>mean</th>\n",
       "      <td>1500.500000</td>\n",
       "      <td>2.253133e+07</td>\n",
       "      <td>8.463274</td>\n",
       "      <td>107.856571</td>\n",
       "      <td>6.672585e+07</td>\n",
       "    </tr>\n",
       "    <tr>\n",
       "      <th>std</th>\n",
       "      <td>866.169729</td>\n",
       "      <td>3.702609e+07</td>\n",
       "      <td>12.104000</td>\n",
       "      <td>22.086434</td>\n",
       "      <td>1.375323e+08</td>\n",
       "    </tr>\n",
       "    <tr>\n",
       "      <th>min</th>\n",
       "      <td>1.000000</td>\n",
       "      <td>0.000000e+00</td>\n",
       "      <td>0.000001</td>\n",
       "      <td>0.000000</td>\n",
       "      <td>1.000000e+00</td>\n",
       "    </tr>\n",
       "    <tr>\n",
       "      <th>25%</th>\n",
       "      <td>750.750000</td>\n",
       "      <td>0.000000e+00</td>\n",
       "      <td>4.018053</td>\n",
       "      <td>94.000000</td>\n",
       "      <td>2.379808e+06</td>\n",
       "    </tr>\n",
       "    <tr>\n",
       "      <th>50%</th>\n",
       "      <td>1500.500000</td>\n",
       "      <td>8.000000e+06</td>\n",
       "      <td>7.374861</td>\n",
       "      <td>104.000000</td>\n",
       "      <td>1.680707e+07</td>\n",
       "    </tr>\n",
       "    <tr>\n",
       "      <th>75%</th>\n",
       "      <td>2250.250000</td>\n",
       "      <td>2.900000e+07</td>\n",
       "      <td>10.890983</td>\n",
       "      <td>118.000000</td>\n",
       "      <td>6.891920e+07</td>\n",
       "    </tr>\n",
       "    <tr>\n",
       "      <th>max</th>\n",
       "      <td>3000.000000</td>\n",
       "      <td>3.800000e+08</td>\n",
       "      <td>294.337037</td>\n",
       "      <td>338.000000</td>\n",
       "      <td>1.519558e+09</td>\n",
       "    </tr>\n",
       "  </tbody>\n",
       "</table>\n",
       "</div>"
      ],
      "text/plain": [
       "                id        budget   popularity      runtime       revenue\n",
       "count  3000.000000  3.000000e+03  3000.000000  2998.000000  3.000000e+03\n",
       "mean   1500.500000  2.253133e+07     8.463274   107.856571  6.672585e+07\n",
       "std     866.169729  3.702609e+07    12.104000    22.086434  1.375323e+08\n",
       "min       1.000000  0.000000e+00     0.000001     0.000000  1.000000e+00\n",
       "25%     750.750000  0.000000e+00     4.018053    94.000000  2.379808e+06\n",
       "50%    1500.500000  8.000000e+06     7.374861   104.000000  1.680707e+07\n",
       "75%    2250.250000  2.900000e+07    10.890983   118.000000  6.891920e+07\n",
       "max    3000.000000  3.800000e+08   294.337037   338.000000  1.519558e+09"
      ]
     },
     "execution_count": 7,
     "metadata": {},
     "output_type": "execute_result"
    }
   ],
   "source": [
    "train.describe()"
   ]
  },
  {
   "cell_type": "code",
   "execution_count": 8,
   "metadata": {
    "ExecuteTime": {
     "end_time": "2020-08-19T14:01:38.755757Z",
     "start_time": "2020-08-19T14:01:38.731603Z"
    }
   },
   "outputs": [
    {
     "data": {
      "text/plain": [
       "id                   0\n",
       "budget               0\n",
       "imdb_id              0\n",
       "original_language    0\n",
       "original_title       0\n",
       "popularity           0\n",
       "poster_path          1\n",
       "release_date         0\n",
       "runtime              2\n",
       "status               0\n",
       "title                0\n",
       "revenue              0\n",
       "dtype: int64"
      ]
     },
     "execution_count": 8,
     "metadata": {},
     "output_type": "execute_result"
    }
   ],
   "source": [
    "# checking NULL value\n",
    "\n",
    "train.isnull().sum()"
   ]
  },
  {
   "cell_type": "markdown",
   "metadata": {},
   "source": [
    "## Create new Column for release day, date, month and year."
   ]
  },
  {
   "cell_type": "code",
   "execution_count": 9,
   "metadata": {
    "ExecuteTime": {
     "end_time": "2020-08-19T14:01:39.496829Z",
     "start_time": "2020-08-19T14:01:38.799516Z"
    }
   },
   "outputs": [],
   "source": [
    "train['release_date'] = pd.to_datetime(train['release_date'], infer_datetime_format=True)\n",
    "train['release_day'] = train['release_date'].apply(lambda t: t.day)\n",
    "train['release_weekday'] = train['release_date'].apply(lambda t: t.weekday())\n",
    "train['release_month'] = train['release_date'].apply(lambda t: t.month)\n",
    "\n",
    "# Year was being interpreted as future dates in some cases so I had to adjust some values\n",
    "train['release_year'] = train['release_date'].apply(lambda t: t.year if t.year < 2018 else t.year -100)"
   ]
  },
  {
   "cell_type": "markdown",
   "metadata": {},
   "source": [
    "# Data Analysis and Visualization"
   ]
  },
  {
   "cell_type": "markdown",
   "metadata": {},
   "source": [
    "## 1. Which movie made the highest revenue?"
   ]
  },
  {
   "cell_type": "code",
   "execution_count": 10,
   "metadata": {
    "ExecuteTime": {
     "end_time": "2020-08-19T14:01:39.557029Z",
     "start_time": "2020-08-19T14:01:39.500486Z"
    }
   },
   "outputs": [
    {
     "data": {
      "text/html": [
       "<div>\n",
       "<style scoped>\n",
       "    .dataframe tbody tr th:only-of-type {\n",
       "        vertical-align: middle;\n",
       "    }\n",
       "\n",
       "    .dataframe tbody tr th {\n",
       "        vertical-align: top;\n",
       "    }\n",
       "\n",
       "    .dataframe thead th {\n",
       "        text-align: right;\n",
       "    }\n",
       "</style>\n",
       "<table border=\"1\" class=\"dataframe\">\n",
       "  <thead>\n",
       "    <tr style=\"text-align: right;\">\n",
       "      <th></th>\n",
       "      <th>id</th>\n",
       "      <th>budget</th>\n",
       "      <th>imdb_id</th>\n",
       "      <th>original_language</th>\n",
       "      <th>original_title</th>\n",
       "      <th>popularity</th>\n",
       "      <th>poster_path</th>\n",
       "      <th>release_date</th>\n",
       "      <th>runtime</th>\n",
       "      <th>status</th>\n",
       "      <th>title</th>\n",
       "      <th>revenue</th>\n",
       "      <th>release_day</th>\n",
       "      <th>release_weekday</th>\n",
       "      <th>release_month</th>\n",
       "      <th>release_year</th>\n",
       "    </tr>\n",
       "  </thead>\n",
       "  <tbody>\n",
       "    <tr>\n",
       "      <th>1126</th>\n",
       "      <td>1127</td>\n",
       "      <td>220000000</td>\n",
       "      <td>tt0848228</td>\n",
       "      <td>en</td>\n",
       "      <td>The Avengers</td>\n",
       "      <td>89.887648</td>\n",
       "      <td>/cezWGskPY5x7GaglTTRN4Fugfb8.jpg</td>\n",
       "      <td>2012-04-25</td>\n",
       "      <td>143.0</td>\n",
       "      <td>Released</td>\n",
       "      <td>The Avengers</td>\n",
       "      <td>1519557910</td>\n",
       "      <td>25</td>\n",
       "      <td>2</td>\n",
       "      <td>4</td>\n",
       "      <td>2012</td>\n",
       "    </tr>\n",
       "  </tbody>\n",
       "</table>\n",
       "</div>"
      ],
      "text/plain": [
       "        id     budget    imdb_id original_language original_title  popularity  \\\n",
       "1126  1127  220000000  tt0848228                en   The Avengers   89.887648   \n",
       "\n",
       "                           poster_path release_date  runtime    status  \\\n",
       "1126  /cezWGskPY5x7GaglTTRN4Fugfb8.jpg   2012-04-25    143.0  Released   \n",
       "\n",
       "             title     revenue  release_day  release_weekday  release_month  \\\n",
       "1126  The Avengers  1519557910           25                2              4   \n",
       "\n",
       "      release_year  \n",
       "1126          2012  "
      ]
     },
     "execution_count": 10,
     "metadata": {},
     "output_type": "execute_result"
    }
   ],
   "source": [
    "train[train['revenue'] == train['revenue'].max()]"
   ]
  },
  {
   "cell_type": "code",
   "execution_count": 11,
   "metadata": {
    "ExecuteTime": {
     "end_time": "2020-08-19T14:01:40.348430Z",
     "start_time": "2020-08-19T14:01:39.573374Z"
    }
   },
   "outputs": [
    {
     "data": {
      "text/html": [
       "<style  type=\"text/css\" >\n",
       "    #T_813fb1a4_e224_11ea_86b8_2cf0ee25c1aerow0_col3 {\n",
       "            background-color:  #00441b;\n",
       "            color:  #f1f1f1;\n",
       "        }    #T_813fb1a4_e224_11ea_86b8_2cf0ee25c1aerow1_col3 {\n",
       "            background-color:  #004c1e;\n",
       "            color:  #f1f1f1;\n",
       "        }    #T_813fb1a4_e224_11ea_86b8_2cf0ee25c1aerow2_col3 {\n",
       "            background-color:  #1d8640;\n",
       "            color:  #000000;\n",
       "        }    #T_813fb1a4_e224_11ea_86b8_2cf0ee25c1aerow3_col3 {\n",
       "            background-color:  #6dc5a9;\n",
       "            color:  #000000;\n",
       "        }    #T_813fb1a4_e224_11ea_86b8_2cf0ee25c1aerow4_col3 {\n",
       "            background-color:  #d6f0ee;\n",
       "            color:  #000000;\n",
       "        }    #T_813fb1a4_e224_11ea_86b8_2cf0ee25c1aerow5_col3 {\n",
       "            background-color:  #e5f5f9;\n",
       "            color:  #000000;\n",
       "        }    #T_813fb1a4_e224_11ea_86b8_2cf0ee25c1aerow6_col3 {\n",
       "            background-color:  #f1fafc;\n",
       "            color:  #000000;\n",
       "        }    #T_813fb1a4_e224_11ea_86b8_2cf0ee25c1aerow7_col3 {\n",
       "            background-color:  #f6fcfd;\n",
       "            color:  #000000;\n",
       "        }    #T_813fb1a4_e224_11ea_86b8_2cf0ee25c1aerow8_col3 {\n",
       "            background-color:  #f7fcfd;\n",
       "            color:  #000000;\n",
       "        }    #T_813fb1a4_e224_11ea_86b8_2cf0ee25c1aerow9_col3 {\n",
       "            background-color:  #f7fcfd;\n",
       "            color:  #000000;\n",
       "        }</style><table id=\"T_813fb1a4_e224_11ea_86b8_2cf0ee25c1ae\" ><thead>    <tr>        <th class=\"blank level0\" ></th>        <th class=\"col_heading level0 col0\" >id</th>        <th class=\"col_heading level0 col1\" >title</th>        <th class=\"col_heading level0 col2\" >budget</th>        <th class=\"col_heading level0 col3\" >revenue</th>    </tr></thead><tbody>\n",
       "                <tr>\n",
       "                        <th id=\"T_813fb1a4_e224_11ea_86b8_2cf0ee25c1aelevel0_row0\" class=\"row_heading level0 row0\" >1126</th>\n",
       "                        <td id=\"T_813fb1a4_e224_11ea_86b8_2cf0ee25c1aerow0_col0\" class=\"data row0 col0\" >1127</td>\n",
       "                        <td id=\"T_813fb1a4_e224_11ea_86b8_2cf0ee25c1aerow0_col1\" class=\"data row0 col1\" >The Avengers</td>\n",
       "                        <td id=\"T_813fb1a4_e224_11ea_86b8_2cf0ee25c1aerow0_col2\" class=\"data row0 col2\" >220000000</td>\n",
       "                        <td id=\"T_813fb1a4_e224_11ea_86b8_2cf0ee25c1aerow0_col3\" class=\"data row0 col3\" >1519557910</td>\n",
       "            </tr>\n",
       "            <tr>\n",
       "                        <th id=\"T_813fb1a4_e224_11ea_86b8_2cf0ee25c1aelevel0_row1\" class=\"row_heading level0 row1\" >1761</th>\n",
       "                        <td id=\"T_813fb1a4_e224_11ea_86b8_2cf0ee25c1aerow1_col0\" class=\"data row1 col0\" >1762</td>\n",
       "                        <td id=\"T_813fb1a4_e224_11ea_86b8_2cf0ee25c1aerow1_col1\" class=\"data row1 col1\" >Furious 7</td>\n",
       "                        <td id=\"T_813fb1a4_e224_11ea_86b8_2cf0ee25c1aerow1_col2\" class=\"data row1 col2\" >190000000</td>\n",
       "                        <td id=\"T_813fb1a4_e224_11ea_86b8_2cf0ee25c1aerow1_col3\" class=\"data row1 col3\" >1506249360</td>\n",
       "            </tr>\n",
       "            <tr>\n",
       "                        <th id=\"T_813fb1a4_e224_11ea_86b8_2cf0ee25c1aelevel0_row2\" class=\"row_heading level0 row2\" >2770</th>\n",
       "                        <td id=\"T_813fb1a4_e224_11ea_86b8_2cf0ee25c1aerow2_col0\" class=\"data row2 col0\" >2771</td>\n",
       "                        <td id=\"T_813fb1a4_e224_11ea_86b8_2cf0ee25c1aerow2_col1\" class=\"data row2 col1\" >Avengers: Age of Ultron</td>\n",
       "                        <td id=\"T_813fb1a4_e224_11ea_86b8_2cf0ee25c1aerow2_col2\" class=\"data row2 col2\" >280000000</td>\n",
       "                        <td id=\"T_813fb1a4_e224_11ea_86b8_2cf0ee25c1aerow2_col3\" class=\"data row2 col3\" >1405403694</td>\n",
       "            </tr>\n",
       "            <tr>\n",
       "                        <th id=\"T_813fb1a4_e224_11ea_86b8_2cf0ee25c1aelevel0_row3\" class=\"row_heading level0 row3\" >684</th>\n",
       "                        <td id=\"T_813fb1a4_e224_11ea_86b8_2cf0ee25c1aerow3_col0\" class=\"data row3 col0\" >685</td>\n",
       "                        <td id=\"T_813fb1a4_e224_11ea_86b8_2cf0ee25c1aerow3_col1\" class=\"data row3 col1\" >Beauty and the Beast</td>\n",
       "                        <td id=\"T_813fb1a4_e224_11ea_86b8_2cf0ee25c1aerow3_col2\" class=\"data row3 col2\" >160000000</td>\n",
       "                        <td id=\"T_813fb1a4_e224_11ea_86b8_2cf0ee25c1aerow3_col3\" class=\"data row3 col3\" >1262886337</td>\n",
       "            </tr>\n",
       "            <tr>\n",
       "                        <th id=\"T_813fb1a4_e224_11ea_86b8_2cf0ee25c1aelevel0_row4\" class=\"row_heading level0 row4\" >2322</th>\n",
       "                        <td id=\"T_813fb1a4_e224_11ea_86b8_2cf0ee25c1aerow4_col0\" class=\"data row4 col0\" >2323</td>\n",
       "                        <td id=\"T_813fb1a4_e224_11ea_86b8_2cf0ee25c1aerow4_col1\" class=\"data row4 col1\" >Transformers: Dark of the Moon</td>\n",
       "                        <td id=\"T_813fb1a4_e224_11ea_86b8_2cf0ee25c1aerow4_col2\" class=\"data row4 col2\" >195000000</td>\n",
       "                        <td id=\"T_813fb1a4_e224_11ea_86b8_2cf0ee25c1aerow4_col3\" class=\"data row4 col3\" >1123746996</td>\n",
       "            </tr>\n",
       "            <tr>\n",
       "                        <th id=\"T_813fb1a4_e224_11ea_86b8_2cf0ee25c1aelevel0_row5\" class=\"row_heading level0 row5\" >906</th>\n",
       "                        <td id=\"T_813fb1a4_e224_11ea_86b8_2cf0ee25c1aerow5_col0\" class=\"data row5 col0\" >907</td>\n",
       "                        <td id=\"T_813fb1a4_e224_11ea_86b8_2cf0ee25c1aerow5_col1\" class=\"data row5 col1\" >The Dark Knight Rises</td>\n",
       "                        <td id=\"T_813fb1a4_e224_11ea_86b8_2cf0ee25c1aerow5_col2\" class=\"data row5 col2\" >250000000</td>\n",
       "                        <td id=\"T_813fb1a4_e224_11ea_86b8_2cf0ee25c1aerow5_col3\" class=\"data row5 col3\" >1084939099</td>\n",
       "            </tr>\n",
       "            <tr>\n",
       "                        <th id=\"T_813fb1a4_e224_11ea_86b8_2cf0ee25c1aelevel0_row6\" class=\"row_heading level0 row6\" >2135</th>\n",
       "                        <td id=\"T_813fb1a4_e224_11ea_86b8_2cf0ee25c1aerow6_col0\" class=\"data row6 col0\" >2136</td>\n",
       "                        <td id=\"T_813fb1a4_e224_11ea_86b8_2cf0ee25c1aerow6_col1\" class=\"data row6 col1\" >Pirates of the Caribbean: On Stranger Tides</td>\n",
       "                        <td id=\"T_813fb1a4_e224_11ea_86b8_2cf0ee25c1aerow6_col2\" class=\"data row6 col2\" >380000000</td>\n",
       "                        <td id=\"T_813fb1a4_e224_11ea_86b8_2cf0ee25c1aerow6_col3\" class=\"data row6 col3\" >1045713802</td>\n",
       "            </tr>\n",
       "            <tr>\n",
       "                        <th id=\"T_813fb1a4_e224_11ea_86b8_2cf0ee25c1aelevel0_row7\" class=\"row_heading level0 row7\" >2562</th>\n",
       "                        <td id=\"T_813fb1a4_e224_11ea_86b8_2cf0ee25c1aerow7_col0\" class=\"data row7 col0\" >2563</td>\n",
       "                        <td id=\"T_813fb1a4_e224_11ea_86b8_2cf0ee25c1aerow7_col1\" class=\"data row7 col1\" >Finding Dory</td>\n",
       "                        <td id=\"T_813fb1a4_e224_11ea_86b8_2cf0ee25c1aerow7_col2\" class=\"data row7 col2\" >200000000</td>\n",
       "                        <td id=\"T_813fb1a4_e224_11ea_86b8_2cf0ee25c1aerow7_col3\" class=\"data row7 col3\" >1028570889</td>\n",
       "            </tr>\n",
       "            <tr>\n",
       "                        <th id=\"T_813fb1a4_e224_11ea_86b8_2cf0ee25c1aelevel0_row8\" class=\"row_heading level0 row8\" >881</th>\n",
       "                        <td id=\"T_813fb1a4_e224_11ea_86b8_2cf0ee25c1aerow8_col0\" class=\"data row8 col0\" >882</td>\n",
       "                        <td id=\"T_813fb1a4_e224_11ea_86b8_2cf0ee25c1aerow8_col1\" class=\"data row8 col1\" >Alice in Wonderland</td>\n",
       "                        <td id=\"T_813fb1a4_e224_11ea_86b8_2cf0ee25c1aerow8_col2\" class=\"data row8 col2\" >200000000</td>\n",
       "                        <td id=\"T_813fb1a4_e224_11ea_86b8_2cf0ee25c1aerow8_col3\" class=\"data row8 col3\" >1025491110</td>\n",
       "            </tr>\n",
       "            <tr>\n",
       "                        <th id=\"T_813fb1a4_e224_11ea_86b8_2cf0ee25c1aelevel0_row9\" class=\"row_heading level0 row9\" >734</th>\n",
       "                        <td id=\"T_813fb1a4_e224_11ea_86b8_2cf0ee25c1aerow9_col0\" class=\"data row9 col0\" >735</td>\n",
       "                        <td id=\"T_813fb1a4_e224_11ea_86b8_2cf0ee25c1aerow9_col1\" class=\"data row9 col1\" >Zootopia</td>\n",
       "                        <td id=\"T_813fb1a4_e224_11ea_86b8_2cf0ee25c1aerow9_col2\" class=\"data row9 col2\" >150000000</td>\n",
       "                        <td id=\"T_813fb1a4_e224_11ea_86b8_2cf0ee25c1aerow9_col3\" class=\"data row9 col3\" >1023784195</td>\n",
       "            </tr>\n",
       "    </tbody></table>"
      ],
      "text/plain": [
       "<pandas.io.formats.style.Styler at 0x7fcc8946e3d0>"
      ]
     },
     "execution_count": 11,
     "metadata": {},
     "output_type": "execute_result"
    }
   ],
   "source": [
    "train[['id','title','budget','revenue']].sort_values(['revenue'], ascending=False).head(10).style.background_gradient(subset='revenue', cmap='BuGn')"
   ]
  },
  {
   "cell_type": "markdown",
   "metadata": {},
   "source": [
    "### The Avengers made the highest revenue."
   ]
  },
  {
   "cell_type": "markdown",
   "metadata": {
    "ExecuteTime": {
     "end_time": "2020-08-18T05:38:17.986439Z",
     "start_time": "2020-08-18T05:38:17.982550Z"
    }
   },
   "source": [
    "## 2. Which movie is the most expensive?"
   ]
  },
  {
   "cell_type": "code",
   "execution_count": 12,
   "metadata": {
    "ExecuteTime": {
     "end_time": "2020-08-19T14:01:40.446211Z",
     "start_time": "2020-08-19T14:01:40.373918Z"
    }
   },
   "outputs": [
    {
     "data": {
      "text/html": [
       "<div>\n",
       "<style scoped>\n",
       "    .dataframe tbody tr th:only-of-type {\n",
       "        vertical-align: middle;\n",
       "    }\n",
       "\n",
       "    .dataframe tbody tr th {\n",
       "        vertical-align: top;\n",
       "    }\n",
       "\n",
       "    .dataframe thead th {\n",
       "        text-align: right;\n",
       "    }\n",
       "</style>\n",
       "<table border=\"1\" class=\"dataframe\">\n",
       "  <thead>\n",
       "    <tr style=\"text-align: right;\">\n",
       "      <th></th>\n",
       "      <th>id</th>\n",
       "      <th>budget</th>\n",
       "      <th>imdb_id</th>\n",
       "      <th>original_language</th>\n",
       "      <th>original_title</th>\n",
       "      <th>popularity</th>\n",
       "      <th>poster_path</th>\n",
       "      <th>release_date</th>\n",
       "      <th>runtime</th>\n",
       "      <th>status</th>\n",
       "      <th>title</th>\n",
       "      <th>revenue</th>\n",
       "      <th>release_day</th>\n",
       "      <th>release_weekday</th>\n",
       "      <th>release_month</th>\n",
       "      <th>release_year</th>\n",
       "    </tr>\n",
       "  </thead>\n",
       "  <tbody>\n",
       "    <tr>\n",
       "      <th>2135</th>\n",
       "      <td>2136</td>\n",
       "      <td>380000000</td>\n",
       "      <td>tt1298650</td>\n",
       "      <td>en</td>\n",
       "      <td>Pirates of the Caribbean: On Stranger Tides</td>\n",
       "      <td>27.88772</td>\n",
       "      <td>/wNUDAq5OUMOtxMlz64YaCp7gZma.jpg</td>\n",
       "      <td>2011-05-14</td>\n",
       "      <td>136.0</td>\n",
       "      <td>Released</td>\n",
       "      <td>Pirates of the Caribbean: On Stranger Tides</td>\n",
       "      <td>1045713802</td>\n",
       "      <td>14</td>\n",
       "      <td>5</td>\n",
       "      <td>5</td>\n",
       "      <td>2011</td>\n",
       "    </tr>\n",
       "  </tbody>\n",
       "</table>\n",
       "</div>"
      ],
      "text/plain": [
       "        id     budget    imdb_id original_language  \\\n",
       "2135  2136  380000000  tt1298650                en   \n",
       "\n",
       "                                   original_title  popularity  \\\n",
       "2135  Pirates of the Caribbean: On Stranger Tides    27.88772   \n",
       "\n",
       "                           poster_path release_date  runtime    status  \\\n",
       "2135  /wNUDAq5OUMOtxMlz64YaCp7gZma.jpg   2011-05-14    136.0  Released   \n",
       "\n",
       "                                            title     revenue  release_day  \\\n",
       "2135  Pirates of the Caribbean: On Stranger Tides  1045713802           14   \n",
       "\n",
       "      release_weekday  release_month  release_year  \n",
       "2135                5              5          2011  "
      ]
     },
     "execution_count": 12,
     "metadata": {},
     "output_type": "execute_result"
    }
   ],
   "source": [
    "train[train['budget'] == train['budget'].max()]"
   ]
  },
  {
   "cell_type": "code",
   "execution_count": 13,
   "metadata": {
    "ExecuteTime": {
     "end_time": "2020-08-19T14:01:40.532067Z",
     "start_time": "2020-08-19T14:01:40.461641Z"
    }
   },
   "outputs": [
    {
     "data": {
      "text/html": [
       "<style  type=\"text/css\" >\n",
       "    #T_81598ea8_e224_11ea_86b8_2cf0ee25c1aerow0_col2 {\n",
       "            background-color:  #023858;\n",
       "            color:  #f1f1f1;\n",
       "        }    #T_81598ea8_e224_11ea_86b8_2cf0ee25c1aerow0_col3 {\n",
       "            background-color:  #2182b9;\n",
       "            color:  #000000;\n",
       "        }    #T_81598ea8_e224_11ea_86b8_2cf0ee25c1aerow1_col2 {\n",
       "            background-color:  #a2bcda;\n",
       "            color:  #000000;\n",
       "        }    #T_81598ea8_e224_11ea_86b8_2cf0ee25c1aerow1_col3 {\n",
       "            background-color:  #4094c3;\n",
       "            color:  #000000;\n",
       "        }    #T_81598ea8_e224_11ea_86b8_2cf0ee25c1aerow2_col2 {\n",
       "            background-color:  #d4d4e8;\n",
       "            color:  #000000;\n",
       "        }    #T_81598ea8_e224_11ea_86b8_2cf0ee25c1aerow2_col3 {\n",
       "            background-color:  #023858;\n",
       "            color:  #f1f1f1;\n",
       "        }    #T_81598ea8_e224_11ea_86b8_2cf0ee25c1aerow3_col2 {\n",
       "            background-color:  #e6e2ef;\n",
       "            color:  #000000;\n",
       "        }    #T_81598ea8_e224_11ea_86b8_2cf0ee25c1aerow3_col3 {\n",
       "            background-color:  #f1ebf4;\n",
       "            color:  #000000;\n",
       "        }    #T_81598ea8_e224_11ea_86b8_2cf0ee25c1aerow4_col2 {\n",
       "            background-color:  #f4edf6;\n",
       "            color:  #000000;\n",
       "        }    #T_81598ea8_e224_11ea_86b8_2cf0ee25c1aerow4_col3 {\n",
       "            background-color:  #fff7fb;\n",
       "            color:  #000000;\n",
       "        }    #T_81598ea8_e224_11ea_86b8_2cf0ee25c1aerow5_col2 {\n",
       "            background-color:  #f4edf6;\n",
       "            color:  #000000;\n",
       "        }    #T_81598ea8_e224_11ea_86b8_2cf0ee25c1aerow5_col3 {\n",
       "            background-color:  #c4cbe3;\n",
       "            color:  #000000;\n",
       "        }    #T_81598ea8_e224_11ea_86b8_2cf0ee25c1aerow6_col2 {\n",
       "            background-color:  #fff7fb;\n",
       "            color:  #000000;\n",
       "        }    #T_81598ea8_e224_11ea_86b8_2cf0ee25c1aerow6_col3 {\n",
       "            background-color:  #2987bc;\n",
       "            color:  #000000;\n",
       "        }    #T_81598ea8_e224_11ea_86b8_2cf0ee25c1aerow7_col2 {\n",
       "            background-color:  #fff7fb;\n",
       "            color:  #000000;\n",
       "        }    #T_81598ea8_e224_11ea_86b8_2cf0ee25c1aerow7_col3 {\n",
       "            background-color:  #4c99c5;\n",
       "            color:  #000000;\n",
       "        }    #T_81598ea8_e224_11ea_86b8_2cf0ee25c1aerow8_col2 {\n",
       "            background-color:  #fff7fb;\n",
       "            color:  #000000;\n",
       "        }    #T_81598ea8_e224_11ea_86b8_2cf0ee25c1aerow8_col3 {\n",
       "            background-color:  #1379b5;\n",
       "            color:  #f1f1f1;\n",
       "        }    #T_81598ea8_e224_11ea_86b8_2cf0ee25c1aerow9_col2 {\n",
       "            background-color:  #fff7fb;\n",
       "            color:  #000000;\n",
       "        }    #T_81598ea8_e224_11ea_86b8_2cf0ee25c1aerow9_col3 {\n",
       "            background-color:  #4295c3;\n",
       "            color:  #000000;\n",
       "        }</style><table id=\"T_81598ea8_e224_11ea_86b8_2cf0ee25c1ae\" ><thead>    <tr>        <th class=\"blank level0\" ></th>        <th class=\"col_heading level0 col0\" >id</th>        <th class=\"col_heading level0 col1\" >title</th>        <th class=\"col_heading level0 col2\" >budget</th>        <th class=\"col_heading level0 col3\" >revenue</th>    </tr></thead><tbody>\n",
       "                <tr>\n",
       "                        <th id=\"T_81598ea8_e224_11ea_86b8_2cf0ee25c1aelevel0_row0\" class=\"row_heading level0 row0\" >2135</th>\n",
       "                        <td id=\"T_81598ea8_e224_11ea_86b8_2cf0ee25c1aerow0_col0\" class=\"data row0 col0\" >2136</td>\n",
       "                        <td id=\"T_81598ea8_e224_11ea_86b8_2cf0ee25c1aerow0_col1\" class=\"data row0 col1\" >Pirates of the Caribbean: On Stranger Tides</td>\n",
       "                        <td id=\"T_81598ea8_e224_11ea_86b8_2cf0ee25c1aerow0_col2\" class=\"data row0 col2\" >380000000</td>\n",
       "                        <td id=\"T_81598ea8_e224_11ea_86b8_2cf0ee25c1aerow0_col3\" class=\"data row0 col3\" >1045713802</td>\n",
       "            </tr>\n",
       "            <tr>\n",
       "                        <th id=\"T_81598ea8_e224_11ea_86b8_2cf0ee25c1aelevel0_row1\" class=\"row_heading level0 row1\" >2209</th>\n",
       "                        <td id=\"T_81598ea8_e224_11ea_86b8_2cf0ee25c1aerow1_col0\" class=\"data row1 col0\" >2210</td>\n",
       "                        <td id=\"T_81598ea8_e224_11ea_86b8_2cf0ee25c1aerow1_col1\" class=\"data row1 col1\" >Pirates of the Caribbean: At World's End</td>\n",
       "                        <td id=\"T_81598ea8_e224_11ea_86b8_2cf0ee25c1aerow1_col2\" class=\"data row1 col2\" >300000000</td>\n",
       "                        <td id=\"T_81598ea8_e224_11ea_86b8_2cf0ee25c1aerow1_col3\" class=\"data row1 col3\" >961000000</td>\n",
       "            </tr>\n",
       "            <tr>\n",
       "                        <th id=\"T_81598ea8_e224_11ea_86b8_2cf0ee25c1aelevel0_row2\" class=\"row_heading level0 row2\" >2770</th>\n",
       "                        <td id=\"T_81598ea8_e224_11ea_86b8_2cf0ee25c1aerow2_col0\" class=\"data row2 col0\" >2771</td>\n",
       "                        <td id=\"T_81598ea8_e224_11ea_86b8_2cf0ee25c1aerow2_col1\" class=\"data row2 col1\" >Avengers: Age of Ultron</td>\n",
       "                        <td id=\"T_81598ea8_e224_11ea_86b8_2cf0ee25c1aerow2_col2\" class=\"data row2 col2\" >280000000</td>\n",
       "                        <td id=\"T_81598ea8_e224_11ea_86b8_2cf0ee25c1aerow2_col3\" class=\"data row2 col3\" >1405403694</td>\n",
       "            </tr>\n",
       "            <tr>\n",
       "                        <th id=\"T_81598ea8_e224_11ea_86b8_2cf0ee25c1aelevel0_row3\" class=\"row_heading level0 row3\" >1425</th>\n",
       "                        <td id=\"T_81598ea8_e224_11ea_86b8_2cf0ee25c1aerow3_col0\" class=\"data row3 col0\" >1426</td>\n",
       "                        <td id=\"T_81598ea8_e224_11ea_86b8_2cf0ee25c1aerow3_col1\" class=\"data row3 col1\" >Superman Returns</td>\n",
       "                        <td id=\"T_81598ea8_e224_11ea_86b8_2cf0ee25c1aerow3_col2\" class=\"data row3 col2\" >270000000</td>\n",
       "                        <td id=\"T_81598ea8_e224_11ea_86b8_2cf0ee25c1aerow3_col3\" class=\"data row3 col3\" >391081192</td>\n",
       "            </tr>\n",
       "            <tr>\n",
       "                        <th id=\"T_81598ea8_e224_11ea_86b8_2cf0ee25c1aelevel0_row4\" class=\"row_heading level0 row4\" >1270</th>\n",
       "                        <td id=\"T_81598ea8_e224_11ea_86b8_2cf0ee25c1aerow4_col0\" class=\"data row4 col0\" >1271</td>\n",
       "                        <td id=\"T_81598ea8_e224_11ea_86b8_2cf0ee25c1aerow4_col1\" class=\"data row4 col1\" >John Carter</td>\n",
       "                        <td id=\"T_81598ea8_e224_11ea_86b8_2cf0ee25c1aerow4_col2\" class=\"data row4 col2\" >260000000</td>\n",
       "                        <td id=\"T_81598ea8_e224_11ea_86b8_2cf0ee25c1aerow4_col3\" class=\"data row4 col3\" >284139100</td>\n",
       "            </tr>\n",
       "            <tr>\n",
       "                        <th id=\"T_81598ea8_e224_11ea_86b8_2cf0ee25c1aelevel0_row5\" class=\"row_heading level0 row5\" >1630</th>\n",
       "                        <td id=\"T_81598ea8_e224_11ea_86b8_2cf0ee25c1aerow5_col0\" class=\"data row5 col0\" >1631</td>\n",
       "                        <td id=\"T_81598ea8_e224_11ea_86b8_2cf0ee25c1aerow5_col1\" class=\"data row5 col1\" >Transformers: The Last Knight</td>\n",
       "                        <td id=\"T_81598ea8_e224_11ea_86b8_2cf0ee25c1aerow5_col2\" class=\"data row5 col2\" >260000000</td>\n",
       "                        <td id=\"T_81598ea8_e224_11ea_86b8_2cf0ee25c1aerow5_col3\" class=\"data row5 col3\" >604942143</td>\n",
       "            </tr>\n",
       "            <tr>\n",
       "                        <th id=\"T_81598ea8_e224_11ea_86b8_2cf0ee25c1aelevel0_row6\" class=\"row_heading level0 row6\" >2532</th>\n",
       "                        <td id=\"T_81598ea8_e224_11ea_86b8_2cf0ee25c1aerow6_col0\" class=\"data row6 col0\" >2533</td>\n",
       "                        <td id=\"T_81598ea8_e224_11ea_86b8_2cf0ee25c1aerow6_col1\" class=\"data row6 col1\" >The Hobbit: An Unexpected Journey</td>\n",
       "                        <td id=\"T_81598ea8_e224_11ea_86b8_2cf0ee25c1aerow6_col2\" class=\"data row6 col2\" >250000000</td>\n",
       "                        <td id=\"T_81598ea8_e224_11ea_86b8_2cf0ee25c1aerow6_col3\" class=\"data row6 col3\" >1021103568</td>\n",
       "            </tr>\n",
       "            <tr>\n",
       "                        <th id=\"T_81598ea8_e224_11ea_86b8_2cf0ee25c1aelevel0_row7\" class=\"row_heading level0 row7\" >961</th>\n",
       "                        <td id=\"T_81598ea8_e224_11ea_86b8_2cf0ee25c1aerow7_col0\" class=\"data row7 col0\" >962</td>\n",
       "                        <td id=\"T_81598ea8_e224_11ea_86b8_2cf0ee25c1aerow7_col1\" class=\"data row7 col1\" >Harry Potter and the Half-Blood Prince</td>\n",
       "                        <td id=\"T_81598ea8_e224_11ea_86b8_2cf0ee25c1aerow7_col2\" class=\"data row7 col2\" >250000000</td>\n",
       "                        <td id=\"T_81598ea8_e224_11ea_86b8_2cf0ee25c1aerow7_col3\" class=\"data row7 col3\" >933959197</td>\n",
       "            </tr>\n",
       "            <tr>\n",
       "                        <th id=\"T_81598ea8_e224_11ea_86b8_2cf0ee25c1aelevel0_row8\" class=\"row_heading level0 row8\" >906</th>\n",
       "                        <td id=\"T_81598ea8_e224_11ea_86b8_2cf0ee25c1aerow8_col0\" class=\"data row8 col0\" >907</td>\n",
       "                        <td id=\"T_81598ea8_e224_11ea_86b8_2cf0ee25c1aerow8_col1\" class=\"data row8 col1\" >The Dark Knight Rises</td>\n",
       "                        <td id=\"T_81598ea8_e224_11ea_86b8_2cf0ee25c1aerow8_col2\" class=\"data row8 col2\" >250000000</td>\n",
       "                        <td id=\"T_81598ea8_e224_11ea_86b8_2cf0ee25c1aerow8_col3\" class=\"data row8 col3\" >1084939099</td>\n",
       "            </tr>\n",
       "            <tr>\n",
       "                        <th id=\"T_81598ea8_e224_11ea_86b8_2cf0ee25c1aelevel0_row9\" class=\"row_heading level0 row9\" >666</th>\n",
       "                        <td id=\"T_81598ea8_e224_11ea_86b8_2cf0ee25c1aerow9_col0\" class=\"data row9 col0\" >667</td>\n",
       "                        <td id=\"T_81598ea8_e224_11ea_86b8_2cf0ee25c1aerow9_col1\" class=\"data row9 col1\" >The Hobbit: The Desolation of Smaug</td>\n",
       "                        <td id=\"T_81598ea8_e224_11ea_86b8_2cf0ee25c1aerow9_col2\" class=\"data row9 col2\" >250000000</td>\n",
       "                        <td id=\"T_81598ea8_e224_11ea_86b8_2cf0ee25c1aerow9_col3\" class=\"data row9 col3\" >958400000</td>\n",
       "            </tr>\n",
       "    </tbody></table>"
      ],
      "text/plain": [
       "<pandas.io.formats.style.Styler at 0x7fcc8cbc3640>"
      ]
     },
     "execution_count": 13,
     "metadata": {},
     "output_type": "execute_result"
    }
   ],
   "source": [
    "train[['id','title','budget', 'revenue']].sort_values(['budget'], ascending=False).head(10).style.background_gradient(subset=['budget', 'revenue'], cmap='PuBu')"
   ]
  },
  {
   "cell_type": "markdown",
   "metadata": {},
   "source": [
    "### Pirates of the Caribbean: On Stranger Tides is most expensive movie."
   ]
  },
  {
   "cell_type": "markdown",
   "metadata": {},
   "source": [
    "## 3. Which movie is Longest?"
   ]
  },
  {
   "cell_type": "code",
   "execution_count": 14,
   "metadata": {
    "ExecuteTime": {
     "end_time": "2020-08-19T14:01:40.600082Z",
     "start_time": "2020-08-19T14:01:40.551442Z"
    }
   },
   "outputs": [
    {
     "data": {
      "text/html": [
       "<div>\n",
       "<style scoped>\n",
       "    .dataframe tbody tr th:only-of-type {\n",
       "        vertical-align: middle;\n",
       "    }\n",
       "\n",
       "    .dataframe tbody tr th {\n",
       "        vertical-align: top;\n",
       "    }\n",
       "\n",
       "    .dataframe thead th {\n",
       "        text-align: right;\n",
       "    }\n",
       "</style>\n",
       "<table border=\"1\" class=\"dataframe\">\n",
       "  <thead>\n",
       "    <tr style=\"text-align: right;\">\n",
       "      <th></th>\n",
       "      <th>id</th>\n",
       "      <th>budget</th>\n",
       "      <th>imdb_id</th>\n",
       "      <th>original_language</th>\n",
       "      <th>original_title</th>\n",
       "      <th>popularity</th>\n",
       "      <th>poster_path</th>\n",
       "      <th>release_date</th>\n",
       "      <th>runtime</th>\n",
       "      <th>status</th>\n",
       "      <th>title</th>\n",
       "      <th>revenue</th>\n",
       "      <th>release_day</th>\n",
       "      <th>release_weekday</th>\n",
       "      <th>release_month</th>\n",
       "      <th>release_year</th>\n",
       "    </tr>\n",
       "  </thead>\n",
       "  <tbody>\n",
       "    <tr>\n",
       "      <th>1211</th>\n",
       "      <td>1212</td>\n",
       "      <td>18000000</td>\n",
       "      <td>tt1321865</td>\n",
       "      <td>en</td>\n",
       "      <td>Carlos</td>\n",
       "      <td>4.558075</td>\n",
       "      <td>/obHJeOHn8J5XD049nj7KVSpAMEW.jpg</td>\n",
       "      <td>2010-05-19</td>\n",
       "      <td>338.0</td>\n",
       "      <td>Released</td>\n",
       "      <td>Carlos</td>\n",
       "      <td>871279</td>\n",
       "      <td>19</td>\n",
       "      <td>2</td>\n",
       "      <td>5</td>\n",
       "      <td>2010</td>\n",
       "    </tr>\n",
       "  </tbody>\n",
       "</table>\n",
       "</div>"
      ],
      "text/plain": [
       "        id    budget    imdb_id original_language original_title  popularity  \\\n",
       "1211  1212  18000000  tt1321865                en         Carlos    4.558075   \n",
       "\n",
       "                           poster_path release_date  runtime    status  \\\n",
       "1211  /obHJeOHn8J5XD049nj7KVSpAMEW.jpg   2010-05-19    338.0  Released   \n",
       "\n",
       "       title  revenue  release_day  release_weekday  release_month  \\\n",
       "1211  Carlos   871279           19                2              5   \n",
       "\n",
       "      release_year  \n",
       "1211          2010  "
      ]
     },
     "execution_count": 14,
     "metadata": {},
     "output_type": "execute_result"
    }
   ],
   "source": [
    "train[train['runtime'] == train['runtime'].max()]"
   ]
  },
  {
   "cell_type": "code",
   "execution_count": 15,
   "metadata": {
    "ExecuteTime": {
     "end_time": "2020-08-19T14:01:43.423235Z",
     "start_time": "2020-08-19T14:01:40.615756Z"
    }
   },
   "outputs": [
    {
     "data": {
      "text/plain": [
       "Text(0, 0.5, 'Number of Movies')"
      ]
     },
     "execution_count": 15,
     "metadata": {},
     "output_type": "execute_result"
    },
    {
     "data": {
      "image/png": "[encoded data removed]",
      "text/plain": [
       "<Figure size 432x288 with 1 Axes>"
      ]
     },
     "metadata": {},
     "output_type": "display_data"
    }
   ],
   "source": [
    "plt.hist(train['runtime'].fillna(0) / 60, bins=40);\n",
    "plt.title('Distribution of length of film in hours', fontsize=16, color='white');\n",
    "plt.xlabel('Duration of Movie in Hours')\n",
    "plt.ylabel('Number of Movies')"
   ]
  },
  {
   "cell_type": "code",
   "execution_count": 16,
   "metadata": {
    "ExecuteTime": {
     "end_time": "2020-08-19T14:01:43.530254Z",
     "start_time": "2020-08-19T14:01:43.450615Z"
    }
   },
   "outputs": [
    {
     "data": {
      "text/html": [
       "<style  type=\"text/css\" >\n",
       "    #T_83250e88_e224_11ea_86b8_2cf0ee25c1aerow0_col2 {\n",
       "            background-color:  #004529;\n",
       "            color:  #f1f1f1;\n",
       "        }    #T_83250e88_e224_11ea_86b8_2cf0ee25c1aerow0_col3 {\n",
       "            background-color:  #c9e99c;\n",
       "            color:  #000000;\n",
       "        }    #T_83250e88_e224_11ea_86b8_2cf0ee25c1aerow0_col4 {\n",
       "            background-color:  #ffffe5;\n",
       "            color:  #000000;\n",
       "        }    #T_83250e88_e224_11ea_86b8_2cf0ee25c1aerow1_col2 {\n",
       "            background-color:  #b2df90;\n",
       "            color:  #000000;\n",
       "        }    #T_83250e88_e224_11ea_86b8_2cf0ee25c1aerow1_col3 {\n",
       "            background-color:  #66bd70;\n",
       "            color:  #000000;\n",
       "        }    #T_83250e88_e224_11ea_86b8_2cf0ee25c1aerow1_col4 {\n",
       "            background-color:  #7fc97c;\n",
       "            color:  #000000;\n",
       "        }    #T_83250e88_e224_11ea_86b8_2cf0ee25c1aerow2_col2 {\n",
       "            background-color:  #eef9b3;\n",
       "            color:  #000000;\n",
       "        }    #T_83250e88_e224_11ea_86b8_2cf0ee25c1aerow2_col3 {\n",
       "            background-color:  #e4f4ab;\n",
       "            color:  #000000;\n",
       "        }    #T_83250e88_e224_11ea_86b8_2cf0ee25c1aerow2_col4 {\n",
       "            background-color:  #0b713b;\n",
       "            color:  #f1f1f1;\n",
       "        }    #T_83250e88_e224_11ea_86b8_2cf0ee25c1aerow3_col2 {\n",
       "            background-color:  #f0f9b4;\n",
       "            color:  #000000;\n",
       "        }    #T_83250e88_e224_11ea_86b8_2cf0ee25c1aerow3_col3 {\n",
       "            background-color:  #1a7d40;\n",
       "            color:  #f1f1f1;\n",
       "        }    #T_83250e88_e224_11ea_86b8_2cf0ee25c1aerow3_col4 {\n",
       "            background-color:  #feffde;\n",
       "            color:  #000000;\n",
       "        }    #T_83250e88_e224_11ea_86b8_2cf0ee25c1aerow4_col2 {\n",
       "            background-color:  #f7fcbc;\n",
       "            color:  #000000;\n",
       "        }    #T_83250e88_e224_11ea_86b8_2cf0ee25c1aerow4_col3 {\n",
       "            background-color:  #004529;\n",
       "            color:  #f1f1f1;\n",
       "        }    #T_83250e88_e224_11ea_86b8_2cf0ee25c1aerow4_col4 {\n",
       "            background-color:  #fafdc8;\n",
       "            color:  #000000;\n",
       "        }    #T_83250e88_e224_11ea_86b8_2cf0ee25c1aerow5_col2 {\n",
       "            background-color:  #f8fcbd;\n",
       "            color:  #000000;\n",
       "        }    #T_83250e88_e224_11ea_86b8_2cf0ee25c1aerow5_col3 {\n",
       "            background-color:  #f7fcbc;\n",
       "            color:  #000000;\n",
       "        }    #T_83250e88_e224_11ea_86b8_2cf0ee25c1aerow5_col4 {\n",
       "            background-color:  #f9fdc7;\n",
       "            color:  #000000;\n",
       "        }    #T_83250e88_e224_11ea_86b8_2cf0ee25c1aerow6_col2 {\n",
       "            background-color:  #f8fcc0;\n",
       "            color:  #000000;\n",
       "        }    #T_83250e88_e224_11ea_86b8_2cf0ee25c1aerow6_col3 {\n",
       "            background-color:  #dcf1a5;\n",
       "            color:  #000000;\n",
       "        }    #T_83250e88_e224_11ea_86b8_2cf0ee25c1aerow6_col4 {\n",
       "            background-color:  #004529;\n",
       "            color:  #f1f1f1;\n",
       "        }    #T_83250e88_e224_11ea_86b8_2cf0ee25c1aerow7_col2 {\n",
       "            background-color:  #fafdcc;\n",
       "            color:  #000000;\n",
       "        }    #T_83250e88_e224_11ea_86b8_2cf0ee25c1aerow7_col3 {\n",
       "            background-color:  #ffffe5;\n",
       "            color:  #000000;\n",
       "        }    #T_83250e88_e224_11ea_86b8_2cf0ee25c1aerow7_col4 {\n",
       "            background-color:  #ffffe5;\n",
       "            color:  #000000;\n",
       "        }    #T_83250e88_e224_11ea_86b8_2cf0ee25c1aerow8_col2 {\n",
       "            background-color:  #feffe1;\n",
       "            color:  #000000;\n",
       "        }    #T_83250e88_e224_11ea_86b8_2cf0ee25c1aerow8_col3 {\n",
       "            background-color:  #fdfed9;\n",
       "            color:  #000000;\n",
       "        }    #T_83250e88_e224_11ea_86b8_2cf0ee25c1aerow8_col4 {\n",
       "            background-color:  #fdfedb;\n",
       "            color:  #000000;\n",
       "        }    #T_83250e88_e224_11ea_86b8_2cf0ee25c1aerow9_col2 {\n",
       "            background-color:  #ffffe5;\n",
       "            color:  #000000;\n",
       "        }    #T_83250e88_e224_11ea_86b8_2cf0ee25c1aerow9_col3 {\n",
       "            background-color:  #e9f6af;\n",
       "            color:  #000000;\n",
       "        }    #T_83250e88_e224_11ea_86b8_2cf0ee25c1aerow9_col4 {\n",
       "            background-color:  #9fd788;\n",
       "            color:  #000000;\n",
       "        }</style><table id=\"T_83250e88_e224_11ea_86b8_2cf0ee25c1ae\" ><thead>    <tr>        <th class=\"blank level0\" ></th>        <th class=\"col_heading level0 col0\" >id</th>        <th class=\"col_heading level0 col1\" >title</th>        <th class=\"col_heading level0 col2\" >runtime</th>        <th class=\"col_heading level0 col3\" >budget</th>        <th class=\"col_heading level0 col4\" >revenue</th>    </tr></thead><tbody>\n",
       "                <tr>\n",
       "                        <th id=\"T_83250e88_e224_11ea_86b8_2cf0ee25c1aelevel0_row0\" class=\"row_heading level0 row0\" >1211</th>\n",
       "                        <td id=\"T_83250e88_e224_11ea_86b8_2cf0ee25c1aerow0_col0\" class=\"data row0 col0\" >1212</td>\n",
       "                        <td id=\"T_83250e88_e224_11ea_86b8_2cf0ee25c1aerow0_col1\" class=\"data row0 col1\" >Carlos</td>\n",
       "                        <td id=\"T_83250e88_e224_11ea_86b8_2cf0ee25c1aerow0_col2\" class=\"data row0 col2\" >338.000000</td>\n",
       "                        <td id=\"T_83250e88_e224_11ea_86b8_2cf0ee25c1aerow0_col3\" class=\"data row0 col3\" >18000000</td>\n",
       "                        <td id=\"T_83250e88_e224_11ea_86b8_2cf0ee25c1aerow0_col4\" class=\"data row0 col4\" >871279</td>\n",
       "            </tr>\n",
       "            <tr>\n",
       "                        <th id=\"T_83250e88_e224_11ea_86b8_2cf0ee25c1aelevel0_row1\" class=\"row_heading level0 row1\" >1922</th>\n",
       "                        <td id=\"T_83250e88_e224_11ea_86b8_2cf0ee25c1aerow1_col0\" class=\"data row1 col0\" >1923</td>\n",
       "                        <td id=\"T_83250e88_e224_11ea_86b8_2cf0ee25c1aerow1_col1\" class=\"data row1 col1\" >Cleopatra</td>\n",
       "                        <td id=\"T_83250e88_e224_11ea_86b8_2cf0ee25c1aerow1_col2\" class=\"data row1 col2\" >248.000000</td>\n",
       "                        <td id=\"T_83250e88_e224_11ea_86b8_2cf0ee25c1aerow1_col3\" class=\"data row1 col3\" >31115000</td>\n",
       "                        <td id=\"T_83250e88_e224_11ea_86b8_2cf0ee25c1aerow1_col4\" class=\"data row1 col4\" >71000000</td>\n",
       "            </tr>\n",
       "            <tr>\n",
       "                        <th id=\"T_83250e88_e224_11ea_86b8_2cf0ee25c1aelevel0_row2\" class=\"row_heading level0 row2\" >523</th>\n",
       "                        <td id=\"T_83250e88_e224_11ea_86b8_2cf0ee25c1aerow2_col0\" class=\"data row2 col0\" >524</td>\n",
       "                        <td id=\"T_83250e88_e224_11ea_86b8_2cf0ee25c1aerow2_col1\" class=\"data row2 col1\" >The Ten Commandments</td>\n",
       "                        <td id=\"T_83250e88_e224_11ea_86b8_2cf0ee25c1aerow2_col2\" class=\"data row2 col2\" >220.000000</td>\n",
       "                        <td id=\"T_83250e88_e224_11ea_86b8_2cf0ee25c1aerow2_col3\" class=\"data row2 col3\" >13000000</td>\n",
       "                        <td id=\"T_83250e88_e224_11ea_86b8_2cf0ee25c1aerow2_col4\" class=\"data row2 col4\" >122700000</td>\n",
       "            </tr>\n",
       "            <tr>\n",
       "                        <th id=\"T_83250e88_e224_11ea_86b8_2cf0ee25c1aelevel0_row3\" class=\"row_heading level0 row3\" >1302</th>\n",
       "                        <td id=\"T_83250e88_e224_11ea_86b8_2cf0ee25c1aerow3_col0\" class=\"data row3 col0\" >1303</td>\n",
       "                        <td id=\"T_83250e88_e224_11ea_86b8_2cf0ee25c1aerow3_col1\" class=\"data row3 col1\" >Heaven's Gate</td>\n",
       "                        <td id=\"T_83250e88_e224_11ea_86b8_2cf0ee25c1aerow3_col2\" class=\"data row3 col2\" >219.000000</td>\n",
       "                        <td id=\"T_83250e88_e224_11ea_86b8_2cf0ee25c1aerow3_col3\" class=\"data row3 col3\" >44000000</td>\n",
       "                        <td id=\"T_83250e88_e224_11ea_86b8_2cf0ee25c1aerow3_col4\" class=\"data row3 col4\" >3484331</td>\n",
       "            </tr>\n",
       "            <tr>\n",
       "                        <th id=\"T_83250e88_e224_11ea_86b8_2cf0ee25c1aelevel0_row4\" class=\"row_heading level0 row4\" >1914</th>\n",
       "                        <td id=\"T_83250e88_e224_11ea_86b8_2cf0ee25c1aerow4_col0\" class=\"data row4 col0\" >1915</td>\n",
       "                        <td id=\"T_83250e88_e224_11ea_86b8_2cf0ee25c1aerow4_col1\" class=\"data row4 col1\" >Gods and Generals</td>\n",
       "                        <td id=\"T_83250e88_e224_11ea_86b8_2cf0ee25c1aerow4_col2\" class=\"data row4 col2\" >214.000000</td>\n",
       "                        <td id=\"T_83250e88_e224_11ea_86b8_2cf0ee25c1aerow4_col3\" class=\"data row4 col3\" >56000000</td>\n",
       "                        <td id=\"T_83250e88_e224_11ea_86b8_2cf0ee25c1aerow4_col4\" class=\"data row4 col4\" >12923936</td>\n",
       "            </tr>\n",
       "            <tr>\n",
       "                        <th id=\"T_83250e88_e224_11ea_86b8_2cf0ee25c1aelevel0_row5\" class=\"row_heading level0 row5\" >2353</th>\n",
       "                        <td id=\"T_83250e88_e224_11ea_86b8_2cf0ee25c1aerow5_col0\" class=\"data row5 col0\" >2354</td>\n",
       "                        <td id=\"T_83250e88_e224_11ea_86b8_2cf0ee25c1aerow5_col1\" class=\"data row5 col1\" >Jodhaa Akbar</td>\n",
       "                        <td id=\"T_83250e88_e224_11ea_86b8_2cf0ee25c1aerow5_col2\" class=\"data row5 col2\" >213.000000</td>\n",
       "                        <td id=\"T_83250e88_e224_11ea_86b8_2cf0ee25c1aerow5_col3\" class=\"data row5 col3\" >8376800</td>\n",
       "                        <td id=\"T_83250e88_e224_11ea_86b8_2cf0ee25c1aerow5_col4\" class=\"data row5 col4\" >13000000</td>\n",
       "            </tr>\n",
       "            <tr>\n",
       "                        <th id=\"T_83250e88_e224_11ea_86b8_2cf0ee25c1aelevel0_row6\" class=\"row_heading level0 row6\" >625</th>\n",
       "                        <td id=\"T_83250e88_e224_11ea_86b8_2cf0ee25c1aerow6_col0\" class=\"data row6 col0\" >626</td>\n",
       "                        <td id=\"T_83250e88_e224_11ea_86b8_2cf0ee25c1aerow6_col1\" class=\"data row6 col1\" >Ben-Hur</td>\n",
       "                        <td id=\"T_83250e88_e224_11ea_86b8_2cf0ee25c1aerow6_col2\" class=\"data row6 col2\" >212.000000</td>\n",
       "                        <td id=\"T_83250e88_e224_11ea_86b8_2cf0ee25c1aerow6_col3\" class=\"data row6 col3\" >15000000</td>\n",
       "                        <td id=\"T_83250e88_e224_11ea_86b8_2cf0ee25c1aerow6_col4\" class=\"data row6 col4\" >146900000</td>\n",
       "            </tr>\n",
       "            <tr>\n",
       "                        <th id=\"T_83250e88_e224_11ea_86b8_2cf0ee25c1aelevel0_row7\" class=\"row_heading level0 row7\" >1975</th>\n",
       "                        <td id=\"T_83250e88_e224_11ea_86b8_2cf0ee25c1aerow7_col0\" class=\"data row7 col0\" >1976</td>\n",
       "                        <td id=\"T_83250e88_e224_11ea_86b8_2cf0ee25c1aerow7_col1\" class=\"data row7 col1\" >Chapiteau-Show</td>\n",
       "                        <td id=\"T_83250e88_e224_11ea_86b8_2cf0ee25c1aerow7_col2\" class=\"data row7 col2\" >207.000000</td>\n",
       "                        <td id=\"T_83250e88_e224_11ea_86b8_2cf0ee25c1aerow7_col3\" class=\"data row7 col3\" >2000000</td>\n",
       "                        <td id=\"T_83250e88_e224_11ea_86b8_2cf0ee25c1aerow7_col4\" class=\"data row7 col4\" >393816</td>\n",
       "            </tr>\n",
       "            <tr>\n",
       "                        <th id=\"T_83250e88_e224_11ea_86b8_2cf0ee25c1aelevel0_row8\" class=\"row_heading level0 row8\" >1731</th>\n",
       "                        <td id=\"T_83250e88_e224_11ea_86b8_2cf0ee25c1aerow8_col0\" class=\"data row8 col0\" >1732</td>\n",
       "                        <td id=\"T_83250e88_e224_11ea_86b8_2cf0ee25c1aerow8_col1\" class=\"data row8 col1\" >Hey Ram</td>\n",
       "                        <td id=\"T_83250e88_e224_11ea_86b8_2cf0ee25c1aerow8_col2\" class=\"data row8 col2\" >199.000000</td>\n",
       "                        <td id=\"T_83250e88_e224_11ea_86b8_2cf0ee25c1aerow8_col3\" class=\"data row8 col3\" >3900000</td>\n",
       "                        <td id=\"T_83250e88_e224_11ea_86b8_2cf0ee25c1aerow8_col4\" class=\"data row8 col4\" >4900000</td>\n",
       "            </tr>\n",
       "            <tr>\n",
       "                        <th id=\"T_83250e88_e224_11ea_86b8_2cf0ee25c1aelevel0_row9\" class=\"row_heading level0 row9\" >2120</th>\n",
       "                        <td id=\"T_83250e88_e224_11ea_86b8_2cf0ee25c1aerow9_col0\" class=\"data row9 col0\" >2121</td>\n",
       "                        <td id=\"T_83250e88_e224_11ea_86b8_2cf0ee25c1aerow9_col1\" class=\"data row9 col1\" >Spartacus</td>\n",
       "                        <td id=\"T_83250e88_e224_11ea_86b8_2cf0ee25c1aerow9_col2\" class=\"data row9 col2\" >197.000000</td>\n",
       "                        <td id=\"T_83250e88_e224_11ea_86b8_2cf0ee25c1aerow9_col3\" class=\"data row9 col3\" >12000000</td>\n",
       "                        <td id=\"T_83250e88_e224_11ea_86b8_2cf0ee25c1aerow9_col4\" class=\"data row9 col4\" >60000000</td>\n",
       "            </tr>\n",
       "    </tbody></table>"
      ],
      "text/plain": [
       "<pandas.io.formats.style.Styler at 0x7fcc8cf44a00>"
      ]
     },
     "execution_count": 16,
     "metadata": {},
     "output_type": "execute_result"
    }
   ],
   "source": [
    "train[['id','title','runtime', 'budget', 'revenue']].sort_values(['runtime'],ascending=False).head(10).style.background_gradient(subset=['runtime','budget','revenue'], cmap='YlGn')"
   ]
  },
  {
   "cell_type": "markdown",
   "metadata": {},
   "source": [
    "### Carlos is the longest movie, with 338 minutes (5 hours and 38 minutes) of runtime. "
   ]
  },
  {
   "cell_type": "markdown",
   "metadata": {
    "ExecuteTime": {
     "end_time": "2020-08-18T05:39:06.744725Z",
     "start_time": "2020-08-18T05:39:06.741119Z"
    }
   },
   "source": [
    "## 4. In which year most movies were released?"
   ]
  },
  {
   "cell_type": "code",
   "execution_count": 17,
   "metadata": {
    "ExecuteTime": {
     "end_time": "2020-08-19T14:01:49.781174Z",
     "start_time": "2020-08-19T14:01:43.593408Z"
    }
   },
   "outputs": [
    {
     "data": {
      "image/png": "[encoded data removed]",
      "text/plain": [
       "<Figure size 1440x864 with 1 Axes>"
      ]
     },
     "metadata": {},
     "output_type": "display_data"
    }
   ],
   "source": [
    "plt.figure(figsize=(20,12))\n",
    "edgecolor=(0,0,0),\n",
    "sns.countplot(train['release_year'].sort_values(), palette = \"Dark2\", edgecolor=(0,0,0))\n",
    "plt.title(\"Movie Release count by Year\",fontsize=20)\n",
    "plt.xlabel('Release Year')\n",
    "plt.ylabel('Number of Movies Release')\n",
    "plt.xticks(fontsize=12,rotation=90)\n",
    "plt.show()"
   ]
  },
  {
   "cell_type": "code",
   "execution_count": 18,
   "metadata": {
    "ExecuteTime": {
     "end_time": "2020-08-19T14:01:49.840154Z",
     "start_time": "2020-08-19T14:01:49.794899Z"
    }
   },
   "outputs": [
    {
     "data": {
      "text/plain": [
       "2013    141\n",
       "2015    128\n",
       "2010    126\n",
       "2016    125\n",
       "2012    125\n",
       "Name: release_year, dtype: int64"
      ]
     },
     "execution_count": 18,
     "metadata": {},
     "output_type": "execute_result"
    }
   ],
   "source": [
    "train['release_year'].value_counts().head()"
   ]
  },
  {
   "cell_type": "markdown",
   "metadata": {},
   "source": [
    "### In 2013 total 141 movies were released."
   ]
  },
  {
   "cell_type": "markdown",
   "metadata": {
    "ExecuteTime": {
     "end_time": "2020-08-18T05:39:33.755412Z",
     "start_time": "2020-08-18T05:39:33.752267Z"
    }
   },
   "source": [
    "## 5. Movies with Highest and Lowest ratings."
   ]
  },
  {
   "cell_type": "code",
   "execution_count": 19,
   "metadata": {
    "ExecuteTime": {
     "end_time": "2020-08-19T14:01:49.918583Z",
     "start_time": "2020-08-19T14:01:49.873043Z"
    }
   },
   "outputs": [
    {
     "data": {
      "text/html": [
       "<div>\n",
       "<style scoped>\n",
       "    .dataframe tbody tr th:only-of-type {\n",
       "        vertical-align: middle;\n",
       "    }\n",
       "\n",
       "    .dataframe tbody tr th {\n",
       "        vertical-align: top;\n",
       "    }\n",
       "\n",
       "    .dataframe thead th {\n",
       "        text-align: right;\n",
       "    }\n",
       "</style>\n",
       "<table border=\"1\" class=\"dataframe\">\n",
       "  <thead>\n",
       "    <tr style=\"text-align: right;\">\n",
       "      <th></th>\n",
       "      <th>original_title</th>\n",
       "      <th>popularity</th>\n",
       "      <th>release_date</th>\n",
       "      <th>revenue</th>\n",
       "    </tr>\n",
       "  </thead>\n",
       "  <tbody>\n",
       "    <tr>\n",
       "      <th>518</th>\n",
       "      <td>Wonder Woman</td>\n",
       "      <td>294.337037</td>\n",
       "      <td>2017-05-30</td>\n",
       "      <td>820580447</td>\n",
       "    </tr>\n",
       "  </tbody>\n",
       "</table>\n",
       "</div>"
      ],
      "text/plain": [
       "    original_title  popularity release_date    revenue\n",
       "518   Wonder Woman  294.337037   2017-05-30  820580447"
      ]
     },
     "execution_count": 19,
     "metadata": {},
     "output_type": "execute_result"
    }
   ],
   "source": [
    "train[train['popularity']==train['popularity'].max()][['original_title','popularity','release_date','revenue']]"
   ]
  },
  {
   "cell_type": "code",
   "execution_count": 20,
   "metadata": {
    "ExecuteTime": {
     "end_time": "2020-08-19T14:01:49.978143Z",
     "start_time": "2020-08-19T14:01:49.940042Z"
    }
   },
   "outputs": [
    {
     "data": {
      "text/html": [
       "<div>\n",
       "<style scoped>\n",
       "    .dataframe tbody tr th:only-of-type {\n",
       "        vertical-align: middle;\n",
       "    }\n",
       "\n",
       "    .dataframe tbody tr th {\n",
       "        vertical-align: top;\n",
       "    }\n",
       "\n",
       "    .dataframe thead th {\n",
       "        text-align: right;\n",
       "    }\n",
       "</style>\n",
       "<table border=\"1\" class=\"dataframe\">\n",
       "  <thead>\n",
       "    <tr style=\"text-align: right;\">\n",
       "      <th></th>\n",
       "      <th>original_title</th>\n",
       "      <th>popularity</th>\n",
       "      <th>release_date</th>\n",
       "      <th>revenue</th>\n",
       "    </tr>\n",
       "  </thead>\n",
       "  <tbody>\n",
       "    <tr>\n",
       "      <th>2556</th>\n",
       "      <td>Big Time</td>\n",
       "      <td>0.000001</td>\n",
       "      <td>1988-09-15</td>\n",
       "      <td>148426</td>\n",
       "    </tr>\n",
       "  </tbody>\n",
       "</table>\n",
       "</div>"
      ],
      "text/plain": [
       "     original_title  popularity release_date  revenue\n",
       "2556       Big Time    0.000001   1988-09-15   148426"
      ]
     },
     "execution_count": 20,
     "metadata": {},
     "output_type": "execute_result"
    }
   ],
   "source": [
    "train[train['popularity']==train['popularity'].min()][['original_title','popularity','release_date','revenue']]"
   ]
  },
  {
   "cell_type": "markdown",
   "metadata": {},
   "source": [
    "Lets create popularity distribution plot."
   ]
  },
  {
   "cell_type": "code",
   "execution_count": 21,
   "metadata": {
    "ExecuteTime": {
     "end_time": "2020-08-19T14:01:51.483098Z",
     "start_time": "2020-08-19T14:01:49.989271Z"
    }
   },
   "outputs": [
    {
     "data": {
      "image/png": "[encoded data removed]",
      "text/plain": [
       "<Figure size 1440x864 with 1 Axes>"
      ]
     },
     "metadata": {},
     "output_type": "display_data"
    }
   ],
   "source": [
    "plt.figure(figsize=(20,12))\n",
    "edgecolor=(0,0,0),\n",
    "sns.distplot(train['popularity'], kde=False)\n",
    "plt.title(\"Movie Popularity Count\",fontsize=20)\n",
    "plt.xlabel('Popularity')\n",
    "plt.ylabel('Count')\n",
    "plt.xticks(fontsize=12,rotation=90)\n",
    "plt.show()"
   ]
  },
  {
   "cell_type": "markdown",
   "metadata": {},
   "source": [
    "### Wonder Woman movie have highest popularity of 294.33 whereas Big Time movie have lowest popularity which is 0."
   ]
  },
  {
   "cell_type": "markdown",
   "metadata": {},
   "source": [
    "## 6. In which month most movies are released from 1921 to 2017?"
   ]
  },
  {
   "cell_type": "code",
   "execution_count": 22,
   "metadata": {
    "ExecuteTime": {
     "end_time": "2020-08-19T14:01:52.785536Z",
     "start_time": "2020-08-19T14:01:51.493566Z"
    }
   },
   "outputs": [
    {
     "data": {
      "image/png": "[encoded data removed]",
      "text/plain": [
       "<Figure size 1440x864 with 1 Axes>"
      ]
     },
     "metadata": {},
     "output_type": "display_data"
    }
   ],
   "source": [
    "plt.figure(figsize=(20,12))\n",
    "edgecolor=(0,0,0),\n",
    "sns.countplot(train['release_month'].sort_values(), palette = \"Dark2\", edgecolor=(0,0,0))\n",
    "plt.title(\"Movie Release count by Month\",fontsize=20)\n",
    "plt.xlabel('Release Month')\n",
    "plt.ylabel('Number of Movies Release')\n",
    "plt.xticks(fontsize=12)\n",
    "plt.show()"
   ]
  },
  {
   "cell_type": "code",
   "execution_count": 23,
   "metadata": {
    "ExecuteTime": {
     "end_time": "2020-08-19T14:01:52.849806Z",
     "start_time": "2020-08-19T14:01:52.830634Z"
    }
   },
   "outputs": [
    {
     "data": {
      "text/plain": [
       "9     362\n",
       "10    307\n",
       "12    263\n",
       "8     256\n",
       "4     245\n",
       "3     238\n",
       "6     237\n",
       "2     226\n",
       "5     224\n",
       "11    221\n",
       "1     212\n",
       "7     209\n",
       "Name: release_month, dtype: int64"
      ]
     },
     "execution_count": 23,
     "metadata": {},
     "output_type": "execute_result"
    }
   ],
   "source": [
    "train['release_month'].value_counts()"
   ]
  },
  {
   "cell_type": "markdown",
   "metadata": {},
   "source": [
    "### In september month most movies are relesed which is around 362."
   ]
  },
  {
   "cell_type": "markdown",
   "metadata": {},
   "source": [
    "## 7. On which date of month most movies are released?"
   ]
  },
  {
   "cell_type": "code",
   "execution_count": 24,
   "metadata": {
    "ExecuteTime": {
     "end_time": "2020-08-19T14:01:54.497549Z",
     "start_time": "2020-08-19T14:01:52.872303Z"
    }
   },
   "outputs": [
    {
     "data": {
      "image/png": "[encoded data removed]",
      "text/plain": [
       "<Figure size 1440x864 with 1 Axes>"
      ]
     },
     "metadata": {},
     "output_type": "display_data"
    }
   ],
   "source": [
    "plt.figure(figsize=(20,12))\n",
    "edgecolor=(0,0,0),\n",
    "sns.countplot(train['release_day'].sort_values(), palette = \"Dark2\", edgecolor=(0,0,0))\n",
    "plt.title(\"Movie Release count by Day of Month\",fontsize=20)\n",
    "plt.xlabel('Release Day')\n",
    "plt.ylabel('Number of Movies Release')\n",
    "plt.xticks(fontsize=12)\n",
    "plt.show()"
   ]
  },
  {
   "cell_type": "code",
   "execution_count": 25,
   "metadata": {
    "ExecuteTime": {
     "end_time": "2020-08-19T14:01:54.538451Z",
     "start_time": "2020-08-19T14:01:54.509935Z"
    }
   },
   "outputs": [
    {
     "data": {
      "text/plain": [
       "1     152\n",
       "15    126\n",
       "12    122\n",
       "7     110\n",
       "6     107\n",
       "17    106\n",
       "16    106\n",
       "13    106\n",
       "25    106\n",
       "10    104\n",
       "9     104\n",
       "14    104\n",
       "22    102\n",
       "8     101\n",
       "21     99\n",
       "18     98\n",
       "24     97\n",
       "5      96\n",
       "2      94\n",
       "19     94\n",
       "11     93\n",
       "4      88\n",
       "20     87\n",
       "23     85\n",
       "26     82\n",
       "3      80\n",
       "30     75\n",
       "28     74\n",
       "27     74\n",
       "29     72\n",
       "31     56\n",
       "Name: release_day, dtype: int64"
      ]
     },
     "execution_count": 25,
     "metadata": {},
     "output_type": "execute_result"
    }
   ],
   "source": [
    "train['release_day'].value_counts()"
   ]
  },
  {
   "cell_type": "markdown",
   "metadata": {},
   "source": [
    "### On first date highest number of movies are released, 152."
   ]
  },
  {
   "cell_type": "markdown",
   "metadata": {
    "ExecuteTime": {
     "end_time": "2020-08-18T05:41:09.575522Z",
     "start_time": "2020-08-18T05:41:09.572168Z"
    }
   },
   "source": [
    "## 8. On which day of week most movies are released?"
   ]
  },
  {
   "cell_type": "code",
   "execution_count": 26,
   "metadata": {
    "ExecuteTime": {
     "end_time": "2020-08-19T14:01:55.172959Z",
     "start_time": "2020-08-19T14:01:54.549256Z"
    }
   },
   "outputs": [
    {
     "data": {
      "image/png": "[encoded data removed]",
      "text/plain": [
       "<Figure size 1440x864 with 1 Axes>"
      ]
     },
     "metadata": {},
     "output_type": "display_data"
    }
   ],
   "source": [
    "plt.figure(figsize=(20,12))\n",
    "sns.countplot(train['release_weekday'].sort_values(), palette='Dark2')\n",
    "loc = np.array(range(len(train['release_weekday'].unique())))\n",
    "day_labels = ['Mon', 'Tue', 'Wed', 'Thu', 'Fri', 'Sat', 'Sun']\n",
    "plt.xlabel('Release Day of Week')\n",
    "plt.ylabel('Number of Movies Release')\n",
    "plt.xticks(loc, day_labels, fontsize=12)\n",
    "plt.show()"
   ]
  },
  {
   "cell_type": "code",
   "execution_count": 27,
   "metadata": {
    "ExecuteTime": {
     "end_time": "2020-08-19T14:01:55.215959Z",
     "start_time": "2020-08-19T14:01:55.187945Z"
    }
   },
   "outputs": [
    {
     "data": {
      "text/plain": [
       "4    1334\n",
       "3     609\n",
       "2     449\n",
       "1     196\n",
       "5     158\n",
       "0     135\n",
       "6     119\n",
       "Name: release_weekday, dtype: int64"
      ]
     },
     "execution_count": 27,
     "metadata": {},
     "output_type": "execute_result"
    }
   ],
   "source": [
    "train['release_weekday'].value_counts()"
   ]
  },
  {
   "cell_type": "markdown",
   "metadata": {},
   "source": [
    "### Highest number of movies released on friday."
   ]
  }
 ],
 "metadata": {
  "kernelspec": {
   "display_name": "Python 3",
   "language": "python",
   "name": "python3"
  },
  "language_info": {
   "codemirror_mode": {
    "name": "ipython",
    "version": 3
   },
   "file_extension": ".py",
   "mimetype": "text/x-python",
   "name": "python",
   "nbconvert_exporter": "python",
   "pygments_lexer": "ipython3",
   "version": "3.8.4"
  },
  "latex_envs": {
   "LaTeX_envs_menu_present": true,
   "autoclose": false,
   "autocomplete": true,
   "bibliofile": "biblio.bib",
   "cite_by": "apalike",
   "current_citInitial": 1,
   "eqLabelWithNumbers": true,
   "eqNumInitial": 1,
   "hotkeys": {
    "equation": "Ctrl-E",
    "itemize": "Ctrl-I"
   },
   "labels_anchors": false,
   "latex_user_defs": false,
   "report_style_numbering": false,
   "user_envs_cfg": false
  },
  "toc": {
   "base_numbering": 1,
   "nav_menu": {},
   "number_sections": true,
   "sideBar": true,
   "skip_h1_title": false,
   "title_cell": "Table of Contents",
   "title_sidebar": "Contents",
   "toc_cell": false,
   "toc_position": {},
   "toc_section_display": true,
   "toc_window_display": false
  },
  "varInspector": {
   "cols": {
    "lenName": 16,
    "lenType": 16,
    "lenVar": 40
   },
   "kernels_config": {
    "python": {
     "delete_cmd_postfix": "",
     "delete_cmd_prefix": "del ",
     "library": "var_list.py",
     "varRefreshCmd": "print(var_dic_list())"
    },
    "r": {
     "delete_cmd_postfix": ") ",
     "delete_cmd_prefix": "rm(",
     "library": "var_list.r",
     "varRefreshCmd": "cat(var_dic_list()) "
    }
   },
   "types_to_exclude": [
    "module",
    "function",
    "builtin_function_or_method",
    "instance",
    "_Feature"
   ],
   "window_display": false
  }
 },
 "nbformat": 4,
 "nbformat_minor": 4
}
